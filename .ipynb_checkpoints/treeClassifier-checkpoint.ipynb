{
 "cells": [
  {
   "cell_type": "markdown",
   "metadata": {},
   "source": [
    "# Tree Classifier\n",
    "Welcome to the tree classifier notebook!"
   ]
  },
  {
   "cell_type": "code",
   "execution_count": 1,
   "metadata": {
    "collapsed": true
   },
   "outputs": [],
   "source": [
    "#These are the needed modules\n",
    "\n",
    "import sys\n",
    "#change these paths to where they are located on your computer\n",
    "sys.path.append(\"/Users/anirudhnatarajan/Documents/UPenn/McNeuron\")\n",
    "sys.path.append(\"/Users/anirudhnatarajan/Documents/UPenn/Actual Trees\")\n",
    "import McNeuron\n",
    "import pickle\n",
    "from random import randint\n",
    "import numpy as np\n",
    "import matplotlib.pyplot as plt\n",
    "import Atree\n",
    "import math\n",
    "%matplotlib inline"
   ]
  },
  {
   "cell_type": "markdown",
   "metadata": {},
   "source": [
    "## Getting the data\n",
    "Get the data and reformat it for easier use."
   ]
  },
  {
   "cell_type": "code",
   "execution_count": 2,
   "metadata": {
    "collapsed": true,
    "scrolled": true
   },
   "outputs": [],
   "source": [
    "# IF THIS IS YOUR FIRST TIME RUNNING TREE CLASSIFIER, UNCOMMENT THESE 2 LINES. ELSE, LEAVE THEM COMMENTED\n",
    "\n",
    "\n",
    "\n",
    "# tree_data = Atree.data_util.pandas_non_missing()\n",
    "# pickle.dump(tree_data, open('.././trees/tree_data.csv', 'wb'))"
   ]
  },
  {
   "cell_type": "code",
   "execution_count": 3,
   "metadata": {
    "collapsed": true
   },
   "outputs": [],
   "source": [
    "tree_data = pickle.load(open('.././trees/tree_data.csv', 'rb'))"
   ]
  },
  {
   "cell_type": "code",
   "execution_count": 4,
   "metadata": {
    "collapsed": true
   },
   "outputs": [],
   "source": [
    "trees = tree_data.sort_values(['location'])\n",
    "trees = trees.reset_index(drop=True)"
   ]
  },
  {
   "cell_type": "markdown",
   "metadata": {},
   "source": [
    "## Convert the data into a usable format\n",
    "Organize the data into the format needed to preform classification"
   ]
  },
  {
   "cell_type": "code",
   "execution_count": 5,
   "metadata": {
    "collapsed": true
   },
   "outputs": [],
   "source": [
    "def splitTrees(location) :\n",
    "    \"\"\"\n",
    "    splitTrees is used to quickly and efficiently split the data into usable chunks\n",
    "\n",
    "    Parameters:\n",
    "    -----------\n",
    "    location: string\n",
    "        the name of the location where the tree is from, matches exactly with the trees dataset, and is a string\n",
    "\n",
    "    Return:\n",
    "    -------\n",
    "    splitTrees returns 2 lists of equal size that contain proper training and testing data\n",
    "\n",
    "    \"\"\"\n",
    "    \n",
    "    ind = np.where(trees['location']==location)[0]\n",
    "    \n",
    "    train = [0] * size\n",
    "    test = [0] * size\n",
    "    rand = np.linspace(0,totalTrees-1,totalTrees)\n",
    "    \n",
    "    for i in range (0,size) :\n",
    "        r = randint(0,len(rand)-1)\n",
    "        neuron = McNeuron.Neuron(trees['swc'][ind[int(rand[r])]])\n",
    "        rand = np.delete(rand,r)\n",
    "        neuron.l_measure_features()\n",
    "        neuron.geometrical_features()\n",
    "        neuron.motif_features()\n",
    "        train[i] = neuron.getNeuronVector()\n",
    "    \n",
    "#     print('half')\n",
    "    for i in range (0,size) :\n",
    "        r = randint(0,len(rand)-1)\n",
    "        neuron = McNeuron.Neuron(trees['swc'][ind[int(rand[r])]])\n",
    "        rand = np.delete(rand,r)\n",
    "        neuron.l_measure_features()\n",
    "        neuron.geometrical_features()\n",
    "        neuron.motif_features()\n",
    "        test[i] = neuron.getNeuronVector()\n",
    "        \n",
    "    return train,test"
   ]
  },
  {
   "cell_type": "code",
   "execution_count": 20,
   "metadata": {
    "scrolled": true
   },
   "outputs": [
    {
     "name": "stdout",
     "output_type": "stream",
     "text": [
      "done\n",
      "done\n",
      "done\n",
      "done\n"
     ]
    }
   ],
   "source": [
    "totalTrees = 20\n",
    "size = int(totalTrees/2)\n",
    "\n",
    "trainG, testG = splitTrees('Gabon')\n",
    "print('done')\n",
    "trainH, testH = splitTrees('Ghana')\n",
    "print('done')\n",
    "trainU, testU = splitTrees('UK')\n",
    "print('done')\n",
    "trainW, testW = splitTrees('Wytham Meteoc (UK)')\n",
    "print('done')"
   ]
  },
  {
   "cell_type": "markdown",
   "metadata": {},
   "source": [
    "## Classification\n",
    "Use the data to train a classifier, and then test its accuracy"
   ]
  },
  {
   "cell_type": "code",
   "execution_count": 8,
   "metadata": {
    "collapsed": true
   },
   "outputs": [],
   "source": [
    "from sklearn import svm\n",
    "from sklearn.ensemble import RandomForestClassifier\n",
    "from sklearn.ensemble import ExtraTreesClassifier\n",
    "from sklearn.tree import DecisionTreeClassifier\n",
    "from sklearn.ensemble import GradientBoostingClassifier\n",
    "from sklearn.ensemble import BaggingClassifier\n",
    "from sklearn import neighbors\n",
    "from sklearn.linear_model import SGDClassifier\n",
    "from sklearn.neural_network import MLPClassifier\n",
    "from sklearn.naive_bayes import GaussianNB\n",
    "from sklearn import linear_model"
   ]
  },
  {
   "cell_type": "code",
   "execution_count": 9,
   "metadata": {
    "collapsed": true
   },
   "outputs": [],
   "source": [
    "def subsetData(arr,q):\n",
    "    \"\"\"\n",
    "    subsetData is used to split the data into lists with only 1 classifying feature in order to test how important each feature is individually for classification\n",
    "\n",
    "    Parameters:\n",
    "    -----------\n",
    "    arr: array or list\n",
    "        the master array that contains all the features\n",
    "    q: int\n",
    "        the index of the desired feature\n",
    "\n",
    "    Return:\n",
    "    -------\n",
    "    subsetData returns an array with only 1 classifying feature\n",
    "\n",
    "    \"\"\"\n",
    "    \n",
    "    x = [0] * size\n",
    "    for i in range(0,size) :\n",
    "        x[i] = arr[i][q]\n",
    "    return x"
   ]
  },
  {
   "cell_type": "code",
   "execution_count": 10,
   "metadata": {
    "scrolled": false
   },
   "outputs": [
    {
     "name": "stdout",
     "output_type": "stream",
     "text": [
      "0.45 0\n",
      "0.525 1\n",
      "0.4 2\n",
      "0.25 3\n",
      "0.25 4\n",
      "0.2 5\n",
      "0.325 6\n",
      "0.575 7\n",
      "0.525 8\n",
      "0.6 9\n",
      "0.55 10\n",
      "0.475 11\n",
      "0.625 12\n",
      "0.85 13\n",
      "0.6 14\n",
      "0.275 15\n",
      "0.625 16\n",
      "0.575 17\n",
      "0.6 18\n",
      "0.575 19\n",
      "0.7 20\n",
      "0.5 21\n",
      "0.55 22\n",
      "0.475 23\n",
      "0.4 24\n",
      "0.375 25\n",
      "0.325 26\n",
      "0.675 27\n",
      "0.425 28\n",
      "0.5 29\n",
      "0.6 30\n"
     ]
    }
   ],
   "source": [
    "\"\"\"\n",
    "This for loop iterates through all of the feaures and prints the accuracy\n",
    "\"\"\"\n",
    "for q in range(0,31) :\n",
    "    a = subsetData(trainG,q)\n",
    "    b = subsetData(trainH,q)\n",
    "    c = subsetData(trainU,q)\n",
    "    d = subsetData(trainW,q)\n",
    "    e = subsetData(testG,q)\n",
    "    f = subsetData(testH,q)\n",
    "    g = subsetData(testU,q)\n",
    "    h = subsetData(testW,q)\n",
    "    train = np.expand_dims(np.concatenate((a,b,c,d)),axis=1)\n",
    "    test = np.expand_dims(np.concatenate((e,f,g,h)),axis=1)\n",
    "\n",
    "    y = np.concatenate(([0] * size,[1] * size,[2] * size,[3] * size))\n",
    "    clf = BaggingClassifier(RandomForestClassifier())\n",
    "    clf.fit(train,y)\n",
    "    z = clf.predict(test)\n",
    "    sum = 0\n",
    "    parts = 4\n",
    "    for i in range (0,parts) :\n",
    "        for j in range (0,size) :\n",
    "            if z[j + size*i] == i :\n",
    "                sum += 1\n",
    "    accuracy = sum / len(z)\n",
    "    print(accuracy,q)"
   ]
  },
  {
   "cell_type": "code",
   "execution_count": 11,
   "metadata": {
    "collapsed": true
   },
   "outputs": [],
   "source": [
    "def getFeatureImportance(length, featureNum) :\n",
    "    \"\"\"\n",
    "    getFeatureImportance uses the subsetData function to generate a matrix with a large number of individual feature accuracies.\n",
    "\n",
    "    Parameters:\n",
    "    -----------\n",
    "    length: int\n",
    "        how many times the function will get new data and test the accuracy of individual features \n",
    "    featureNum: int\n",
    "        the number of features needed to be tested\n",
    "\n",
    "    Return:\n",
    "    -------\n",
    "    getFeatureImportance returns a matrix of shape (featureNum,length) with all values filled with the accuracy of each feature\n",
    "\n",
    "    \"\"\"\n",
    "    \n",
    "    masterFeature = np.zeros([featureNum, length])\n",
    "    for l in range (0,length) :\n",
    "        trainG, testG = splitTrees('Gabon')\n",
    "        trainH, testH = splitTrees('Ghana')\n",
    "        trainU, testU = splitTrees('UK')\n",
    "        trainW, testW = splitTrees('Wytham Meteoc (UK)')\n",
    "        print('done')\n",
    "\n",
    "        for q in range(0,featureNum) :\n",
    "            a = subsetData(trainG,q)\n",
    "            b = subsetData(trainH,q)\n",
    "            c = subsetData(trainU,q)\n",
    "            d = subsetData(trainW,q)\n",
    "            e = subsetData(testG,q)\n",
    "            f = subsetData(testH,q)\n",
    "            g = subsetData(testU,q)\n",
    "            h = subsetData(testW,q)\n",
    "            train = np.expand_dims(np.concatenate((a,b,c,d)),axis=1)\n",
    "            test = np.expand_dims(np.concatenate((e,f,g,h)),axis=1)\n",
    "\n",
    "            y = np.concatenate(([0] * size,[1] * size,[2] * size,[3] * size))\n",
    "            clf = BaggingClassifier(RandomForestClassifier())\n",
    "            clf.fit(train,y)\n",
    "            z = clf.predict(test)\n",
    "            sum = 0\n",
    "            parts = 4\n",
    "            for i in range (0,parts) :\n",
    "                for j in range (0,size) :\n",
    "                    if z[j + size*i] == i :\n",
    "                        sum += 1\n",
    "            accuracy = sum / len(z)\n",
    "            masterFeature[q, l] = accuracy\n",
    "        print(l)\n",
    "    return masterFeature"
   ]
  },
  {
   "cell_type": "code",
   "execution_count": 38,
   "metadata": {},
   "outputs": [
    {
     "name": "stdout",
     "output_type": "stream",
     "text": [
      "done\n",
      "0\n",
      "done\n",
      "1\n",
      "done\n",
      "2\n"
     ]
    },
    {
     "data": {
      "image/png": "[encoded data removed]",
      "text/plain": [
       "<matplotlib.figure.Figure at 0x117e72c50>"
      ]
     },
     "metadata": {},
     "output_type": "display_data"
    }
   ],
   "source": [
    "\"\"\"\n",
    "This cell uses the getFeatureImportance funtion to get a large amount of data and graph the\n",
    "results on a bar graph\n",
    "\"\"\"\n",
    "featureNames = ['Width X', 'Height Y', 'Soma Radii', 'Soma Surface Area', \\\n",
    "                'Soma Volume', 'Skewness X', 'Skewness Y', 'Skewness Z', \\\n",
    "                'Euclidian Skewness', 'Length', 'Surface Area', \\\n",
    "                'Section Area', 'Volume', 'Average Radius', 'Tips', \\\n",
    "                'Stems', 'Branch Pt', 'Segments', 'branch branch', \\\n",
    "                'branch die', 'die die', 'global angle', 'local angle', \\\n",
    "                'distance from root', 'path_length/euclidean', \\\n",
    "                'mean Contraction', 'branch angle', 'side branch angle', \\\n",
    "                'mean segmental neural length', 'mean segmental euclidean length', \\\n",
    "                'segmental branch angle']\n",
    "featureNum = len(featureNames)\n",
    "\n",
    "masterFeature = getFeatureImportance(3, featureNum)\n",
    "values = np.zeros([2,featureNum])\n",
    "for i in range(0,featureNum) :\n",
    "    values[0,i] = masterFeature[i,:].mean()\n",
    "    values[1,i] = masterFeature[i,:].std()\n",
    "featureNames = np.vstack(featureNames)\n",
    "index = np.argsort(values[0,:])\n",
    "featureRange = np.linspace(0,featureNum-1,featureNum)\n",
    "plt.bar(featureRange,values[0,index], yerr = values[1,index])\n",
    "plt.xticks(featureRange,featureNames[index,0], rotation='vertical')\n",
    "plt.subplots_adjust(bottom=0.15)\n",
    "\n",
    "#plt.savefig('/Users/anirudhnatarajan/Documents/UPenn/Misc/featureImportanceTree.eps')"
   ]
  },
  {
   "cell_type": "code",
   "execution_count": 21,
   "metadata": {
    "collapsed": true
   },
   "outputs": [],
   "source": [
    "\"\"\"\n",
    "Convert the lists into numpy arrays and concatenate them to create 1 big test and train array\n",
    "\"\"\"\n",
    "\n",
    "trainG = np.vstack(trainG)\n",
    "trainH = np.vstack(trainH)\n",
    "trainU = np.vstack(trainU)\n",
    "trainW = np.vstack(trainW)\n",
    "testG = np.vstack(testG)\n",
    "testH = np.vstack(testH)\n",
    "testU = np.vstack(testU)\n",
    "testW = np.vstack(testW)\n",
    "\n",
    "\n",
    "train = np.concatenate((trainG,trainH,trainU,trainW))\n",
    "test = np.concatenate((testG,testH,testU,testW))\n",
    "y = np.concatenate(([0] * size,[1] * size,[2] * size,[3] * size))"
   ]
  },
  {
   "cell_type": "code",
   "execution_count": 22,
   "metadata": {
    "collapsed": true
   },
   "outputs": [],
   "source": [
    "\"\"\"\n",
    "Try out any of the following classifiers by uncommenting a line!\n",
    "\"\"\"\n",
    "\n",
    "#clf = svm.SVC()\n",
    "#clf = RandomForestClassifier()\n",
    "#clf = ExtraTreesClassifier()\n",
    "#clf = DecisionTreeClassifier()\n",
    "#clf = GradientBoostingClassifier()\n",
    "#clf = BaggingClassifier()\n",
    "clf = BaggingClassifier(RandomForestClassifier())\n",
    "#clf = neighbors.KNeighborsClassifier()\n",
    "#clf = SGDClassifier()\n",
    "#clf = MLPClassifier()\n",
    "#clf = GaussianNB()\n",
    "#clf = linear_model.LinearRegression()"
   ]
  },
  {
   "cell_type": "code",
   "execution_count": 37,
   "metadata": {
    "scrolled": true
   },
   "outputs": [
    {
     "name": "stdout",
     "output_type": "stream",
     "text": [
      "38 0.95\n",
      "38 0.95\n",
      "37 0.925\n",
      "39 0.975\n",
      "37 0.925\n",
      "39 0.975\n",
      "38 0.95\n",
      "39 0.975\n",
      "39 0.975\n",
      "39 0.975\n",
      "38 0.95\n",
      "38 0.95\n",
      "38 0.95\n",
      "37 0.925\n",
      "38 0.95\n",
      "38 0.95\n",
      "39 0.975\n",
      "40 1.0\n"
     ]
    }
   ],
   "source": [
    "\"\"\"\n",
    "Train the classifier and print the accuracy\n",
    "\"\"\"\n",
    "accuracy = 0\n",
    "while accuracy < 0.976 :\n",
    "    clf.fit(train,y)\n",
    "    z = clf.predict(test)\n",
    "\n",
    "    sum = 0\n",
    "    parts = 4\n",
    "    for i in range (0,parts) :\n",
    "        for j in range (0,size) :\n",
    "            if z[j + size*i] == i :\n",
    "                sum += 1\n",
    "            #else :\n",
    "                #print(j + size*i)\n",
    "    accuracy = sum / len(z)\n",
    "    print(sum, accuracy)"
   ]
  },
  {
   "cell_type": "markdown",
   "metadata": {},
   "source": [
    "## Data Visualization\n",
    "Plot the results and the data to get a better understanding of the classification"
   ]
  },
  {
   "cell_type": "code",
   "execution_count": 26,
   "metadata": {},
   "outputs": [
    {
     "name": "stdout",
     "output_type": "stream",
     "text": [
      "10\n",
      "10\n",
      "10\n",
      "10\n"
     ]
    },
    {
     "data": {
      "image/png": "[encoded data removed]",
      "text/plain": [
       "<matplotlib.figure.Figure at 0x10fc62cf8>"
      ]
     },
     "metadata": {},
     "output_type": "display_data"
    }
   ],
   "source": [
    "\"\"\"\n",
    "This histogram gives you the breakdown of what the classifier predicted on the test values\n",
    "\"\"\"\n",
    "\n",
    "plt.hist(z)\n",
    "print(len(np.where(z == 0)[0]))\n",
    "print(len(np.where(z == 1)[0]))\n",
    "print(len(np.where(z == 2)[0]))\n",
    "print(len(np.where(z == 3)[0]))"
   ]
  },
  {
   "cell_type": "markdown",
   "metadata": {},
   "source": [
    "### TSNE\n",
    "Visualize the training data using TSNE"
   ]
  },
  {
   "cell_type": "code",
   "execution_count": 27,
   "metadata": {
    "scrolled": true
   },
   "outputs": [
    {
     "name": "stdout",
     "output_type": "stream",
     "text": [
      "[t-SNE] Computing 39 nearest neighbors...\n",
      "[t-SNE] Indexed 40 samples in 0.003s...\n",
      "[t-SNE] Computed neighbors for 40 samples in 0.002s...\n",
      "[t-SNE] Computed conditional probabilities for sample 40 / 40\n",
      "[t-SNE] Mean sigma: 9352.766863\n",
      "[t-SNE] Computed conditional probabilities in 0.008s\n",
      "[t-SNE] Iteration 50: error = 45.3084450, gradient norm = 0.7516973 (50 iterations in 0.039s)\n",
      "[t-SNE] Iteration 100: error = 46.3263741, gradient norm = 0.5268337 (50 iterations in 0.027s)\n",
      "[t-SNE] Iteration 150: error = 46.3484955, gradient norm = 0.6647321 (50 iterations in 0.027s)\n",
      "[t-SNE] Iteration 200: error = 46.2311935, gradient norm = 0.4413175 (50 iterations in 0.027s)\n",
      "[t-SNE] Iteration 250: error = 48.5211105, gradient norm = 0.4865400 (50 iterations in 0.024s)\n",
      "[t-SNE] KL divergence after 250 iterations with early exaggeration: 48.521111\n",
      "[t-SNE] Iteration 300: error = 0.7021141, gradient norm = 0.0010599 (50 iterations in 0.024s)\n",
      "[t-SNE] Iteration 350: error = 0.6347494, gradient norm = 0.0002851 (50 iterations in 0.027s)\n",
      "[t-SNE] Iteration 400: error = 0.5842831, gradient norm = 0.0003526 (50 iterations in 0.032s)\n",
      "[t-SNE] Iteration 450: error = 0.5675544, gradient norm = 0.0001341 (50 iterations in 0.025s)\n",
      "[t-SNE] Iteration 500: error = 0.5524194, gradient norm = 0.0001832 (50 iterations in 0.024s)\n",
      "[t-SNE] Iteration 550: error = 0.4557096, gradient norm = 0.0005316 (50 iterations in 0.023s)\n",
      "[t-SNE] Iteration 600: error = 0.4201509, gradient norm = 0.0001622 (50 iterations in 0.023s)\n",
      "[t-SNE] Iteration 650: error = 0.4160155, gradient norm = 0.0001381 (50 iterations in 0.023s)\n",
      "[t-SNE] Iteration 700: error = 0.4129713, gradient norm = 0.0000696 (50 iterations in 0.023s)\n",
      "[t-SNE] Iteration 750: error = 0.4120384, gradient norm = 0.0000485 (50 iterations in 0.023s)\n",
      "[t-SNE] Iteration 800: error = 0.4122934, gradient norm = 0.0000328 (50 iterations in 0.027s)\n",
      "[t-SNE] Iteration 850: error = 0.4109561, gradient norm = 0.0000560 (50 iterations in 0.031s)\n",
      "[t-SNE] Iteration 900: error = 0.4109857, gradient norm = 0.0000846 (50 iterations in 0.026s)\n",
      "[t-SNE] Iteration 950: error = 0.4099780, gradient norm = 0.0000564 (50 iterations in 0.023s)\n",
      "[t-SNE] Iteration 1000: error = 0.4101679, gradient norm = 0.0000496 (50 iterations in 0.026s)\n",
      "[t-SNE] Error after 1000 iterations: 0.410168\n"
     ]
    },
    {
     "data": {
      "text/plain": [
       "<matplotlib.collections.PathCollection at 0x119719f98>"
      ]
     },
     "execution_count": 27,
     "metadata": {},
     "output_type": "execute_result"
    },
    {
     "data": {
      "image/png": "[encoded data removed]",
      "text/plain": [
       "<matplotlib.figure.Figure at 0x10fc7a828>"
      ]
     },
     "metadata": {},
     "output_type": "display_data"
    }
   ],
   "source": [
    "from sklearn.manifold import TSNE\n",
    "X_embedded = TSNE(n_components=2, verbose=2).fit_transform(train)\n",
    "plt.scatter(X_embedded[:,0], X_embedded[:,1], c=y, marker='x')\n",
    "#plt.savefig('/Users/anirudhnatarajan/Documents/UPenn/Misc/treeClassificationTSNE.eps')"
   ]
  },
  {
   "cell_type": "markdown",
   "metadata": {},
   "source": [
    "### PCA\n",
    "Visualize the training data using PCA"
   ]
  },
  {
   "cell_type": "code",
   "execution_count": 28,
   "metadata": {},
   "outputs": [
    {
     "data": {
      "text/plain": [
       "<matplotlib.collections.PathCollection at 0x119719f28>"
      ]
     },
     "execution_count": 28,
     "metadata": {},
     "output_type": "execute_result"
    },
    {
     "data": {
      "image/png": "[encoded data removed]",
      "text/plain": [
       "<matplotlib.figure.Figure at 0x1153d1ef0>"
      ]
     },
     "metadata": {},
     "output_type": "display_data"
    }
   ],
   "source": [
    "from sklearn.decomposition import PCA\n",
    "pca = PCA(n_components=2)\n",
    "pca.fit(train,y)\n",
    "X_embedded = pca.fit_transform(train,y)\n",
    "\n",
    "plt.scatter(X_embedded[:,0], X_embedded[:,1], c=y, marker='x')\n",
    "#plt.savefig('/Users/anirudhnatarajan/Documents/UPenn/Misc/treeClassificationPCA.eps')"
   ]
  },
  {
   "cell_type": "code",
   "execution_count": null,
   "metadata": {
    "collapsed": true
   },
   "outputs": [],
   "source": []
  },
  {
   "cell_type": "code",
   "execution_count": 30,
   "metadata": {},
   "outputs": [],
   "source": [
    "import pickle\n",
    "treeBranchMasterG = pickle.load(open('treeBranchMasterG','rb'))\n",
    "treeBranchMasterH = pickle.load(open('treeBranchMasterH','rb'))\n",
    "treeBranchMasterW = pickle.load(open('treeBranchMasterW','rb'))"
   ]
  },
  {
   "cell_type": "code",
   "execution_count": 33,
   "metadata": {},
   "outputs": [],
   "source": [
    "def removeBranchNaN(arr) :\n",
    "    for i in range(0,len(arr)) :\n",
    "        counter = 0\n",
    "        for j in range(0,len(arr[i])) :\n",
    "            if np.isnan(arr[i][j-counter]).any() :\n",
    "                arr[i] = np.delete(arr[i],j-counter, axis=0)\n",
    "                counter += 1\n",
    "                print('good')\n",
    "    return arr\n",
    "\n",
    "treeBranchMasterG = removeBranchNaN(treeBranchMasterG)\n",
    "treeBranchMasterH = removeBranchNaN(treeBranchMasterH)\n",
    "treeBranchMasterW = removeBranchNaN(treeBranchMasterW)"
   ]
  },
  {
   "cell_type": "code",
   "execution_count": 38,
   "metadata": {},
   "outputs": [
    {
     "name": "stdout",
     "output_type": "stream",
     "text": [
      "0.03331742243436754 349 10475\n",
      "0.011448598130841122 245 21400\n",
      "1.0 5308 5308\n"
     ]
    }
   ],
   "source": [
    "sum = 0\n",
    "total = 0\n",
    "for i in range (0,len(treeBranchMasterG)) :\n",
    "    z = clf.predict(treeBranchMasterG[i])\n",
    "    sum += len(np.where(z==0)[0])\n",
    "    total += len(z)\n",
    "print(sum/total, sum, total)\n",
    "\n",
    "sum = 0\n",
    "total = 0\n",
    "for i in range (0,len(treeBranchMasterH)) :\n",
    "    z = clf.predict(treeBranchMasterH[i])\n",
    "    sum += len(np.where(z==1)[0])\n",
    "    total += len(z)\n",
    "print(sum/total, sum, total)\n",
    "\n",
    "sum = 0\n",
    "total = 0\n",
    "for i in range (0,len(treeBranchMasterW)) :\n",
    "    z = clf.predict(treeBranchMasterW[i])\n",
    "    sum += len(np.where(z==3)[0])\n",
    "    total += len(z)\n",
    "print(sum/total, sum, total)"
   ]
  },
  {
   "cell_type": "code",
   "execution_count": 46,
   "metadata": {},
   "outputs": [
    {
     "ename": "TypeError",
     "evalue": "only integer scalar arrays can be converted to a scalar index",
     "output_type": "error",
     "traceback": [
      "\u001b[0;31m---------------------------------------------------------------------------\u001b[0m",
      "\u001b[0;31mTypeError\u001b[0m                                 Traceback (most recent call last)",
      "\u001b[0;32m<ipython-input-46-b01cf6d85cdf>\u001b[0m in \u001b[0;36m<module>\u001b[0;34m()\u001b[0m\n\u001b[0;32m----> 1\u001b[0;31m \u001b[0mbranchTrainG\u001b[0m\u001b[0;34m,\u001b[0m \u001b[0mbranchTestG\u001b[0m \u001b[0;34m=\u001b[0m \u001b[0msplitTestTrainBranches\u001b[0m\u001b[0;34m(\u001b[0m\u001b[0mtreeBranchMasterG\u001b[0m\u001b[0;34m,\u001b[0m \u001b[0;36m10475\u001b[0m\u001b[0;34m)\u001b[0m\u001b[0;34m\u001b[0m\u001b[0m\n\u001b[0m\u001b[1;32m      2\u001b[0m \u001b[0mbranchTrainH\u001b[0m\u001b[0;34m,\u001b[0m \u001b[0mbranchTestH\u001b[0m \u001b[0;34m=\u001b[0m \u001b[0msplitTestTrainBranches\u001b[0m\u001b[0;34m(\u001b[0m\u001b[0mtreeBranchMasterH\u001b[0m\u001b[0;34m,\u001b[0m \u001b[0;36m21400\u001b[0m\u001b[0;34m)\u001b[0m\u001b[0;34m\u001b[0m\u001b[0m\n\u001b[1;32m      3\u001b[0m \u001b[0mbranchTrainW\u001b[0m\u001b[0;34m,\u001b[0m \u001b[0mbranchTestW\u001b[0m \u001b[0;34m=\u001b[0m \u001b[0msplitTestTrainBranches\u001b[0m\u001b[0;34m(\u001b[0m\u001b[0mtreeBranchMasterW\u001b[0m\u001b[0;34m,\u001b[0m \u001b[0;36m5308\u001b[0m\u001b[0;34m)\u001b[0m\u001b[0;34m\u001b[0m\u001b[0m\n",
      "\u001b[0;32m<ipython-input-45-20dc69642a2b>\u001b[0m in \u001b[0;36msplitTestTrainBranches\u001b[0;34m(arr, length)\u001b[0m\n\u001b[1;32m      7\u001b[0m     \u001b[0mtrain\u001b[0m\u001b[0;34m,\u001b[0m \u001b[0mtest\u001b[0m \u001b[0;34m=\u001b[0m \u001b[0mnp\u001b[0m\u001b[0;34m.\u001b[0m\u001b[0mzeros\u001b[0m\u001b[0;34m(\u001b[0m\u001b[0;36m0\u001b[0m\u001b[0;34m)\u001b[0m\u001b[0;34m,\u001b[0m \u001b[0mnp\u001b[0m\u001b[0;34m.\u001b[0m\u001b[0mzeros\u001b[0m\u001b[0;34m(\u001b[0m\u001b[0;36m0\u001b[0m\u001b[0;34m)\u001b[0m\u001b[0;34m\u001b[0m\u001b[0m\n\u001b[1;32m      8\u001b[0m     \u001b[0;32mfor\u001b[0m \u001b[0mi\u001b[0m \u001b[0;32min\u001b[0m \u001b[0mrange\u001b[0m\u001b[0;34m(\u001b[0m\u001b[0;36m0\u001b[0m\u001b[0;34m,\u001b[0m\u001b[0mlength\u001b[0m\u001b[0;34m)\u001b[0m \u001b[0;34m:\u001b[0m\u001b[0;34m\u001b[0m\u001b[0m\n\u001b[0;32m----> 9\u001b[0;31m         \u001b[0mtrain\u001b[0m \u001b[0;34m=\u001b[0m \u001b[0mnp\u001b[0m\u001b[0;34m.\u001b[0m\u001b[0mconcatenate\u001b[0m\u001b[0;34m(\u001b[0m\u001b[0mtrain\u001b[0m\u001b[0;34m,\u001b[0m \u001b[0mbranchMaster\u001b[0m\u001b[0;34m[\u001b[0m\u001b[0mi\u001b[0m\u001b[0;34m]\u001b[0m\u001b[0;34m)\u001b[0m\u001b[0;34m\u001b[0m\u001b[0m\n\u001b[0m\u001b[1;32m     10\u001b[0m         \u001b[0;32mif\u001b[0m \u001b[0mi\u001b[0m\u001b[0;34m+\u001b[0m\u001b[0;36m1\u001b[0m\u001b[0;34m<\u001b[0m\u001b[0mlen\u001b[0m\u001b[0;34m(\u001b[0m\u001b[0mbranchMaster\u001b[0m\u001b[0;34m)\u001b[0m \u001b[0;34m:\u001b[0m\u001b[0;34m\u001b[0m\u001b[0m\n\u001b[1;32m     11\u001b[0m             \u001b[0mtest\u001b[0m \u001b[0;34m=\u001b[0m \u001b[0mnp\u001b[0m\u001b[0;34m.\u001b[0m\u001b[0mconcatenate\u001b[0m\u001b[0;34m(\u001b[0m\u001b[0mtest\u001b[0m\u001b[0;34m,\u001b[0m \u001b[0mbranchMaster\u001b[0m\u001b[0;34m[\u001b[0m\u001b[0mi\u001b[0m\u001b[0;34m]\u001b[0m\u001b[0;34m)\u001b[0m\u001b[0;34m\u001b[0m\u001b[0m\n",
      "\u001b[0;31mTypeError\u001b[0m: only integer scalar arrays can be converted to a scalar index"
     ]
    }
   ],
   "source": [
    "branchTrainG, branchTestG = splitTestTrainBranches(treeBranchMasterG, 10475)\n",
    "branchTrainH, branchTestH = splitTestTrainBranches(treeBranchMasterH, 21400)\n",
    "branchTrainW, branchTestW = splitTestTrainBranches(treeBranchMasterW, 5308)"
   ]
  },
  {
   "cell_type": "code",
   "execution_count": 45,
   "metadata": {},
   "outputs": [],
   "source": [
    "def splitTestTrainBranches(arr, length) :\n",
    "    branchMaster = [0] * length\n",
    "    for i in range(0,len(arr)) :\n",
    "        for j in range(0,len(arr[i])) :\n",
    "            branchMaster[i] = arr[i][j]\n",
    "    \n",
    "    test = [0] * int(length/2)\n",
    "    train = [0] * (length-len(test))\n",
    "    for i in range(0,int(length/2)) :\n",
    "        train[i] = branchMaster[i]\n",
    "        if i+1<len(branchMaster) :\n",
    "            test[i] = branchMaster[i+1]\n",
    "    return test,train"
   ]
  },
  {
   "cell_type": "code",
   "execution_count": null,
   "metadata": {
    "collapsed": true
   },
   "outputs": [],
   "source": []
  }
 ],
 "metadata": {
  "kernelspec": {
   "display_name": "Python 3",
   "language": "python",
   "name": "python3"
  },
  "language_info": {
   "codemirror_mode": {
    "name": "ipython",
    "version": 3
   },
   "file_extension": ".py",
   "mimetype": "text/x-python",
   "name": "python",
   "nbconvert_exporter": "python",
   "pygments_lexer": "ipython3",
   "version": "3.6.2"
  }
 },
 "nbformat": 4,
 "nbformat_minor": 1
}
