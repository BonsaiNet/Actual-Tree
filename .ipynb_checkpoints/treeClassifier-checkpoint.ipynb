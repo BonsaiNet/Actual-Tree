{
 "cells": [
  {
   "cell_type": "code",
   "execution_count": 1,
   "metadata": {},
   "outputs": [],
   "source": [
    "import sys\n",
    "sys.path.append(\"/Users/anirudhnatarajan/Documents/UPenn/McNeuron\")\n",
    "sys.path.append(\"/Users/anirudhnatarajan/Documents/UPenn/Actual Trees\")\n",
    "import McNeuron\n",
    "import pickle\n",
    "from random import randint\n",
    "import numpy as np\n",
    "import matplotlib.pyplot as plt\n",
    "import Atree\n",
    "import math\n",
    "%matplotlib inline"
   ]
  },
  {
   "cell_type": "code",
   "execution_count": 2,
   "metadata": {
    "collapsed": true,
    "scrolled": true
   },
   "outputs": [],
   "source": [
    "# tree_data = Atree.data_util.pandas_non_missing()\n",
    "# pickle.dump(tree_data, open('.././trees/tree_data.csv', 'wb'))"
   ]
  },
  {
   "cell_type": "code",
   "execution_count": 3,
   "metadata": {
    "collapsed": true
   },
   "outputs": [],
   "source": [
    "tree_data = pickle.load(open('.././trees/tree_data.csv', 'rb'))"
   ]
  },
  {
   "cell_type": "code",
   "execution_count": 4,
   "metadata": {
    "collapsed": true
   },
   "outputs": [],
   "source": [
    "trees = tree_data.sort_values(['location'])\n",
    "trees = trees.reset_index(drop=True)"
   ]
  },
  {
   "cell_type": "code",
   "execution_count": 5,
   "metadata": {},
   "outputs": [],
   "source": [
    "index = 12\n",
    "tree = McNeuron.Neuron(trees['swc'][index])\n",
    "#McNeuron.visualize.plot_2D(tree)\n",
    "tree.l_measure_features()"
   ]
  },
  {
   "cell_type": "code",
   "execution_count": 6,
   "metadata": {
    "collapsed": true
   },
   "outputs": [],
   "source": [
    "def splitTrees(location) :\n",
    "    ind = np.where(trees['location']==location)[0]\n",
    "    train = [0] * size\n",
    "    test = [0] * size\n",
    "    rand = np.linspace(0,totalTrees-1,totalTrees)\n",
    "    \n",
    "    for i in range (0,size) :\n",
    "        r = randint(0,len(rand)-1)\n",
    "        print(i, ind[int(rand[r])])\n",
    "        neuron = McNeuron.Neuron(trees['swc'][ind[int(rand[r])]])\n",
    "        rand = np.delete(rand,r)\n",
    "        neuron.l_measure_features()\n",
    "        train[i] = neuron.getNeuronVector()\n",
    "    \n",
    "    print('half')\n",
    "    for i in range (0,size) :\n",
    "        r = randint(0,len(rand)-1)\n",
    "        print(i, ind[int(rand[r])])\n",
    "        neuron = McNeuron.Neuron(trees['swc'][ind[int(rand[r])]])\n",
    "        rand = np.delete(rand,r)\n",
    "        neuron.l_measure_features()\n",
    "        test[i] = neuron.getNeuronVector()\n",
    "        \n",
    "    print('done')\n",
    "    return train,test"
   ]
  },
  {
   "cell_type": "code",
   "execution_count": 7,
   "metadata": {
    "scrolled": true
   },
   "outputs": [
    {
     "name": "stdout",
     "output_type": "stream",
     "text": [
      "0 5\n",
      "1 1\n",
      "2 11\n",
      "3 14\n",
      "4 10\n",
      "5 9\n",
      "6 6\n",
      "7 0\n",
      "8 18\n",
      "9 12\n",
      "half\n",
      "0 2\n",
      "1 13\n",
      "2 19\n",
      "3 3\n",
      "4 16\n",
      "5 17\n",
      "6 8\n",
      "7 7\n",
      "8 15\n",
      "9 4\n",
      "done\n",
      "0 30\n",
      "1 20\n",
      "2 33\n",
      "3 38\n",
      "4 36\n",
      "5 21\n",
      "6 25\n",
      "7 22\n",
      "8 24\n",
      "9 27\n",
      "half\n",
      "0 34\n",
      "1 31\n",
      "2 29\n",
      "3 35\n",
      "4 32\n",
      "5 39\n",
      "6 37\n",
      "7 28\n",
      "8 23\n",
      "9 26\n",
      "done\n",
      "0 44\n",
      "1 41\n",
      "2 55\n",
      "3 46\n",
      "4 59\n",
      "5 43\n",
      "6 52\n",
      "7 45\n",
      "8 56\n",
      "9 47\n",
      "half\n",
      "0 50\n",
      "1 42\n",
      "2 54\n",
      "3 49\n",
      "4 53\n",
      "5 58\n",
      "6 40\n",
      "7 48\n",
      "8 51\n",
      "9 57\n",
      "done\n",
      "0 60\n",
      "1 64\n",
      "2 63\n",
      "3 73\n",
      "4 62\n",
      "5 67\n",
      "6 70\n",
      "7 68\n",
      "8 72\n",
      "9 61\n",
      "half\n",
      "0 71\n",
      "1 66\n",
      "2 74\n",
      "3 75\n",
      "4 76\n",
      "5 65\n",
      "6 78\n",
      "7 69\n",
      "8 77\n",
      "9 79\n",
      "done\n"
     ]
    }
   ],
   "source": [
    "totalTrees = 20\n",
    "size = int(totalTrees/2)\n",
    "\n",
    "trainG, testG = splitTrees('Gabon')\n",
    "trainH, testH = splitTrees('Ghana')\n",
    "trainU, testU = splitTrees('UK')\n",
    "trainW, testW = splitTrees('Wytham Meteoc (UK)')"
   ]
  },
  {
   "cell_type": "code",
   "execution_count": 8,
   "metadata": {
    "collapsed": true
   },
   "outputs": [],
   "source": [
    "trainG = np.vstack(trainG)\n",
    "trainH = np.vstack(trainH)\n",
    "trainU = np.vstack(trainU)\n",
    "trainW = np.vstack(trainW)\n",
    "testG = np.vstack(testG)\n",
    "testH = np.vstack(testH)\n",
    "testU = np.vstack(testU)\n",
    "testW = np.vstack(testW)\n",
    "\n",
    "\n",
    "train = np.concatenate((trainG,trainH,trainU,trainW))\n",
    "test = np.concatenate((testG,testH,testU,testW))\n",
    "y = np.concatenate(([0] * size,[1] * size,[2] * size,[3] * size))"
   ]
  },
  {
   "cell_type": "code",
   "execution_count": null,
   "metadata": {
    "collapsed": true
   },
   "outputs": [],
   "source": [
    "def subsetData(arr,q):\n",
    "    x = [0] * size\n",
    "    for i in range(0,size) :\n",
    "        x[i] = arr[i][q]\n",
    "    return x"
   ]
  },
  {
   "cell_type": "code",
   "execution_count": null,
   "metadata": {},
   "outputs": [],
   "source": [
    "for q in range(0,22) :\n",
    "    a = subsetData(trainG,q)\n",
    "    b = subsetData(trainH,q)\n",
    "    c = subsetData(trainU,q)\n",
    "    d = subsetData(trainW,q)\n",
    "    e = subsetData(testG,q)\n",
    "    f = subsetData(testH,q)\n",
    "    g = subsetData(testU,q)\n",
    "    h = subsetData(testW,q)\n",
    "    \n",
    "    train = np.expand_dims(np.concatenate((a,b,c,d)),axis=1)\n",
    "    test = np.expand_dims(np.concatenate((e,f,g,h)),axis=1)\n",
    "    \n",
    "    y = np.concatenate(([0] * size,[1] * size,[2] * size,[3] * size))\n",
    "    clf = BaggingClassifier()\n",
    "    clf.fit(train,y)\n",
    "    z = clf.predict(test)\n",
    "\n",
    "    sum = 0\n",
    "    parts = 4\n",
    "    for i in range (0,parts) :\n",
    "        for j in range (0,size) :\n",
    "            if z[j + size*i] == i :\n",
    "                sum += 1\n",
    "    accuracy = sum / len(z)\n",
    "    print(accuracy , q)"
   ]
  },
  {
   "cell_type": "code",
   "execution_count": 9,
   "metadata": {
    "collapsed": true
   },
   "outputs": [],
   "source": [
    "from sklearn import svm\n",
    "from sklearn.ensemble import RandomForestClassifier\n",
    "from sklearn.ensemble import ExtraTreesClassifier\n",
    "from sklearn.tree import DecisionTreeClassifier\n",
    "from sklearn.ensemble import GradientBoostingClassifier\n",
    "from sklearn.ensemble import BaggingClassifier\n",
    "from sklearn import neighbors\n",
    "from sklearn.linear_model import SGDClassifier\n",
    "from sklearn.neural_network import MLPClassifier\n",
    "from sklearn.naive_bayes import GaussianNB\n",
    "from sklearn import linear_model"
   ]
  },
  {
   "cell_type": "code",
   "execution_count": 10,
   "metadata": {
    "collapsed": true
   },
   "outputs": [],
   "source": [
    "#clf = svm.SVC()\n",
    "#clf = RandomForestClassifier()\n",
    "#clf = ExtraTreesClassifier()\n",
    "#clf = DecisionTreeClassifier()\n",
    "#clf = GradientBoostingClassifier()\n",
    "#clf = BaggingClassifier()\n",
    "clf = BaggingClassifier(DecisionTreeClassifier())\n",
    "#clf = neighbors.KNeighborsClassifier()\n",
    "#clf = SGDClassifier()\n",
    "#clf = MLPClassifier()\n",
    "#clf = GaussianNB()\n",
    "#clf = linear_model.LinearRegression()"
   ]
  },
  {
   "cell_type": "code",
   "execution_count": 29,
   "metadata": {},
   "outputs": [
    {
     "name": "stdout",
     "output_type": "stream",
     "text": [
      "37 0.925\n"
     ]
    }
   ],
   "source": [
    "clf.fit(train,y)\n",
    "z = clf.predict(test)\n",
    "\n",
    "sum = 0\n",
    "parts = 4\n",
    "for i in range (0,parts) :\n",
    "    for j in range (0,size) :\n",
    "        if z[j + size*i] == i :\n",
    "            sum += 1\n",
    "        #else :\n",
    "            #print(j + size*i)\n",
    "accuracy = sum / len(z)\n",
    "print(sum, accuracy)"
   ]
  },
  {
   "cell_type": "code",
   "execution_count": 30,
   "metadata": {},
   "outputs": [
    {
     "name": "stdout",
     "output_type": "stream",
     "text": [
      "12\n",
      "8\n",
      "10\n",
      "10\n"
     ]
    },
    {
     "data": {
      "image/png": "[encoded data removed]",
      "text/plain": [
       "<matplotlib.figure.Figure at 0x11120fb70>"
      ]
     },
     "metadata": {},
     "output_type": "display_data"
    }
   ],
   "source": [
    "plt.hist(z)\n",
    "print(len(np.where(z == 0)[0]))\n",
    "print(len(np.where(z == 1)[0]))\n",
    "print(len(np.where(z == 2)[0]))\n",
    "print(len(np.where(z == 3)[0]))"
   ]
  },
  {
   "cell_type": "code",
   "execution_count": 31,
   "metadata": {
    "scrolled": true
   },
   "outputs": [
    {
     "name": "stdout",
     "output_type": "stream",
     "text": [
      "[t-SNE] Computing 39 nearest neighbors...\n",
      "[t-SNE] Indexed 40 samples in 0.001s...\n",
      "[t-SNE] Computed neighbors for 40 samples in 0.001s...\n",
      "[t-SNE] Computed conditional probabilities for sample 40 / 40\n",
      "[t-SNE] Mean sigma: 4979.521463\n",
      "[t-SNE] Computed conditional probabilities in 0.005s\n",
      "[t-SNE] Iteration 50: error = 46.5678635, gradient norm = 0.5788746 (50 iterations in 0.032s)\n",
      "[t-SNE] Iteration 100: error = 45.4356499, gradient norm = 0.7387696 (50 iterations in 0.024s)\n",
      "[t-SNE] Iteration 150: error = 47.7242050, gradient norm = 0.4665695 (50 iterations in 0.027s)\n",
      "[t-SNE] Iteration 200: error = 44.6159248, gradient norm = 0.6347463 (50 iterations in 0.027s)\n",
      "[t-SNE] Iteration 250: error = 45.8436737, gradient norm = 0.4926185 (50 iterations in 0.027s)\n",
      "[t-SNE] KL divergence after 250 iterations with early exaggeration: 45.843674\n",
      "[t-SNE] Iteration 300: error = 0.6748607, gradient norm = 0.0013876 (50 iterations in 0.024s)\n",
      "[t-SNE] Iteration 350: error = 0.5553908, gradient norm = 0.0005605 (50 iterations in 0.023s)\n",
      "[t-SNE] Iteration 400: error = 0.5177171, gradient norm = 0.0002404 (50 iterations in 0.022s)\n",
      "[t-SNE] Iteration 450: error = 0.5007874, gradient norm = 0.0002255 (50 iterations in 0.022s)\n",
      "[t-SNE] Iteration 500: error = 0.4669022, gradient norm = 0.0003101 (50 iterations in 0.022s)\n",
      "[t-SNE] Iteration 550: error = 0.4240483, gradient norm = 0.0003580 (50 iterations in 0.024s)\n",
      "[t-SNE] Iteration 600: error = 0.3967690, gradient norm = 0.0003080 (50 iterations in 0.022s)\n",
      "[t-SNE] Iteration 650: error = 0.3796752, gradient norm = 0.0001526 (50 iterations in 0.022s)\n",
      "[t-SNE] Iteration 700: error = 0.3681166, gradient norm = 0.0001466 (50 iterations in 0.024s)\n",
      "[t-SNE] Iteration 750: error = 0.3676155, gradient norm = 0.0000740 (50 iterations in 0.023s)\n",
      "[t-SNE] Iteration 800: error = 0.3626029, gradient norm = 0.0001247 (50 iterations in 0.023s)\n",
      "[t-SNE] Iteration 850: error = 0.3583892, gradient norm = 0.0000840 (50 iterations in 0.023s)\n",
      "[t-SNE] Iteration 900: error = 0.3574405, gradient norm = 0.0000746 (50 iterations in 0.023s)\n",
      "[t-SNE] Iteration 950: error = 0.3504974, gradient norm = 0.0001358 (50 iterations in 0.022s)\n",
      "[t-SNE] Iteration 1000: error = 0.3437950, gradient norm = 0.0000937 (50 iterations in 0.022s)\n",
      "[t-SNE] Error after 1000 iterations: 0.343795\n"
     ]
    }
   ],
   "source": [
    "from sklearn.manifold import TSNE\n",
    "X_embedded = TSNE(n_components=2, verbose=2).fit_transform(train)"
   ]
  },
  {
   "cell_type": "code",
   "execution_count": 32,
   "metadata": {},
   "outputs": [
    {
     "data": {
      "text/plain": [
       "<matplotlib.collections.PathCollection at 0x11bf81c18>"
      ]
     },
     "execution_count": 32,
     "metadata": {},
     "output_type": "execute_result"
    },
    {
     "data": {
      "image/png": "[encoded data removed]",
      "text/plain": [
       "<matplotlib.figure.Figure at 0x11120a748>"
      ]
     },
     "metadata": {},
     "output_type": "display_data"
    }
   ],
   "source": [
    "plt.scatter(X_embedded[:,0], X_embedded[:,1], c=y, marker='x')"
   ]
  },
  {
   "cell_type": "code",
   "execution_count": 33,
   "metadata": {},
   "outputs": [
    {
     "data": {
      "text/plain": [
       "(array([ 0.00473074,  0.00630766,  0.00630766,  0.00946149,  0.00315383,\n",
       "         0.0110384 ,  0.00473074,  0.00788457,  0.00630766,  0.00315383]),\n",
       " array([-85.27827454, -69.42453156, -53.57078857, -37.71704559,\n",
       "        -21.86330261,  -6.00955963,   9.84418335,  25.69792633,\n",
       "         41.55166931,  57.40541229,  73.25915527]),\n",
       " <a list of 10 Patch objects>)"
      ]
     },
     "execution_count": 33,
     "metadata": {},
     "output_type": "execute_result"
    },
    {
     "data": {
      "image/png": "[encoded data removed]",
      "text/plain": [
       "<matplotlib.figure.Figure at 0x11bfc82e8>"
      ]
     },
     "metadata": {},
     "output_type": "display_data"
    }
   ],
   "source": [
    "plt.hist(X_embedded[:,0], normed=True, alpha = 0.25)\n",
    "plt.hist(X_embedded[:,1], normed=True, alpha = 0.25)"
   ]
  },
  {
   "cell_type": "code",
   "execution_count": 34,
   "metadata": {},
   "outputs": [
    {
     "data": {
      "text/plain": [
       "<matplotlib.collections.PathCollection at 0x11bf81ba8>"
      ]
     },
     "execution_count": 34,
     "metadata": {},
     "output_type": "execute_result"
    },
    {
     "data": {
      "image/png": "[encoded data removed]",
      "text/plain": [
       "<matplotlib.figure.Figure at 0x11bfd8cf8>"
      ]
     },
     "metadata": {},
     "output_type": "display_data"
    }
   ],
   "source": [
    "from sklearn.decomposition import PCA\n",
    "pca = PCA(n_components=2)\n",
    "pca.fit(train,y)\n",
    "X_embedded = pca.fit_transform(train,y)\n",
    "\n",
    "plt.scatter(X_embedded[:,0], X_embedded[:,1], c=y, marker='x')"
   ]
  },
  {
   "cell_type": "code",
   "execution_count": null,
   "metadata": {
    "collapsed": true
   },
   "outputs": [],
   "source": []
  },
  {
   "cell_type": "code",
   "execution_count": null,
   "metadata": {
    "collapsed": true
   },
   "outputs": [],
   "source": []
  },
  {
   "cell_type": "code",
   "execution_count": null,
   "metadata": {
    "collapsed": true
   },
   "outputs": [],
   "source": []
  }
 ],
 "metadata": {
  "kernelspec": {
   "display_name": "Python 3",
   "language": "python",
   "name": "python3"
  },
  "language_info": {
   "codemirror_mode": {
    "name": "ipython",
    "version": 3
   },
   "file_extension": ".py",
   "mimetype": "text/x-python",
   "name": "python",
   "nbconvert_exporter": "python",
   "pygments_lexer": "ipython3",
   "version": "3.6.2"
  }
 },
 "nbformat": 4,
 "nbformat_minor": 1
}
