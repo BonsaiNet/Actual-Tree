{
 "cells": [
  {
   "cell_type": "code",
   "execution_count": 1,
   "metadata": {
    "collapsed": true
   },
   "outputs": [],
   "source": [
    "import sys\n",
    "sys.path.append(\"/Users/anirudhnatarajan/Documents/UPenn/McNeuron\")\n",
    "import McNeuron\n",
    "import pickle\n",
    "from random import randint\n",
    "import numpy as np\n",
    "import matplotlib.pyplot as plt\n",
    "import statistics as s\n",
    "from scipy import stats\n",
    "import plotly\n",
    "plotly.tools.set_credentials_file(username='anirudhn',\n",
    "                                 api_key='uaV7Q410noAGBd4zvNTS')\n",
    "%matplotlib inline  "
   ]
  },
  {
   "cell_type": "code",
   "execution_count": 2,
   "metadata": {
    "collapsed": true
   },
   "outputs": [],
   "source": [
    "tree_data = pickle.load(open('.././trees/tree_data.csv', 'rb'))"
   ]
  },
  {
   "cell_type": "code",
   "execution_count": 3,
   "metadata": {
    "collapsed": true
   },
   "outputs": [],
   "source": [
    "trees = tree_data.sort_values(['location'])\n",
    "trees = trees.reset_index(drop=True)"
   ]
  },
  {
   "cell_type": "code",
   "execution_count": 94,
   "metadata": {},
   "outputs": [],
   "source": [
    "index = 6\n",
    "swc = trees['swc'][index]\n",
    "tree = McNeuron.Neuron(swc)\n",
    "tree.basic_features()\n",
    "#McNeuron.visualize.plot_2D(tree, axis=(1,0,0), rotation=30)"
   ]
  },
  {
   "cell_type": "code",
   "execution_count": 93,
   "metadata": {},
   "outputs": [],
   "source": [
    "#McNeuron.visualize.plot_3D(tree)"
   ]
  },
  {
   "cell_type": "code",
   "execution_count": 9,
   "metadata": {
    "collapsed": true
   },
   "outputs": [],
   "source": [
    "def splitBranches(tree) :\n",
    "    branches = np.where(tree.features['branch order']>=2)[0]\n",
    "    numOfBranch = len(branches)\n",
    "    subsets = [0] * numOfBranch\n",
    "    for i in range(0,numOfBranch) :\n",
    "        rest_swc = tree.get_rest_of_neuron_after_node(branches[i])\n",
    "        n = McNeuron.Neuron(rest_swc)\n",
    "        n.l_measure_features()\n",
    "        subsets[i] = n.getNeuronVector()\n",
    "    return subsets"
   ]
  },
  {
   "cell_type": "code",
   "execution_count": 10,
   "metadata": {
    "collapsed": true,
    "scrolled": true
   },
   "outputs": [],
   "source": [
    "def getTreeBranchMaster(location):\n",
    "    ind = np.where(trees['location']==location)[0]\n",
    "    treeBranchMaster = [0] * len(ind)\n",
    "    for i in range (0,len(ind)) :\n",
    "        tree = McNeuron.Neuron(trees['swc'][ind[i]])\n",
    "        tree.basic_features()\n",
    "        treeBranchMaster[i] = splitBranches(tree)\n",
    "        print(ind[i])\n",
    "    return treeBranchMaster"
   ]
  },
  {
   "cell_type": "code",
   "execution_count": 11,
   "metadata": {
    "scrolled": true
   },
   "outputs": [
    {
     "name": "stdout",
     "output_type": "stream",
     "text": [
      "0\n",
      "1\n",
      "2\n",
      "3\n",
      "4\n",
      "5\n",
      "6\n",
      "7\n",
      "8\n",
      "9\n",
      "10\n",
      "11\n",
      "12\n",
      "13\n",
      "14\n",
      "15\n",
      "16\n",
      "17\n",
      "18\n",
      "19\n",
      "done\n",
      "20\n",
      "21\n",
      "22\n",
      "23\n",
      "24\n",
      "25\n",
      "26\n",
      "27\n",
      "28\n",
      "29\n",
      "30\n",
      "31\n",
      "32\n",
      "33\n",
      "34\n",
      "35\n",
      "36\n",
      "37\n",
      "38\n",
      "39\n",
      "done\n",
      "done\n",
      "60\n",
      "61\n",
      "62\n",
      "63\n",
      "64\n",
      "65\n",
      "66\n",
      "67\n",
      "68\n",
      "69\n",
      "70\n",
      "71\n",
      "72\n",
      "73\n",
      "74\n",
      "75\n",
      "76\n",
      "77\n",
      "78\n",
      "79\n",
      "done\n"
     ]
    }
   ],
   "source": [
    "treeBranchMasterG = getTreeBranchMaster('Gabon')\n",
    "print('done')\n",
    "treeBranchMasterH = getTreeBranchMaster('Ghana')\n",
    "print('done')\n",
    "# treeBranchMasterU = getTreeBranchMaster('UK')\n",
    "print('done')\n",
    "treeBranchMasterW = getTreeBranchMaster('Wytham Meteoc (UK)')\n",
    "print('done')"
   ]
  },
  {
   "cell_type": "code",
   "execution_count": 301,
   "metadata": {
    "collapsed": true
   },
   "outputs": [],
   "source": [
    "def getFeature(feature, arr) :\n",
    "    featureArray = [0] * len(arr)\n",
    "    counter = 0\n",
    "    for i in range(0, len(arr)) :\n",
    "        x = [0] * len(arr[i])\n",
    "        for j in range(0,len(arr[i])) :\n",
    "            x[j] = arr[i][j][feature]\n",
    "        featureArray[i-counter] = x\n",
    "        if(len(x)==0) :\n",
    "            featureArray = np.delete(featureArray,i)\n",
    "            counter += 1\n",
    "    return featureArray"
   ]
  },
  {
   "cell_type": "code",
   "execution_count": 302,
   "metadata": {
    "scrolled": true
   },
   "outputs": [],
   "source": [
    "def getFeatureAnalysisMatrixTree(feature) :\n",
    "    featureG = getFeature(feature,treeBranchMasterG)\n",
    "    featureH = getFeature(feature,treeBranchMasterH)\n",
    "    featureW = getFeature(feature,treeBranchMasterW)\n",
    "    matrix = np.zeros((3,3))\n",
    "    ref = [featureG,featureH,featureW]\n",
    "    ind = [[0,0],[0,1],[0,2],[1,1],[1,0],[1,2],[2,2],[2,1],[2,0]]\n",
    "    for v in range(0,9) :\n",
    "        total = 0\n",
    "        a = ref[ind[v][0]]\n",
    "        b = ref[ind[v][1]]\n",
    "        for i in range(0,20) :\n",
    "            start = 0\n",
    "            if v%3==0 :\n",
    "                start = i\n",
    "            for j in range(start,20) :\n",
    "                pdf0 = np.histogram(a[i],normed=True, bins=20, range=(0, .07))[0]\n",
    "                pdf1 = np.histogram(b[j],normed=True, bins=20, range=(0, .07))[0]\n",
    "                pdf0 = pdf0/sum(pdf0)\n",
    "                pdf1 = pdf1/sum(pdf1)\n",
    "                if (stats.ks_2samp(pdf0,pdf1)[1] < 0.05) :\n",
    "                    total += 1\n",
    "        matrix[ind[v][0]][ind[v][1]] = total\n",
    "        print(v)\n",
    "    return matrix"
   ]
  },
  {
   "cell_type": "code",
   "execution_count": 303,
   "metadata": {},
   "outputs": [
    {
     "name": "stdout",
     "output_type": "stream",
     "text": [
      "0\n",
      "1\n",
      "2\n",
      "3\n",
      "4\n",
      "5\n",
      "6\n",
      "7\n",
      "8\n"
     ]
    },
    {
     "data": {
      "text/plain": [
       "array([[  0.,  84., 384.],\n",
       "       [ 84.,  12., 184.],\n",
       "       [384., 184.,   0.]])"
      ]
     },
     "execution_count": 303,
     "metadata": {},
     "output_type": "execute_result"
    }
   ],
   "source": [
    "getFeatureAnalysisMatrixTree(17)"
   ]
  },
  {
   "cell_type": "code",
   "execution_count": 462,
   "metadata": {},
   "outputs": [
    {
     "data": {
      "text/plain": [
       "(array([ 80.42797345, 160.85594691,   0.        , 160.85594691,\n",
       "        321.71189382,  80.42797345,   0.        , 402.13986727,\n",
       "        241.28392036, 160.85594691]),\n",
       " array([0.0057439 , 0.00636558, 0.00698725, 0.00760893, 0.0082306 ,\n",
       "        0.00885227, 0.00947395, 0.01009562, 0.0107173 , 0.01133897,\n",
       "        0.01196065]),\n",
       " <a list of 10 Patch objects>)"
      ]
     },
     "execution_count": 462,
     "metadata": {},
     "output_type": "execute_result"
    },
    {
     "data": {
      "image/png": "[encoded data removed]",
      "text/plain": [
       "<matplotlib.figure.Figure at 0x190fa1be0>"
      ]
     },
     "metadata": {},
     "output_type": "display_data"
    }
   ],
   "source": [
    "featureG = getFeature(17,treeBranchMasterG)\n",
    "featureH = getFeature(17,treeBranchMasterH)\n",
    "featureW = getFeature(17,treeBranchMasterW)\n",
    "meanG = [0] * len(featureG)\n",
    "meanH = [0] * len(featureH)\n",
    "meanW = [0] * len(featureW)\n",
    "for i in range(0,20):\n",
    "    meanG[i] = s.mean(featureG[i])\n",
    "    meanH[i] = s.mean(featureH[i])\n",
    "    meanW[i] = s.mean(featureW[i])\n",
    "plt.hist(meanG,normed=True,bins=10,alpha=0.25)\n",
    "# plt.show()\n",
    "plt.hist(meanH,normed=True,bins=10,alpha=0.25)\n",
    "# plt.show()\n",
    "plt.hist(meanW,normed=True,bins=10,alpha=0.25)\n",
    "# plt.show()\n"
   ]
  },
  {
   "cell_type": "code",
   "execution_count": 95,
   "metadata": {
    "collapsed": true
   },
   "outputs": [],
   "source": [
    "import pandas as pd\n",
    "neurons = pd.read_pickle(\"/Users/anirudhnatarajan/Documents/UPenn/neuronData/neurons.csv\")"
   ]
  },
  {
   "cell_type": "code",
   "execution_count": 122,
   "metadata": {
    "collapsed": true
   },
   "outputs": [],
   "source": [
    "indC = np.where(neurons['Experimental Condition']=='Control')[0]\n",
    "indD = np.where(neurons['Species Name']=='drosophila melanogaster')[0]\n",
    "indO = np.where(neurons['Primary Brain Region']=='optic Lobe')[0]\n",
    "indP = np.where(neurons['Primary Brain Region']=='protocerebrum')[0]\n",
    "swcO = [0] * 7099\n",
    "swcP = [0] * 8890\n",
    "\n",
    "counter = 0\n",
    "for i in range(0,len(indD)) :\n",
    "    if np.any(indC[:] == indD[i]) & np.any(indO[:] == indD[i]) :\n",
    "        swcO[counter] = neurons['swc'][indD[i]]\n",
    "        counter += 1\n",
    "\n",
    "counter = 0\n",
    "for i in range(0,len(indD)) :\n",
    "    if np.any(indC[:] == indD[i]) & np.any(indP[:] == indD[i]) :\n",
    "        swcP[counter] = neurons['swc'][indD[i]]\n",
    "        counter += 1"
   ]
  },
  {
   "cell_type": "code",
   "execution_count": 438,
   "metadata": {},
   "outputs": [
    {
     "data": {
      "image/png": "[encoded data removed]",
      "text/plain": [
       "<matplotlib.figure.Figure at 0x18d544e10>"
      ]
     },
     "metadata": {},
     "output_type": "display_data"
    }
   ],
   "source": [
    "McNeuron.visualize.plot_2D(swcP[7653])"
   ]
  },
  {
   "cell_type": "code",
   "execution_count": 123,
   "metadata": {
    "collapsed": true
   },
   "outputs": [],
   "source": [
    "def getNeurons(swc, size, rand) :\n",
    "    n = [0] * size\n",
    "    for i in range (0,size) :\n",
    "        r = randint(0,len(rand)-1)\n",
    "        n[i] = McNeuron.Neuron(swc[int(rand[r])])\n",
    "        rand = np.delete(rand,r)\n",
    "        if i%100==0 :\n",
    "            print(i)\n",
    "    print('done')\n",
    "    return n,rand"
   ]
  },
  {
   "cell_type": "code",
   "execution_count": 439,
   "metadata": {},
   "outputs": [
    {
     "name": "stdout",
     "output_type": "stream",
     "text": [
      "0\n",
      "done\n",
      "0\n",
      "done\n"
     ]
    }
   ],
   "source": [
    "size = 80\n",
    "randO = np.linspace(0,len(swcO)-1,len(swcO))\n",
    "randP = np.linspace(0,len(swcP)-1,len(swcP))\n",
    "neuronO,randO = getNeurons(swcO, size, randO)\n",
    "neuronP,randP = getNeurons(swcP, size, randP)\n",
    "neuronO = np.vstack(neuronO)\n",
    "neuronP = np.vstack(neuronP)"
   ]
  },
  {
   "cell_type": "code",
   "execution_count": 440,
   "metadata": {
    "scrolled": true
   },
   "outputs": [],
   "source": [
    "def getNeuronBranchMaster(arr):\n",
    "    neuronBranchMaster = [0] * len(arr)\n",
    "    for i in range (0,len(arr)) :\n",
    "        n = arr[i,0]\n",
    "        n.basic_features()\n",
    "        neuronBranchMaster[i] = splitBranches(n)\n",
    "        if i%10==0 :\n",
    "            print(i)\n",
    "    print('done')\n",
    "    return neuronBranchMaster"
   ]
  },
  {
   "cell_type": "code",
   "execution_count": 441,
   "metadata": {
    "scrolled": true
   },
   "outputs": [
    {
     "name": "stdout",
     "output_type": "stream",
     "text": [
      "0\n",
      "10\n",
      "20\n",
      "30\n",
      "40\n",
      "50\n",
      "60\n",
      "70\n",
      "done\n",
      "0\n",
      "10\n",
      "20\n",
      "30\n",
      "40\n",
      "50\n",
      "60\n",
      "70\n",
      "done\n"
     ]
    }
   ],
   "source": [
    "neuronBranchMasterO = getNeuronBranchMaster(neuronO)\n",
    "neuronBranchMasterP = getNeuronBranchMaster(neuronP)"
   ]
  },
  {
   "cell_type": "code",
   "execution_count": 442,
   "metadata": {
    "collapsed": true
   },
   "outputs": [],
   "source": [
    "def getFeatureAnalysisMatrixNeuron(feature,ran) :\n",
    "    featureO = getFeature(feature,neuronBranchMasterO)\n",
    "    featureP = getFeature(feature,neuronBranchMasterP)\n",
    "    matrix = np.zeros((2,2))\n",
    "    ref = [featureO,featureP]\n",
    "    ind = [[0,0],[0,1],[1,1],[1,0]]\n",
    "    for v in range(0,4) :\n",
    "        total = 0\n",
    "        a = ref[ind[v][0]]\n",
    "        b = ref[ind[v][1]]\n",
    "        for i in range(0,len(featureO)) :\n",
    "            start = 0\n",
    "            if v%2==0 :\n",
    "                start = i\n",
    "            for j in range(start,len(featureO)) :\n",
    "                pdf0 = np.histogram(a[i],normed=True, bins=len(featureO), range=ran)[0]\n",
    "                pdf1 = np.histogram(b[j],normed=True, bins=len(featureO), range=ran)[0]\n",
    "                pdf0 = pdf0/sum(pdf0)\n",
    "                pdf1 = pdf1/sum(pdf1)\n",
    "                if (stats.ks_2samp(pdf0,pdf1)[1] < 0.05) :\n",
    "                    total += 1\n",
    "        matrix[ind[v][0]][ind[v][1]] = total\n",
    "        print(v)\n",
    "    return matrix"
   ]
  },
  {
   "cell_type": "code",
   "execution_count": 445,
   "metadata": {},
   "outputs": [
    {
     "name": "stdout",
     "output_type": "stream",
     "text": [
      "0\n",
      "1\n",
      "2\n",
      "3\n"
     ]
    },
    {
     "data": {
      "text/plain": [
       "array([[ 872., 1399.],\n",
       "       [1399.,  497.]])"
      ]
     },
     "execution_count": 445,
     "metadata": {},
     "output_type": "execute_result"
    }
   ],
   "source": [
    "getFeatureAnalysisMatrixNeuron(17, (0,0.3))"
   ]
  },
  {
   "cell_type": "code",
   "execution_count": 446,
   "metadata": {
    "scrolled": false
   },
   "outputs": [
    {
     "data": {
      "text/plain": [
       "(array([14.81481481,  0.        ,  0.        ,  0.        ,  0.        ,\n",
       "         0.        ,  0.        ,  0.        ,  0.        , 14.81481481,\n",
       "        37.03703704,  0.        ,  0.        ,  0.        ,  0.        ,\n",
       "         0.        ,  0.        ,  0.        ,  0.        ,  0.        ]),\n",
       " array([0.   , 0.015, 0.03 , 0.045, 0.06 , 0.075, 0.09 , 0.105, 0.12 ,\n",
       "        0.135, 0.15 , 0.165, 0.18 , 0.195, 0.21 , 0.225, 0.24 , 0.255,\n",
       "        0.27 , 0.285, 0.3  ]),\n",
       " <a list of 20 Patch objects>)"
      ]
     },
     "execution_count": 446,
     "metadata": {},
     "output_type": "execute_result"
    },
    {
     "data": {
      "image/png": "[encoded data removed]",
      "text/plain": [
       "<matplotlib.figure.Figure at 0x1a1868240>"
      ]
     },
     "metadata": {},
     "output_type": "display_data"
    }
   ],
   "source": [
    "featureO = getFeature(17,neuronBranchMasterO)\n",
    "featureP = getFeature(17,neuronBranchMasterP)\n",
    "meanO = [0] * len(featureO)\n",
    "meanP = [0] * len(featureP)\n",
    "for i in range(0,len(featureO)):\n",
    "    meanO[i] = s.mean(featureO[i])\n",
    "    meanP[i] = s.mean(featureP[i])\n",
    "plt.hist(meanO,normed=True,bins=20,alpha=0.25,range=(0,0.3))\n",
    "# plt.show()\n",
    "plt.hist(meanP,normed=True,bins=20,alpha=0.25,range=(0,0.3))\n",
    "# plt.show()"
   ]
  },
  {
   "cell_type": "code",
   "execution_count": 322,
   "metadata": {},
   "outputs": [],
   "source": [
    "def getVectors(swc, size, rand) :\n",
    "    n = [0] * size\n",
    "    for i in range (0,size) :\n",
    "        r = randint(0,len(rand)-1)\n",
    "        neuron = McNeuron.Neuron(swc[int(rand[r])])\n",
    "        rand = np.delete(rand,r)\n",
    "        neuron.l_measure_features()\n",
    "        n[i] = neuron.getNeuronVector()\n",
    "    return n,rand"
   ]
  },
  {
   "cell_type": "code",
   "execution_count": 316,
   "metadata": {
    "collapsed": true
   },
   "outputs": [],
   "source": [
    "from sklearn import svm\n",
    "from sklearn.ensemble import RandomForestClassifier\n",
    "from sklearn.ensemble import ExtraTreesClassifier\n",
    "from sklearn.tree import DecisionTreeClassifier\n",
    "from sklearn.ensemble import GradientBoostingClassifier\n",
    "from sklearn.ensemble import BaggingClassifier\n",
    "from sklearn import neighbors\n",
    "from sklearn.linear_model import SGDClassifier\n",
    "from sklearn.neural_network import MLPClassifier\n",
    "from sklearn.naive_bayes import GaussianNB\n",
    "from sklearn import linear_model"
   ]
  },
  {
   "cell_type": "code",
   "execution_count": 325,
   "metadata": {
    "collapsed": true
   },
   "outputs": [],
   "source": [
    "def getFeatureImportance(length, featureNum) :\n",
    "    \"\"\"\n",
    "    getFeatureImportance uses the subsetData function to generate a matrix with a large number of individual feature accuracies.\n",
    "\n",
    "    Parameters:\n",
    "    -----------\n",
    "    length: int\n",
    "        how many times the function will get new data and test the accuracy of individual features \n",
    "    featureNum: int\n",
    "        the number of features needed to be tested\n",
    "\n",
    "    Return:\n",
    "    -------\n",
    "    getFeatureImportance returns a matrix of shape (featureNum,length) with all values filled with the accuracy of each feature\n",
    "\n",
    "    \"\"\"\n",
    "    \n",
    "    masterFeature = np.zeros([featureNum, length])\n",
    "    for l in range (0,length) :\n",
    "        randO = np.linspace(0,len(swcO)-1,len(swcO))\n",
    "        randP = np.linspace(0,len(swcP)-1,len(swcP))\n",
    "        trainO,randO = getVectors(swcO, size, randO)\n",
    "        trainP,randP = getVectors(swcP, size, randP)\n",
    "        testO,randO = getVectors(swcO, size, randO)\n",
    "        testP,randP = getVectors(swcP, size, randP)\n",
    "        for q in range(0,featureNum) :\n",
    "            a = subsetData(trainO,q)\n",
    "            b = subsetData(trainP,q)\n",
    "            c = subsetData(testO,q)\n",
    "            d = subsetData(testP,q)\n",
    "\n",
    "            train = np.expand_dims(np.concatenate((a,b)),axis=1)\n",
    "            test = np.expand_dims(np.concatenate((c,d)),axis=1)\n",
    "\n",
    "            y = np.concatenate(([0] * size,[1] * size))\n",
    "            clf = BaggingClassifier(RandomForestClassifier())\n",
    "            clf.fit(train,y)\n",
    "            z = clf.predict(test)\n",
    "\n",
    "            sum = 0\n",
    "            parts = 2\n",
    "            for i in range (0,parts) :\n",
    "                for j in range (0,size) :\n",
    "                    if z[j + size*i] == i :\n",
    "                        sum += 1\n",
    "            accuracy = sum / len(z)\n",
    "            masterFeature[q, l] = accuracy\n",
    "        print(l)\n",
    "    return masterFeature"
   ]
  },
  {
   "cell_type": "code",
   "execution_count": 319,
   "metadata": {
    "collapsed": true
   },
   "outputs": [],
   "source": [
    "def subsetData(arr,q):\n",
    "    \"\"\"\n",
    "    subsetData is used to split the data into lists with only 1 classifying feature in order to test how important each feature is individually for classification\n",
    "\n",
    "    Parameters:\n",
    "    -----------\n",
    "    arr: array or list\n",
    "        the master array that contains all the features\n",
    "    q: int\n",
    "        the index of the desired feature\n",
    "\n",
    "    Return:\n",
    "    -------\n",
    "    subsetData returns an array with only 1 classifying feature\n",
    "\n",
    "    \"\"\"\n",
    "    \n",
    "    x = [0] * size\n",
    "    for i in range(0,size) :\n",
    "        x[i] = arr[i][q]\n",
    "    return x"
   ]
  },
  {
   "cell_type": "code",
   "execution_count": 328,
   "metadata": {
    "scrolled": true
   },
   "outputs": [
    {
     "name": "stdout",
     "output_type": "stream",
     "text": [
      "0\n",
      "1\n",
      "2\n",
      "3\n",
      "4\n",
      "5\n",
      "6\n",
      "7\n",
      "8\n",
      "9\n",
      "10\n",
      "11\n",
      "12\n",
      "13\n",
      "14\n",
      "15\n",
      "16\n",
      "17\n",
      "18\n",
      "19\n",
      "20\n",
      "21\n",
      "22\n",
      "23\n",
      "24\n",
      "25\n",
      "26\n",
      "27\n",
      "28\n",
      "29\n",
      "30\n",
      "31\n",
      "32\n",
      "33\n",
      "34\n",
      "35\n",
      "36\n",
      "37\n",
      "38\n",
      "39\n",
      "40\n",
      "41\n",
      "42\n",
      "43\n",
      "44\n",
      "45\n",
      "46\n",
      "47\n",
      "48\n",
      "49\n"
     ]
    },
    {
     "data": {
      "image/png": "[encoded data removed]",
      "text/plain": [
       "<matplotlib.figure.Figure at 0x189e3d8d0>"
      ]
     },
     "metadata": {},
     "output_type": "display_data"
    }
   ],
   "source": [
    "featureNames = ['Width X', 'Height Y', 'Depth Z', 'Soma X Position', \\\n",
    "                'Soma Y Position', 'Soma Z Position', 'Soma Radii', \\\n",
    "                'Soma Surface Area', 'Soma Volume', 'Skewness X', \\\n",
    "                'Skewness Y', 'Skewness Z', 'Euclidian Skewness', \\\n",
    "                'Length', 'Surface Area', 'Section Area', 'Volume', \\\n",
    "                'Average Radius', 'Tips', 'Stems', 'Branch Pt', 'Segments']           \n",
    "featureNum = len(featureNames)\n",
    "size = 80\n",
    "masterFeature = getFeatureImportance(50, featureNum)\n",
    "values = np.zeros([2,featureNum])\n",
    "for i in range(0,featureNum) :\n",
    "    values[0,i] = masterFeature[i,:].mean()\n",
    "    values[1,i] = masterFeature[i,:].std()\n",
    "featureNames = np.vstack(featureNames)\n",
    "index = np.argsort(values[0,:])\n",
    "featureRange = np.linspace(0,featureNum-1,featureNum)\n",
    "plt.bar(featureRange,values[0,index], yerr = values[1,index])\n",
    "plt.xticks(featureRange,featureNames[index,0], rotation='vertical')\n",
    "plt.subplots_adjust(bottom=0.15)\n",
    "\n",
    "plt.savefig('/Users/anirudhnatarajan/Documents/UPenn/Misc/featureImportanceNeurons.eps')"
   ]
  },
  {
   "cell_type": "code",
   "execution_count": 388,
   "metadata": {},
   "outputs": [],
   "source": [
    "swc = tree.get_swc()\n",
    "S = McNeuron.subsample.Subsample()\n",
    "S.set_swc(swc)\n",
    "S.fit()\n",
    "standard_swc = S.subsample(subsample_type='straigthen', length = 1)"
   ]
  },
  {
   "cell_type": "code",
   "execution_count": 393,
   "metadata": {},
   "outputs": [
    {
     "data": {
      "text/plain": [
       "PCA(copy=True, iterated_power='auto', n_components=3, random_state=None,\n",
       "  svd_solver='auto', tol=0.0, whiten=False)"
      ]
     },
     "execution_count": 393,
     "metadata": {},
     "output_type": "execute_result"
    }
   ],
   "source": [
    "location = standard_swc[:,2:5]\n",
    "from sklearn.decomposition import PCA\n",
    "pca = PCA(n_components=3)\n",
    "pca.fit(location)"
   ]
  },
  {
   "cell_type": "code",
   "execution_count": 407,
   "metadata": {},
   "outputs": [
    {
     "data": {
      "text/plain": [
       "<matplotlib.collections.PathCollection at 0x183221c88>"
      ]
     },
     "execution_count": 407,
     "metadata": {},
     "output_type": "execute_result"
    },
    {
     "data": {
      "image/png": "[encoded data removed]",
      "text/plain": [
       "<matplotlib.figure.Figure at 0x18349a390>"
      ]
     },
     "metadata": {},
     "output_type": "display_data"
    }
   ],
   "source": [
    "X_embedded = pca.fit_transform(location)\n",
    "plt.scatter(X_embedded[:,1], X_embedded[:,0], marker='x')"
   ]
  },
  {
   "cell_type": "code",
   "execution_count": 410,
   "metadata": {},
   "outputs": [
    {
     "data": {
      "text/plain": [
       "30.870622721134893"
      ]
     },
     "execution_count": 410,
     "metadata": {},
     "output_type": "execute_result"
    }
   ],
   "source": [
    "max(X_embedded[:,0]) - min(X_embedded[:,0])"
   ]
  },
  {
   "cell_type": "code",
   "execution_count": 409,
   "metadata": {},
   "outputs": [
    {
     "data": {
      "text/plain": [
       "{'Average Radius': 0.04623375288734141,\n",
       " 'Branch Pt': 462,\n",
       " 'Depth Z': 42.018678885859046,\n",
       " 'Euclidian Skewness': 30.781375201358223,\n",
       " 'Height Y': 29.580508453257078,\n",
       " 'Length': 1944.8355528613888,\n",
       " 'Nbranch': array([462]),\n",
       " 'Nnodes': array([2930]),\n",
       " 'Nsoma': array([1]),\n",
       " 'Section Area': 60.52848550597983,\n",
       " 'Segments': 924,\n",
       " 'Skewness X': 1.5851981937595423,\n",
       " 'Skewness Y': 3.828235214034645,\n",
       " 'Skewness Z': 30.501226551063773,\n",
       " 'Soma Radii': 0.6245409794949293,\n",
       " 'Soma Surface Area': 0.0,\n",
       " 'Soma Volume': 0.0,\n",
       " 'Soma X Position': 0.0,\n",
       " 'Soma Y Position': 0.0,\n",
       " 'Soma Z Position': 0.0,\n",
       " 'Stems': 4,\n",
       " 'Surface Area': 609.2409275830885,\n",
       " 'Tips': 690,\n",
       " 'Volume': 49.80491697655236,\n",
       " 'Width X': 26.372494002479264,\n",
       " 'branch order': array([4., 1., 1., ..., 0., 0., 0.]),\n",
       " 'initial segments': array([4.])}"
      ]
     },
     "execution_count": 409,
     "metadata": {},
     "output_type": "execute_result"
    }
   ],
   "source": [
    "s_tree.l_measure_features()\n",
    "s_tree.features"
   ]
  },
  {
   "cell_type": "code",
   "execution_count": 433,
   "metadata": {},
   "outputs": [
    {
     "data": {
      "text/plain": [
       "array([ 0.        ,  1.35423916,  1.92135833, ..., 38.00646775,\n",
       "       38.18962467, 38.23031985])"
      ]
     },
     "execution_count": 433,
     "metadata": {},
     "output_type": "execute_result"
    }
   ],
   "source": [
    "tree.location[0,:] = tree.location[0,:] - tree.location[0,0]\n",
    "tree.location[1,:] = tree.location[1,:] - tree.location[1,0]\n",
    "tree.location[2,:] = tree.location[2,:] - tree.location[2,0]\n",
    "tree.location[2]"
   ]
  },
  {
   "cell_type": "code",
   "execution_count": null,
   "metadata": {
    "collapsed": true
   },
   "outputs": [],
   "source": []
  }
 ],
 "metadata": {
  "kernelspec": {
   "display_name": "Python 3",
   "language": "python",
   "name": "python3"
  },
  "language_info": {
   "codemirror_mode": {
    "name": "ipython",
    "version": 3
   },
   "file_extension": ".py",
   "mimetype": "text/x-python",
   "name": "python",
   "nbconvert_exporter": "python",
   "pygments_lexer": "ipython3",
   "version": "3.6.2"
  }
 },
 "nbformat": 4,
 "nbformat_minor": 2
}
