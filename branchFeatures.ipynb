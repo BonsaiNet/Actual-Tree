{
 "cells": [
  {
   "cell_type": "code",
   "execution_count": null,
   "metadata": {
    "collapsed": true
   },
   "outputs": [],
   "source": [
    "import sys\n",
    "sys.path.append(\"/Users/anirudhnatarajan/Documents/UPenn/McNeuron\")\n",
    "import McNeuron\n",
    "import pickle\n",
    "from random import randint\n",
    "import numpy as np\n",
    "import matplotlib.pyplot as plt\n",
    "import statistics as s\n",
    "from scipy import stats\n",
    "import plotly\n",
    "import pandas as pd\n",
    "plotly.tools.set_credentials_file(username='anirudhn',\n",
    "                                 api_key='uaV7Q410noAGBd4zvNTS')\n",
    "%matplotlib inline  "
   ]
  },
  {
   "cell_type": "code",
   "execution_count": null,
   "metadata": {
    "collapsed": true
   },
   "outputs": [],
   "source": [
    "tree_data = pickle.load(open('.././trees/tree_data.csv', 'rb'))"
   ]
  },
  {
   "cell_type": "code",
   "execution_count": null,
   "metadata": {
    "collapsed": true
   },
   "outputs": [],
   "source": [
    "trees = tree_data.sort_values(['location'])\n",
    "trees = trees.reset_index(drop=True)"
   ]
  },
  {
   "cell_type": "code",
   "execution_count": null,
   "metadata": {},
   "outputs": [],
   "source": [
    "index = 40\n",
    "swc = trees['swc'][index]\n",
    "tree = McNeuron.Neuron(swc)\n",
    "tree.basic_features()\n",
    "McNeuron.visualize.plot_2D(tree, axis=(1,0,0), rotation=30, line_width=tree.diameter*20)"
   ]
  },
  {
   "cell_type": "code",
   "execution_count": null,
   "metadata": {
    "collapsed": true
   },
   "outputs": [],
   "source": [
    "#McNeuron.visualize.plot_3D(tree)"
   ]
  },
  {
   "cell_type": "code",
   "execution_count": null,
   "metadata": {
    "collapsed": true
   },
   "outputs": [],
   "source": [
    "def splitBranches(tree) :\n",
    "    branches = np.where(tree.features['branch order']>=2)[0]\n",
    "    numOfBranch = len(branches)\n",
    "    subsets = [0] * numOfBranch\n",
    "    for i in range(0,numOfBranch) :\n",
    "        rest_swc = tree.get_rest_of_neuron_after_node(branches[i])\n",
    "        n = McNeuron.Neuron(rest_swc)\n",
    "        n.l_measure_features()\n",
    "        n.motif_features()\n",
    "        n.geometrical_features()\n",
    "        n.l_measure_features()\n",
    "        subsets[i] = n.getNeuronVector()\n",
    "    return subsets"
   ]
  },
  {
   "cell_type": "code",
   "execution_count": null,
   "metadata": {
    "collapsed": true,
    "scrolled": true
   },
   "outputs": [],
   "source": [
    "def getTreeBranchMaster(location):\n",
    "    ind = np.where(trees['location']==location)[0]\n",
    "    treeBranchMaster = [0] * len(ind)\n",
    "    for i in range (0,len(ind)) :\n",
    "        tree = McNeuron.Neuron(trees['swc'][ind[i]])\n",
    "        tree.basic_features()\n",
    "        treeBranchMaster[i] = splitBranches(tree)\n",
    "        print(ind[i])\n",
    "    return treeBranchMaster"
   ]
  },
  {
   "cell_type": "code",
   "execution_count": null,
   "metadata": {
    "collapsed": true,
    "scrolled": true
   },
   "outputs": [],
   "source": [
    "# treeBranchMasterG = getTreeBranchMaster('Gabon')\n",
    "# print('done')\n",
    "# treeBranchMasterH = getTreeBranchMaster('Ghana')\n",
    "# print('done')\n",
    "# treeBranchMasterU = getTreeBranchMaster('UK')\n",
    "# print('done')\n",
    "# treeBranchMasterW = getTreeBranchMaster('Wytham Meteoc (UK)')\n",
    "# print('done')"
   ]
  },
  {
   "cell_type": "code",
   "execution_count": null,
   "metadata": {
    "collapsed": true
   },
   "outputs": [],
   "source": [
    "import pickle\n",
    "# pickle.dump(treeBranchMasterG, open('treeBranchMasterG','wb') )\n",
    "# pickle.dump(treeBranchMasterH, open('treeBranchMasterH','wb') )\n",
    "# pickle.dump(treeBranchMasterU, open('treeBranchMasterU','wb') )\n",
    "# pickle.dump(treeBranchMasterW, open('treeBranchMasterW','wb') )\n",
    "treeBranchMasterG = pickle.load(open('treeBranchMasterG','rb'))\n",
    "treeBranchMasterH = pickle.load(open('treeBranchMasterH','rb'))\n",
    "treeBranchMasterU = pickle.load(open('treeBranchMasterU','rb'))\n",
    "treeBranchMasterW = pickle.load(open('treeBranchMasterW','rb'))"
   ]
  },
  {
   "cell_type": "code",
   "execution_count": null,
   "metadata": {
    "collapsed": true
   },
   "outputs": [],
   "source": [
    "def getFeature(feature, arr) :\n",
    "    featureArray = [0] * len(arr)\n",
    "    counter = 0\n",
    "    for i in range(0, len(arr)) :\n",
    "        x = [0] * len(arr[i])\n",
    "        for j in range(0,len(arr[i])) :\n",
    "            x[j] = arr[i][j][feature]\n",
    "        featureArray[i-counter] = x\n",
    "        if(len(x)==0) :\n",
    "            featureArray = np.delete(featureArray,i)\n",
    "            counter += 1\n",
    "    return featureArray"
   ]
  },
  {
   "cell_type": "code",
   "execution_count": null,
   "metadata": {
    "collapsed": true,
    "scrolled": true
   },
   "outputs": [],
   "source": [
    "def getFeatureAnalysisMatrixTree(feature, ran, bins) :\n",
    "    featureG = getFeature(feature,treeBranchMasterG)\n",
    "    featureH = getFeature(feature,treeBranchMasterH)\n",
    "    featureU = getFeature(feature,treeBranchMasterU)\n",
    "    featureW = getFeature(feature,treeBranchMasterW)\n",
    "    matrix = np.zeros((4,4))\n",
    "    ref = [featureG,featureH,featureU,featureW]\n",
    "    ind = [[0,0],[0,1],[0,2],[0,3],[1,1],[1,0],[1,2],[1,3],[2,2],[2,1],[2,0],[2,3],[3,3],[3,1],[3,2],[3,0]]\n",
    "    for v in range(0,len(ind)) :\n",
    "        total = 0\n",
    "        s = 0\n",
    "        a = ref[ind[v][0]]\n",
    "        b = ref[ind[v][1]]\n",
    "        start = 0\n",
    "        if v%4==0:\n",
    "            print(v)\n",
    "        for i in range(0,20) :\n",
    "            if v%4==0 :\n",
    "                start = i\n",
    "            for j in range(start,20) :\n",
    "                pdf0 = np.histogram(a[i],normed=True, bins=bins, range=ran)[0]\n",
    "                pdf1 = np.histogram(b[j],normed=True, bins=bins, range=ran)[0]\n",
    "                pdf0 = pdf0/sum(pdf0)\n",
    "                pdf1 = pdf1/sum(pdf1)\n",
    "                s += 1\n",
    "                if (stats.ks_2samp(pdf0,pdf1)[1] < 0.05) :\n",
    "                    total += 1\n",
    "        matrix[ind[v][0]][ind[v][1]] = total/s\n",
    "    return matrix"
   ]
  },
  {
   "cell_type": "code",
   "execution_count": null,
   "metadata": {},
   "outputs": [],
   "source": [
    "getFeatureAnalysisMatrixTree(feature, ran, bins)"
   ]
  },
  {
   "cell_type": "code",
   "execution_count": null,
   "metadata": {},
   "outputs": [],
   "source": [
    "feature = 23\n",
    "featureG = getFeature(feature,treeBranchMasterG)\n",
    "featureH = getFeature(feature,treeBranchMasterH)\n",
    "featureU = getFeature(feature,treeBranchMasterU)\n",
    "featureW = getFeature(feature,treeBranchMasterW)\n",
    "meanG = []\n",
    "meanH = []\n",
    "meanU = []\n",
    "meanW = []\n",
    "for i in range(0,20):\n",
    "    meanG = np.concatenate((meanG,featureG[i]))\n",
    "    meanH = np.concatenate((meanH,featureH[i]))\n",
    "    meanU = np.concatenate((meanU,featureU[i]))\n",
    "    meanW = np.concatenate((meanW,featureW[i]))\n",
    "\n",
    "ran = (1,5)\n",
    "yRan = (0,1)\n",
    "bins = 50\n",
    "fig = plt.figure(figsize=(20, 10))\n",
    "ax1 = plt.subplot2grid((2, 4), (1, 0))\n",
    "ax1.hist(meanG,normed=True,bins=bins,range=ran)\n",
    "ax1.set_ylim(yRan)\n",
    "ax2 = plt.subplot2grid((2, 4), (1, 1))\n",
    "ax2.hist(meanH,normed=True,bins=bins,range=ran)\n",
    "ax2.set_ylim(yRan)\n",
    "ax2.set_yticks([])\n",
    "ax3 = plt.subplot2grid((2, 4), (1, 2))\n",
    "ax3.hist(meanU,normed=True,bins=bins,range=ran)\n",
    "ax3.set_ylim(yRan)\n",
    "ax3.set_yticks([])\n",
    "ax4 = plt.subplot2grid((2, 4), (1, 3))\n",
    "ax4.hist(meanW,normed=True,bins=bins,range=ran)\n",
    "ax4.set_ylim(yRan)\n",
    "ax4.set_yticks([])\n",
    "plt.subplots_adjust(wspace=0)"
   ]
  },
  {
   "cell_type": "code",
   "execution_count": null,
   "metadata": {
    "collapsed": true
   },
   "outputs": [],
   "source": [
    "import pandas as pd\n",
    "neurons = pd.read_pickle(\"/Users/anirudhnatarajan/Documents/UPenn/neuronData/neurons.csv\")"
   ]
  },
  {
   "cell_type": "code",
   "execution_count": null,
   "metadata": {
    "collapsed": true
   },
   "outputs": [],
   "source": [
    "help1 = np.where(neurons['Secondary Brain Region']=='CA1')[0]\n",
    "help2 = np.where(neurons['Species Name']=='mouse')[0]\n",
    "index_to_see = np.intersect1d(help1,help2)\n",
    "\n",
    "indG = np.where(neurons.iloc[index_to_see]['Secondary Cell Class']=='GABAergic')[0]\n",
    "indP = np.where(neurons.iloc[index_to_see]['Secondary Cell Class']=='pyramidal')[0]\n",
    "indS = np.where(neurons.iloc[index_to_see]['Secondary Cell Class']=='Somatostatin (SOM)-positive')[0]\n",
    "indB = np.where(neurons.iloc[index_to_see]['Secondary Cell Class']=='basket')[0]\n",
    "indT = np.where(neurons.iloc[index_to_see]['Secondary Cell Class']=='perisomatic targeting')[0]\n",
    "\n",
    "\n",
    "def getSWC(ind) :\n",
    "    length = len(ind)\n",
    "    swc = [0] * length\n",
    "    for i in range(0,length) :\n",
    "        swc[i] = neurons['swc'][index_to_see[ind]][index_to_see[ind][i]]\n",
    "    return swc\n",
    "\n",
    "swcG = getSWC(indG)\n",
    "swcP = getSWC(indP)\n",
    "swcS = getSWC(indS)\n",
    "swcB = getSWC(indB)\n",
    "swcT = getSWC(indT)"
   ]
  },
  {
   "cell_type": "code",
   "execution_count": null,
   "metadata": {
    "scrolled": true
   },
   "outputs": [],
   "source": [
    "def getAngleHist(index, bins=10) :\n",
    "    sample_tree = McNeuron.Neuron(trees['swc'][index])\n",
    "    print(sample_tree.n_node)\n",
    "    # reg_tree = McNeuron.Neuron(sample_tree.subsample(subsample_type='regular'))\n",
    "    histogram = np.zeros((5,sample_tree.n_node,bins))\n",
    "    nodesLength = [0] * sample_tree.n_node\n",
    "    for i in range(0,sample_tree.n_node) :\n",
    "        subSWC = sample_tree.get_rest_of_neuron_after_node(i)\n",
    "        nodesColor[i] = len(subSWC)\n",
    "        subtree_hist = McNeuron.Neuron(subSWC)\n",
    "        subtree_hist.geometrical_features()\n",
    "        histogram[0][i] = np.histogram(subtree_hist.features['global angle'], range=(0, np.pi), bins=bins, normed=True)[0]\n",
    "        histogram[1][i] = np.histogram(subtree_hist.features['local angle'], range=(0, np.pi), bins=bins, normed=True)[0]\n",
    "        histogram[2][i] = np.histogram(subtree_hist.features['side branch angle'], range=(0, np.pi), bins=bins, normed=True)[0]\n",
    "        histogram[3][i] = np.histogram(subtree_hist.features['segmental branch angle'], range=(0, np.pi), bins=bins, normed=True)[0]\n",
    "        histogram[4][i] = np.histogram(subtree_hist.features['segmental neural length'], range=(0, 20), bins=bins, normed=True)[0]\n",
    "        if i%500==0 :\n",
    "            print(i)\n",
    "    print('done')\n",
    "    return histogram, nodesLength"
   ]
  },
  {
   "cell_type": "code",
   "execution_count": null,
   "metadata": {},
   "outputs": [],
   "source": [
    "plt.scatter(nodesColor, colors[:,0], s=1)\n",
    "plt.axis([-25,1000,-0.05,1])"
   ]
  },
  {
   "cell_type": "code",
   "execution_count": null,
   "metadata": {},
   "outputs": [],
   "source": [
    "fig, ax = plt.subplots(1,1)\n",
    "fig.dpi=300\n",
    "McNeuron.visualize.plot_2D(sample_tree, rotation=30, node_color=colors[:,:3], pass_ax=True, ax=ax, line_width=sample_tree.diameter*10)\n",
    "# fig.savefig('/Users/anirudhnatarajan/Documents/UPenn/Images/neuronColoredExample'+str(ind)+'.eps')\n",
    "# fig.savefig('/Users/anirudhnatarajan/Documents/UPenn/Images/neuronColoredExample'+str(ind)+'.png')"
   ]
  },
  {
   "cell_type": "code",
   "execution_count": null,
   "metadata": {
    "collapsed": true
   },
   "outputs": [],
   "source": [
    "def getBranchAnglePerNode(length, histogram, nodesLength) :\n",
    "    bins = 10\n",
    "    arr = []\n",
    "    index = np.where(np.array(nodesLength)>length)[0]\n",
    "    print(len(index))\n",
    "    for i in range(0,len(index)) :\n",
    "        arr.append(histogram[:,index[i]])\n",
    "        if i%500==0 :\n",
    "            print(i)\n",
    "    return arr"
   ]
  },
  {
   "cell_type": "code",
   "execution_count": null,
   "metadata": {
    "scrolled": true
   },
   "outputs": [],
   "source": [
    "treeHist = getBranchAnglePerNode(400, histogram, nodesLength)\n",
    "treeHist = np.array(treeHist)"
   ]
  },
  {
   "cell_type": "code",
   "execution_count": null,
   "metadata": {},
   "outputs": [],
   "source": [
    "np.std(np.array(treeHist[:,1]), 0)"
   ]
  },
  {
   "cell_type": "code",
   "execution_count": null,
   "metadata": {},
   "outputs": [],
   "source": [
    "similarityData = pd.DataFrame()\n",
    "for i in range(0,len(trees)) :\n",
    "    masterHist, nodesLength = getAngleHist(i)\n",
    "    similarityData.append({'name': trees['location'][i], 'masterHist':[masterHist], 'nodesLength':[nodesLength]}, ignore_index=True)"
   ]
  },
  {
   "cell_type": "code",
   "execution_count": null,
   "metadata": {},
   "outputs": [],
   "source": [
    "s = 0\n",
    "t = 0\n",
    "for i in range(0,len(treeHist)) :\n",
    "    for j in range(i,len(treeHist)) :\n",
    "        pdf0 = treeHist[i]/sum(treeHist[i])\n",
    "        pdf1 = treeHist[j]/sum(treeHist[j])\n",
    "        t += 1\n",
    "        if (stats.ks_2samp(pdf0,pdf1)[1] < 0.05) :\n",
    "            s += 1\n",
    "print(s/t)"
   ]
  },
  {
   "cell_type": "code",
   "execution_count": null,
   "metadata": {},
   "outputs": [],
   "source": [
    "f,g = 5,2\n",
    "fig, axis = plt.subplots(f,g)\n",
    "fig.dpi=300\n",
    "neuronInd = [5,12,0,12,13,12,1,19,16,8]\n",
    "McNeuron.visualize.plot_2D(swcG[neuronInd[0]], pass_ax=True, ax=axis[0,0])\n",
    "McNeuron.visualize.plot_2D(swcG[neuronInd[1]], pass_ax=True, ax=axis[0,1])\n",
    "McNeuron.visualize.plot_2D(swcP[neuronInd[2]], pass_ax=True, ax=axis[1,0])\n",
    "McNeuron.visualize.plot_2D(swcP[neuronInd[3]], pass_ax=True, ax=axis[1,1])\n",
    "McNeuron.visualize.plot_2D(swcB[neuronInd[4]], pass_ax=True, ax=axis[2,0])\n",
    "McNeuron.visualize.plot_2D(swcB[neuronInd[5]], pass_ax=True, ax=axis[2,1])\n",
    "McNeuron.visualize.plot_2D(swcS[neuronInd[6]], pass_ax=True, ax=axis[3,0])\n",
    "McNeuron.visualize.plot_2D(swcS[neuronInd[7]], pass_ax=True, ax=axis[3,1])\n",
    "McNeuron.visualize.plot_2D(swcT[neuronInd[8]], pass_ax=True, ax=axis[4,0])\n",
    "McNeuron.visualize.plot_2D(swcT[neuronInd[9]], pass_ax=True, ax=axis[4,1])\n",
    "\n",
    "# fig.savefig('/Users/anirudhnatarajan/Documents/UPenn/Images/neuronExamples.eps')\n",
    "# fig.savefig('/Users/anirudhnatarajan/Documents/UPenn/Images/neuronExamples.png')"
   ]
  },
  {
   "cell_type": "code",
   "execution_count": null,
   "metadata": {
    "collapsed": true
   },
   "outputs": [],
   "source": [
    "treeInd = [7,36,40,73]\n",
    "nodeDistance = 0.1\n",
    "treeArr = [McNeuron.Neuron(trees['swc'][treeInd[0]]), McNeuron.Neuron(trees['swc'][treeInd[1]]), McNeuron.Neuron(trees['swc'][treeInd[2]]), McNeuron.Neuron(trees['swc'][treeInd[3]])]\n",
    "treeSubArr = [McNeuron.Neuron(treeArr[0].subsample(subsample_type='straigthen', length=nodeDistance)), McNeuron.Neuron(treeArr[1].subsample(subsample_type='straigthen', length=nodeDistance)), McNeuron.Neuron(treeArr[2].subsample(subsample_type='straigthen', length=nodeDistance)), McNeuron.Neuron(treeArr[3].subsample(subsample_type='straigthen', length=nodeDistance))]"
   ]
  },
  {
   "cell_type": "code",
   "execution_count": null,
   "metadata": {},
   "outputs": [],
   "source": [
    "sample_tree = McNeuron.Neuron(trees['swc'][50])\n",
    "\n",
    "McNeuron.visualize.plot_2D(sample_tree, rotation=30, node_index_red_after=80, line_width=sample_tree.diameter*30)"
   ]
  },
  {
   "cell_type": "code",
   "execution_count": null,
   "metadata": {},
   "outputs": [],
   "source": [
    "sample_tree = McNeuron.Neuron(trees['swc'][50])\n",
    "reg_tree = McNeuron.Neuron(sample_tree.subsample(subsample_type='regular'))\n",
    "McNeuron.visualize.plot_2D(McNeuron.Neuron(reg_tree), rotation=30)"
   ]
  },
  {
   "cell_type": "code",
   "execution_count": null,
   "metadata": {
    "scrolled": true
   },
   "outputs": [],
   "source": [
    "ind = 20\n",
    "sample_tree = McNeuron.Neuron(trees['swc'][ind])\n",
    "print(sample_tree.n_node)\n",
    "# reg_tree = McNeuron.Neuron(sample_tree.subsample(subsample_type='regular'))\n",
    "colors = np.zeros((sample_tree.n_node,3))\n",
    "for i in range(0,sample_tree.n_node) :\n",
    "    subtree_hist = McNeuron.Neuron(sample_tree.get_rest_of_neuron_after_node(i))\n",
    "    subtree_hist.geometrical_features()\n",
    "    colors[i] = np.histogram(subtree_hist.features['branch angle'], range=(0, np.pi), bins=3, normed=True)[0]\n",
    "    if i%500==0 :\n",
    "        print(i)"
   ]
  },
  {
   "cell_type": "code",
   "execution_count": null,
   "metadata": {},
   "outputs": [],
   "source": [
    "fig, ax = plt.subplots(1,1, figsize=(10, 10))\n",
    "fig.dpi=300\n",
    "McNeuron.visualize.plot_2D(sample_tree, rotation=30, node_color=colors, pass_ax=True, ax=ax, line_width=sample_tree.diameter*30)\n",
    "fig.savefig('/Users/anirudhnatarajan/Documents/UPenn/Images/treeColoredExample'+str(ind)+'.eps')\n",
    "fig.savefig('/Users/anirudhnatarajan/Documents/UPenn/Images/treeColoredExample'+str(ind)+'.png')"
   ]
  },
  {
   "cell_type": "code",
   "execution_count": null,
   "metadata": {},
   "outputs": [],
   "source": [
    "nodes = [0,20,80,100,310]\n",
    "fig, ax = plt.subplots(len(nodes),2, figsize=(20, 25))\n",
    "for node in range(len(nodes)):\n",
    "    subtree_hist = McNeuron.Neuron(sample_tree.get_rest_of_neuron_after_node(nodes[node]))\n",
    "    subtree_hist.geometrical_features()\n",
    "    h = np.histogram(subtree_hist.features['branch angle'], range=(0, np.pi), bins=10)[0]\n",
    "    h = h/sum(h)\n",
    "    ax[node,0].bar(np.arange(0, np.pi, np.pi/10),h, width=.3)\n",
    "    McNeuron.visualize.plot_2D(subtree_hist, rotation=30, line_width=subtree_hist.diameter*50, pass_ax=True, ax=ax[node,1])\n",
    "\n",
    "# fig.savefig('/Users/anirudhnatarajan/Documents/UPenn/Images/branchHistExamples.eps')\n",
    "# fig.savefig('/Users/anirudhnatarajan/Documents/UPenn/Images/branchHistExamples.png')"
   ]
  },
  {
   "cell_type": "code",
   "execution_count": null,
   "metadata": {},
   "outputs": [],
   "source": [
    "f,g = 2,2\n",
    "fig, axis = plt.subplots(f,g)\n",
    "fig.dpi=300\n",
    "McNeuron.visualize.plot_2D(treeSubArr[0], axis=(1,0,0), rotation=30, pass_ax=True, ax=axis[0,0], line_width=treeSubArr[0].diameter*10)\n",
    "McNeuron.visualize.plot_2D(treeSubArr[1], axis=(1,0,0), rotation=30, pass_ax=True, ax=axis[0,1], line_width=treeSubArr[1].diameter*10)\n",
    "McNeuron.visualize.plot_2D(treeSubArr[2], axis=(1,0,0), rotation=30, pass_ax=True, ax=axis[1,0], line_width=treeSubArr[2].diameter*10)\n",
    "McNeuron.visualize.plot_2D(treeSubArr[3], axis=(1,0,0), rotation=30, pass_ax=True, ax=axis[1,1], line_width=treeSubArr[3].diameter*10)\n",
    "\n",
    "fig.savefig('/Users/anirudhnatarajan/Documents/UPenn/Images/treeExamples.eps')\n",
    "fig.savefig('/Users/anirudhnatarajan/Documents/UPenn/Images/treeExamples.png')"
   ]
  },
  {
   "cell_type": "code",
   "execution_count": null,
   "metadata": {
    "collapsed": true
   },
   "outputs": [],
   "source": [
    "import pandas as pd\n",
    "neurons = pd.read_pickle(\"/Users/anirudhnatarajan/Documents/UPenn/neuronData/neurons.csv\")"
   ]
  },
  {
   "cell_type": "code",
   "execution_count": null,
   "metadata": {
    "collapsed": true
   },
   "outputs": [],
   "source": [
    "def getNeurons(swc, size) :\n",
    "    rand = np.linspace(0,len(swc)-1,len(swc))\n",
    "    n = [0] * size\n",
    "    for i in range (0,size) :\n",
    "        r = randint(0,len(rand)-1)\n",
    "        n[i] = McNeuron.Neuron(swc[int(rand[r])])\n",
    "        rand = np.delete(rand,r)\n",
    "        if i%10==0 :\n",
    "            print(i)\n",
    "    print('done')\n",
    "    return np.array(n)"
   ]
  },
  {
   "cell_type": "code",
   "execution_count": null,
   "metadata": {},
   "outputs": [],
   "source": [
    "size = 20\n",
    "\n",
    "neuronG = getNeurons(swcG, size)\n",
    "neuronP = getNeurons(swcP, size)\n",
    "neuronS = getNeurons(swcS, size)\n",
    "neuronB = getNeurons(swcB, size)\n",
    "neuronT = getNeurons(swcT, size)"
   ]
  },
  {
   "cell_type": "code",
   "execution_count": null,
   "metadata": {
    "collapsed": true,
    "scrolled": true
   },
   "outputs": [],
   "source": [
    "def getNeuronBranchMaster(arr):\n",
    "    neuronBranchMaster = [0] * len(arr)\n",
    "    for i in range (0,len(arr)) :\n",
    "        n = arr[i]\n",
    "        n.basic_features()\n",
    "        neuronBranchMaster[i] = splitBranches(n)\n",
    "        if i%10==0 :\n",
    "            print(i)\n",
    "    print('done')\n",
    "    return neuronBranchMaster"
   ]
  },
  {
   "cell_type": "code",
   "execution_count": null,
   "metadata": {
    "scrolled": true
   },
   "outputs": [],
   "source": [
    "neuronBranchMasterG = getNeuronBranchMaster(neuronG)\n",
    "neuronBranchMasterP = getNeuronBranchMaster(neuronP)\n",
    "neuronBranchMasterS = getNeuronBranchMaster(neuronS)\n",
    "neuronBranchMasterB = getNeuronBranchMaster(neuronB)\n",
    "neuronBranchMasterT = getNeuronBranchMaster(neuronT)"
   ]
  },
  {
   "cell_type": "code",
   "execution_count": null,
   "metadata": {
    "collapsed": true
   },
   "outputs": [],
   "source": [
    "def getFeatureAnalysisMatrixNeuron(feature,ran, bins) :\n",
    "    featureG = getFeature(feature,neuronBranchMasterG)\n",
    "    featureP = getFeature(feature,neuronBranchMasterP)\n",
    "    featureS = getFeature(feature,neuronBranchMasterS)\n",
    "    featureB = getFeature(feature,neuronBranchMasterB)\n",
    "    featureT = getFeature(feature,neuronBranchMasterT)\n",
    "    matrix = np.zeros((5,5))\n",
    "    ref = [featureG,featureP,featureS,featureB,featureT]\n",
    "    ind = [[0,0],[0,1],[0,2],[0,3],[0,4],[1,0],[1,1],[1,2],[1,3],[1,4],[2,0],[2,1],[2,2],[2,3],[2,4],[3,0],[3,1],[3,2],[3,3],[3,4],[4,0],[4,1],[4,2],[4,3],[4,4]]\n",
    "    for v in range(0,len(ind)) :\n",
    "        total = 0\n",
    "        s=0\n",
    "        a = ref[ind[v][0]]\n",
    "        b = ref[ind[v][1]]\n",
    "        for i in range(0,len(a)) :\n",
    "            start = 0\n",
    "            if a==b :\n",
    "                start = i\n",
    "            for j in range(start,len(b)) :\n",
    "                pdf0 = np.histogram(a[i],normed=True, bins=bins, range=ran)[0]\n",
    "                pdf1 = np.histogram(b[j],normed=True, bins=bins, range=ran)[0]\n",
    "                pdf0 = pdf0/sum(pdf0)\n",
    "                pdf1 = pdf1/sum(pdf1)\n",
    "                s += 1\n",
    "                if (stats.ks_2samp(pdf0,pdf1)[1] < 0.05) :\n",
    "                    total += 1\n",
    "        matrix[ind[v][0]][ind[v][1]] = total/s\n",
    "        if v%5==0 :\n",
    "            print(v)\n",
    "    return matrix"
   ]
  },
  {
   "cell_type": "code",
   "execution_count": null,
   "metadata": {
    "collapsed": true
   },
   "outputs": [],
   "source": [
    "getFeatureAnalysisMatrixNeuron(feature, ran, bins)"
   ]
  },
  {
   "cell_type": "code",
   "execution_count": null,
   "metadata": {
    "scrolled": false
   },
   "outputs": [],
   "source": [
    "feature = 2\n",
    "featureG = getFeature(feature,neuronBranchMasterG)\n",
    "featureP = getFeature(feature,neuronBranchMasterP)\n",
    "featureS = getFeature(feature,neuronBranchMasterS)\n",
    "featureB = getFeature(feature,neuronBranchMasterB)\n",
    "featureT = getFeature(feature,neuronBranchMasterT)\n",
    "meanG = []\n",
    "meanP = []\n",
    "meanS = []\n",
    "meanB = []\n",
    "meanT = []\n",
    "for i in range(0,len(featureG)):\n",
    "    meanG = np.concatenate((meanG,featureG[i]))\n",
    "    meanP = np.concatenate((meanP,featureP[i]))\n",
    "    meanS = np.concatenate((meanS,featureS[i]))\n",
    "    meanB = np.concatenate((meanB,featureB[i]))\n",
    "    meanT = np.concatenate((meanT,featureT[i]))\n",
    "\n",
    "bins = 15\n",
    "ran = (0,1)\n",
    "ylim = [0,16]\n",
    "fig = plt.figure(figsize=(30, 15))\n",
    "ax1 = plt.subplot2grid((2, 5), (1, 0))\n",
    "ax1.set_ylim(ylim)\n",
    "ax1.hist(meanG,normed=True,bins=bins,range=ran)\n",
    "ax2 = plt.subplot2grid((2, 5), (1, 1))\n",
    "ax2.set_ylim(ylim)\n",
    "ax2.hist(meanP,normed=True,bins=bins,range=ran)\n",
    "ax2.set_yticks([])\n",
    "ax3 = plt.subplot2grid((2, 5), (1, 2))\n",
    "ax3.set_ylim(ylim)\n",
    "ax3.hist(meanS,normed=True,bins=bins,range=ran)\n",
    "ax3.set_yticks([])\n",
    "ax4 = plt.subplot2grid((2, 5), (1, 3))\n",
    "ax4.set_ylim(ylim)\n",
    "ax4.hist(meanB,normed=True,bins=bins,range=ran)\n",
    "ax4.set_yticks([])\n",
    "ax5 = plt.subplot2grid((2, 5), (1, 4))\n",
    "ax5.set_ylim(ylim)\n",
    "ax5.hist(meanT,normed=True,bins=bins,range=ran)\n",
    "ax5.set_yticks([])\n",
    "\n",
    "# ax3 = plt.subplot2grid((2, 2), (0, 0))\n",
    "# McNeuron.visualize.plot_2D(swcO[ind[0]], pass_ax=True, ax=ax3, line_width=McNeuron.Neuron(swcO[ind[0]]).diameter)\n",
    "# ax4 = plt.subplot2grid((2, 2), (0, 1))\n",
    "# McNeuron.visualize.plot_2D(swcO[ind[3]], pass_ax=True, ax=ax4, line_width=McNeuron.Neuron(swcO[ind[3]]).diameter)\n",
    "\n",
    "plt.subplots_adjust(wspace=0)"
   ]
  },
  {
   "cell_type": "code",
   "execution_count": null,
   "metadata": {},
   "outputs": [],
   "source": [
    "print('🍎🍜🍦🌾🍴🍩🍯 🍼. 🍜🍎🌮🍎🌾🍎🍹🍎🍜')"
   ]
  },
  {
   "cell_type": "code",
   "execution_count": null,
   "metadata": {
    "collapsed": true
   },
   "outputs": [],
   "source": []
  },
  {
   "cell_type": "code",
   "execution_count": null,
   "metadata": {
    "collapsed": true
   },
   "outputs": [],
   "source": []
  },
  {
   "cell_type": "code",
   "execution_count": null,
   "metadata": {
    "collapsed": true
   },
   "outputs": [],
   "source": []
  }
 ],
 "metadata": {
  "kernelspec": {
   "display_name": "Python 3",
   "language": "python",
   "name": "python3"
  },
  "language_info": {
   "codemirror_mode": {
    "name": "ipython",
    "version": 3
   },
   "file_extension": ".py",
   "mimetype": "text/x-python",
   "name": "python",
   "nbconvert_exporter": "python",
   "pygments_lexer": "ipython3",
   "version": "3.6.2"
  }
 },
 "nbformat": 4,
 "nbformat_minor": 2
}
