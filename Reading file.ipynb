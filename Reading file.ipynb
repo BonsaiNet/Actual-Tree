{
 "cells": [
  {
   "cell_type": "code",
   "execution_count": 26,
   "metadata": {
    "collapsed": true
   },
   "outputs": [],
   "source": [
    "import tarfile\n",
    "import numpy as np\n",
    "import scipy.io as spio\n",
    "import os"
   ]
  },
  {
   "cell_type": "markdown",
   "metadata": {},
   "source": [
    "## To extract .tar.gz file"
   ]
  },
  {
   "cell_type": "code",
   "execution_count": 39,
   "metadata": {},
   "outputs": [],
   "source": [
    "tar = tarfile.open(\"./trees4roozbeh/missing.tar.gz\", \"r:gz\")\n",
    "tar.extractall(\"./trees4roozbeh/\")"
   ]
  },
  {
   "cell_type": "code",
   "execution_count": 40,
   "metadata": {},
   "outputs": [],
   "source": [
    "mat = spio.loadmat('./trees4roozbeh/0.mat', squeeze_me=True)"
   ]
  },
  {
   "cell_type": "code",
   "execution_count": 41,
   "metadata": {},
   "outputs": [
    {
     "data": {
      "text/plain": [
       "['Nei',\n",
       " 'CPar',\n",
       " 'BAng',\n",
       " 'BOrd',\n",
       " 'CExt',\n",
       " 'TreeData',\n",
       " 'Cen',\n",
       " 'BSeg',\n",
       " 'Len',\n",
       " 'FCB',\n",
       " 'Base',\n",
       " 'BVol',\n",
       " 'SPar',\n",
       " '__version__',\n",
       " 'SoC',\n",
       " 'Sta',\n",
       " 'CChi',\n",
       " 'P',\n",
       " 'Added',\n",
       " 'Axe',\n",
       " 'BChi',\n",
       " 'Bal',\n",
       " 'BLen',\n",
       " 'BPar',\n",
       " 'CiB',\n",
       " 'Rad',\n",
       " '__header__',\n",
       " 'Segs',\n",
       " '__globals__',\n",
       " 'CiS',\n",
       " 'Forb',\n",
       " 'BoC',\n",
       " 'SChi']"
      ]
     },
     "execution_count": 41,
     "metadata": {},
     "output_type": "execute_result"
    }
   ],
   "source": [
    "mat.keys()"
   ]
  },
  {
   "cell_type": "code",
   "execution_count": 23,
   "metadata": {},
   "outputs": [
    {
     "data": {
      "text/plain": [
       "6001759"
      ]
     },
     "execution_count": 23,
     "metadata": {},
     "output_type": "execute_result"
    }
   ],
   "source": [
    "os.path.getsize('./trees4roozbeh/40.ply')"
   ]
  },
  {
   "cell_type": "code",
   "execution_count": 24,
   "metadata": {},
   "outputs": [
    {
     "data": {
      "text/plain": [
       "6001759"
      ]
     },
     "execution_count": 24,
     "metadata": {},
     "output_type": "execute_result"
    }
   ],
   "source": [
    "os.path.getsize('./trees4roozbeh/40.ply')"
   ]
  },
  {
   "cell_type": "code",
   "execution_count": 25,
   "metadata": {},
   "outputs": [
    {
     "data": {
      "text/plain": [
       "9067"
      ]
     },
     "execution_count": 25,
     "metadata": {},
     "output_type": "execute_result"
    }
   ],
   "source": [
    "os.path.getsize('./trees4roozbeh/treeindex.csv')"
   ]
  },
  {
   "cell_type": "code",
   "execution_count": null,
   "metadata": {
    "collapsed": true
   },
   "outputs": [],
   "source": []
  }
 ],
 "metadata": {
  "kernelspec": {
   "display_name": "Python [default]",
   "language": "python",
   "name": "python2"
  },
  "language_info": {
   "codemirror_mode": {
    "name": "ipython",
    "version": 2
   },
   "file_extension": ".py",
   "mimetype": "text/x-python",
   "name": "python",
   "nbconvert_exporter": "python",
   "pygments_lexer": "ipython2",
   "version": "2.7.13"
  }
 },
 "nbformat": 4,
 "nbformat_minor": 2
}
