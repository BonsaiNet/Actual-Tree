{
 "cells": [
  {
   "cell_type": "code",
   "execution_count": 2,
   "metadata": {
    "collapsed": true
   },
   "outputs": [],
   "source": [
    "import sys\n",
    "#change these paths to where they are located on your computer\n",
    "sys.path.append(\"/Users/anirudhnatarajan/Documents/UPenn/McNeuron\")\n",
    "import McNeuron\n",
    "import pickle\n",
    "from random import randint\n",
    "import numpy as np\n",
    "import matplotlib.pyplot as plt\n",
    "import math\n",
    "%matplotlib inline"
   ]
  },
  {
   "cell_type": "code",
   "execution_count": 3,
   "metadata": {
    "collapsed": true
   },
   "outputs": [],
   "source": [
    "tree_data = pickle.load(open('.././trees/tree_data.csv', 'rb'))"
   ]
  },
  {
   "cell_type": "code",
   "execution_count": 4,
   "metadata": {
    "collapsed": true
   },
   "outputs": [],
   "source": [
    "trees = tree_data.sort_values(['location'])\n",
    "trees = trees.reset_index(drop=True)"
   ]
  },
  {
   "cell_type": "code",
   "execution_count": 5,
   "metadata": {},
   "outputs": [],
   "source": [
    "def splitTrees(location) :\n",
    "    \"\"\"\n",
    "    splitTrees is used to quickly and efficiently split the data into usable chunks\n",
    "\n",
    "    Parameters:\n",
    "    -----------\n",
    "    location: string\n",
    "        the name of the location where the tree is from, matches exactly with the trees dataset, and is a string\n",
    "\n",
    "    Return:\n",
    "    -------\n",
    "    splitTrees returns 2 lists of equal size that contain proper training and testing data\n",
    "\n",
    "    \"\"\"\n",
    "    \n",
    "    ind = np.where(trees['location']==location)[0]\n",
    "    \n",
    "    train = [0] * size\n",
    "    test = [0] * size\n",
    "    rand = np.linspace(0,totalTrees-1,totalTrees)\n",
    "    \n",
    "    for i in range (0,size) :\n",
    "        r = randint(0,len(rand)-1)\n",
    "        neuron = McNeuron.Neuron(trees['swc'][ind[int(rand[r])]])\n",
    "        rand = np.delete(rand,r)\n",
    "        neuron.setNormalizedFeatures()\n",
    "        neuron.geometrical_features()\n",
    "        neuron.motif_features()\n",
    "        train[i] = neuron.getNeuronVector()\n",
    "    \n",
    "#     print('half')\n",
    "    for i in range (0,size) :\n",
    "        r = randint(0,len(rand)-1)\n",
    "        neuron = McNeuron.Neuron(trees['swc'][ind[int(rand[r])]])\n",
    "        rand = np.delete(rand,r)\n",
    "        neuron.setNormalizedFeatures()\n",
    "        neuron.geometrical_features()\n",
    "        neuron.motif_features()\n",
    "        test[i] = neuron.getNeuronVector()\n",
    "        \n",
    "    return train,test"
   ]
  },
  {
   "cell_type": "code",
   "execution_count": 6,
   "metadata": {
    "collapsed": true
   },
   "outputs": [],
   "source": [
    "import pandas as pd\n",
    "neurons = pd.read_pickle(\"/Users/anirudhnatarajan/Documents/UPenn/neuronData/neurons.csv\")"
   ]
  },
  {
   "cell_type": "code",
   "execution_count": 7,
   "metadata": {
    "collapsed": true
   },
   "outputs": [],
   "source": [
    "indC = np.where(neurons['Experimental Condition']=='Control')[0]\n",
    "indD = np.where(neurons['Species Name']=='drosophila melanogaster')[0]\n",
    "indO = np.where(neurons['Primary Brain Region']=='optic Lobe')[0]\n",
    "indP = np.where(neurons['Primary Brain Region']=='protocerebrum')[0]\n",
    "swcO = [0] * 7099\n",
    "swcP = [0] * 8890\n",
    "\n",
    "counter = 0\n",
    "for i in range(0,len(indD)) :\n",
    "    if np.any(indC[:] == indD[i]) & np.any(indO[:] == indD[i]) :\n",
    "        swcO[counter] = neurons['swc'][indD[i]]\n",
    "        counter += 1\n",
    "\n",
    "counter = 0\n",
    "for i in range(0,len(indD)) :\n",
    "    if np.any(indC[:] == indD[i]) & np.any(indP[:] == indD[i]) :\n",
    "        swcP[counter] = neurons['swc'][indD[i]]\n",
    "        counter += 1"
   ]
  },
  {
   "cell_type": "code",
   "execution_count": 8,
   "metadata": {
    "collapsed": true
   },
   "outputs": [],
   "source": [
    "def getNeuronVector(swc, size, rand) :\n",
    "    n = [0] * size\n",
    "    for i in range (0,size) :\n",
    "        r = randint(0,len(rand)-1)\n",
    "        neu = McNeuron.Neuron(swc[int(rand[r])])\n",
    "        rand = np.delete(rand,r)\n",
    "        neu.setNormalizedFeatures()\n",
    "        neu.geometrical_features()\n",
    "        neu.motif_features()\n",
    "        n[i] = neu.getNeuronVector()\n",
    "    return n,rand"
   ]
  },
  {
   "cell_type": "code",
   "execution_count": 9,
   "metadata": {},
   "outputs": [
    {
     "name": "stdout",
     "output_type": "stream",
     "text": [
      "done\n",
      "done\n",
      "done\n",
      "done\n",
      "done\n",
      "done\n",
      "done\n",
      "done\n"
     ]
    }
   ],
   "source": [
    "totalTrees = 20\n",
    "size = int(totalTrees/2)\n",
    "\n",
    "trainG, testG = splitTrees('Gabon')\n",
    "print('done')\n",
    "trainH, testH = splitTrees('Ghana')\n",
    "print('done')\n",
    "trainU, testU = splitTrees('UK')\n",
    "print('done')\n",
    "trainW, testW = splitTrees('Wytham Meteoc (UK)')\n",
    "print('done')\n",
    "\n",
    "randO = np.linspace(0,len(swcO)-1,len(swcO))\n",
    "randP = np.linspace(0,len(swcP)-1,len(swcP))\n",
    "trainO,randO = getNeuronVector(swcO, size*2, randO)\n",
    "print('done')\n",
    "trainP,randP = getNeuronVector(swcP, size*2, randP)\n",
    "print('done')\n",
    "testO,randO = getNeuronVector(swcO, size*2, randO)\n",
    "print('done')\n",
    "testP,randP = getNeuronVector(swcP, size*2, randP)\n",
    "print('done')"
   ]
  },
  {
   "cell_type": "code",
   "execution_count": 10,
   "metadata": {
    "collapsed": true
   },
   "outputs": [],
   "source": [
    "from sklearn import svm\n",
    "from sklearn.ensemble import RandomForestClassifier\n",
    "from sklearn.ensemble import ExtraTreesClassifier\n",
    "from sklearn.tree import DecisionTreeClassifier\n",
    "from sklearn.ensemble import GradientBoostingClassifier\n",
    "from sklearn.ensemble import BaggingClassifier\n",
    "from sklearn import neighbors\n",
    "from sklearn.linear_model import SGDClassifier\n",
    "from sklearn.neural_network import MLPClassifier\n",
    "from sklearn.naive_bayes import GaussianNB\n",
    "from sklearn import linear_model"
   ]
  },
  {
   "cell_type": "code",
   "execution_count": 11,
   "metadata": {
    "collapsed": true
   },
   "outputs": [],
   "source": [
    "def subsetData(arr,q):\n",
    "    \"\"\"\n",
    "    subsetData is used to split the data into lists with only 1 classifying feature in order to test how important each feature is individually for classification\n",
    "\n",
    "    Parameters:\n",
    "    -----------\n",
    "    arr: array or list\n",
    "        the master array that contains all the features\n",
    "    q: int\n",
    "        the index of the desired feature\n",
    "\n",
    "    Return:\n",
    "    -------\n",
    "    subsetData returns an array with only 1 classifying feature\n",
    "\n",
    "    \"\"\"\n",
    "    \n",
    "    x = [0] * len(arr)\n",
    "    for i in range(0,len(arr)) :\n",
    "        x[i] = arr[i][q]\n",
    "    return x"
   ]
  },
  {
   "cell_type": "code",
   "execution_count": 14,
   "metadata": {
    "scrolled": false
   },
   "outputs": [
    {
     "name": "stdout",
     "output_type": "stream",
     "text": [
      "0.7875 0\n",
      "0.6875 1\n",
      "0.7 2\n",
      "0.6 3\n",
      "0.6 4\n",
      "0.6625 5\n",
      "0.8625 6\n",
      "0.8875 7\n",
      "0.5375 8\n",
      "0.9 9\n",
      "0.4875 10\n",
      "0.625 11\n",
      "0.6625 12\n",
      "0.7875 13\n",
      "0.95 14\n",
      "0.55 15\n",
      "0.9 16\n",
      "0.9 17\n",
      "0.925 18\n",
      "0.8625 19\n",
      "0.95 20\n",
      "0.675 21\n",
      "0.725 22\n",
      "0.875 23\n",
      "0.875 24\n",
      "0.7125 25\n",
      "0.7625 26\n",
      "0.825 27\n",
      "0.65 28\n",
      "0.95 29\n",
      "0.9875 30\n",
      "0.7375 31\n"
     ]
    }
   ],
   "source": [
    "for q in range(0,32) :\n",
    "    a = subsetData(trainO,q)\n",
    "    b = subsetData(trainP,q)\n",
    "    c = subsetData(trainG,q)\n",
    "    d = subsetData(trainH,q)\n",
    "    e = subsetData(trainU,q)\n",
    "    f = subsetData(trainW,q)\n",
    "    g = subsetData(testO,q)\n",
    "    h = subsetData(testP,q)\n",
    "    i = subsetData(testG,q)\n",
    "    j = subsetData(testH,q)\n",
    "    k = subsetData(testU,q)\n",
    "    l = subsetData(testW,q)\n",
    "\n",
    "    train = np.expand_dims(np.concatenate((a,b,c,d,e,f)),axis=1)\n",
    "    test = np.expand_dims(np.concatenate((g,h,i,j,k,l)),axis=1)\n",
    "\n",
    "    y = np.concatenate(([0] * size*4,[1] * size*4))\n",
    "    clf = BaggingClassifier(RandomForestClassifier())\n",
    "    clf.fit(train,y)\n",
    "    z = clf.predict(test)\n",
    "\n",
    "    sum = 0\n",
    "    parts = 2\n",
    "    for i in range (0,parts) :\n",
    "        for j in range (0,size*4) :\n",
    "            if z[j + size*4*i] == i :\n",
    "                sum += 1\n",
    "    accuracy = sum / len(z)\n",
    "    print(accuracy, q)"
   ]
  },
  {
   "cell_type": "code",
   "execution_count": 19,
   "metadata": {
    "collapsed": true
   },
   "outputs": [],
   "source": [
    "def getFeatureImportance(length, featureNum) :\n",
    "    \"\"\"\n",
    "    getFeatureImportance uses the subsetData function to generate a matrix with a large number of individual feature accuracies.\n",
    "\n",
    "    Parameters:\n",
    "    -----------\n",
    "    length: int\n",
    "        how many times the function will get new data and test the accuracy of individual features \n",
    "    featureNum: int\n",
    "        the number of features needed to be tested\n",
    "\n",
    "    Return:\n",
    "    -------\n",
    "    getFeatureImportance returns a matrix of shape (featureNum,length) with all values filled with the accuracy of each feature\n",
    "\n",
    "    \"\"\"\n",
    "    \n",
    "    masterFeature = np.zeros([featureNum, length])\n",
    "    for t in range (0,length) :\n",
    "        \n",
    "        trainG, testG = splitTrees('Gabon')\n",
    "        trainH, testH = splitTrees('Ghana')\n",
    "        trainU, testU = splitTrees('UK')\n",
    "        trainW, testW = splitTrees('Wytham Meteoc (UK)')\n",
    "        print('done')\n",
    "\n",
    "        randO = np.linspace(0,len(swcO)-1,len(swcO))\n",
    "        randP = np.linspace(0,len(swcP)-1,len(swcP))\n",
    "        trainO,randO = getNeuronVector(swcO, size*2, randO)\n",
    "        trainP,randP = getNeuronVector(swcP, size*2, randP)\n",
    "        testO,randO = getNeuronVector(swcO, size*2, randO)\n",
    "        testP,randP = getNeuronVector(swcP, size*2, randP)\n",
    "        print('done')\n",
    "        \n",
    "        for q in range(0,featureNum) :\n",
    "            a = subsetData(trainO,q)\n",
    "            b = subsetData(trainP,q)\n",
    "            c = subsetData(trainG,q)\n",
    "            d = subsetData(trainH,q)\n",
    "            e = subsetData(trainU,q)\n",
    "            f = subsetData(trainW,q)\n",
    "            g = subsetData(testO,q)\n",
    "            h = subsetData(testP,q)\n",
    "            i = subsetData(testG,q)\n",
    "            j = subsetData(testH,q)\n",
    "            k = subsetData(testU,q)\n",
    "            l = subsetData(testW,q)\n",
    "\n",
    "            train = np.expand_dims(np.concatenate((a,b,c,d,e,f)),axis=1)\n",
    "            test = np.expand_dims(np.concatenate((g,h,i,j,k,l)),axis=1)\n",
    "\n",
    "            y = np.concatenate(([0] * size*4,[1] * size*4))\n",
    "            clf = BaggingClassifier(RandomForestClassifier())\n",
    "            clf.fit(train,y)\n",
    "            z = clf.predict(test)\n",
    "\n",
    "            sum = 0\n",
    "            parts = 2\n",
    "            for i in range (0,parts) :\n",
    "                for j in range (0,size*4) :\n",
    "                    if z[j + size*4*i] == i :\n",
    "                        sum += 1\n",
    "            accuracy = sum / len(z)\n",
    "            masterFeature[q][t] = accuracy\n",
    "        print(t)\n",
    "    return masterFeature"
   ]
  },
  {
   "cell_type": "code",
   "execution_count": 21,
   "metadata": {},
   "outputs": [
    {
     "name": "stdout",
     "output_type": "stream",
     "text": [
      "done\n",
      "done\n",
      "0\n",
      "done\n",
      "done\n",
      "1\n",
      "done\n",
      "done\n",
      "2\n"
     ]
    },
    {
     "data": {
      "image/png": "[encoded data removed]",
      "text/plain": [
       "<matplotlib.figure.Figure at 0x183f1d588>"
      ]
     },
     "metadata": {},
     "output_type": "display_data"
    }
   ],
   "source": [
    "\"\"\"\n",
    "This cell uses the getFeatureImportance funtion to get a large amount of data and graph the\n",
    "results on a bar graph\n",
    "\"\"\"\n",
    "featureNames = ['Width X', 'Height Y', 'Soma Radii', 'Soma Surface Area', \\\n",
    "                'Soma Volume', 'Skewness X', 'Skewness Y', 'Skewness Z', \\\n",
    "                'Euclidian Skewness', 'Length', 'Surface Area', \\\n",
    "                'Section Area', 'Volume', 'Average Radius', 'Tips', \\\n",
    "                'Stems', 'Branch Pt', 'Segments', 'branch branch', \\\n",
    "                'branch die', 'die die', 'global angle', 'local angle', \\\n",
    "                'distance from parent', 'distance from root', \\\n",
    "                'path_length/euclidean', 'mean Contraction', \\\n",
    "                'branch angle', 'side branch angle', 'mean segmental neural length', \\\n",
    "                'mean segmental euclidean length', 'segmental branch angle']           \n",
    "featureNum = len(featureNames)\n",
    "\n",
    "featureArray = getFeatureImportance(3, featureNum)\n",
    "values = np.zeros([2,featureNum])\n",
    "for i in range(0,featureNum) :\n",
    "    values[0,i] = featureArray[i,:].mean()\n",
    "    values[1,i] = featureArray[i,:].std()\n",
    "featureNames = np.vstack(featureNames)\n",
    "index = np.argsort(values[0,:])\n",
    "featureRange = np.linspace(0,featureNum-1,featureNum)\n",
    "plt.bar(featureRange,values[0,index], yerr = values[1,index])\n",
    "plt.xticks(featureRange,featureNames[index,0], rotation='vertical')\n",
    "plt.subplots_adjust(bottom=0.15)\n",
    "\n",
    "plt.savefig('/Users/anirudhnatarajan/Documents/UPenn/Misc/featureImportanceTreeVsNeuron.eps')"
   ]
  },
  {
   "cell_type": "code",
   "execution_count": 22,
   "metadata": {
    "collapsed": true
   },
   "outputs": [],
   "source": [
    "\"\"\"\n",
    "Try out any of the following classifiers by uncommenting a line!\n",
    "\"\"\"\n",
    "\n",
    "#clf = svm.SVC()\n",
    "#clf = RandomForestClassifier()\n",
    "clf = ExtraTreesClassifier()\n",
    "#clf = DecisionTreeClassifier()\n",
    "#clf = GradientBoostingClassifier()\n",
    "#clf = BaggingClassifier()\n",
    "#clf = BaggingClassifier(ExtraTreesClassifier())\n",
    "#clf = neighbors.KNeighborsClassifier()\n",
    "#clf = SGDClassifier()\n",
    "#clf = MLPClassifier()\n",
    "#clf = GaussianNB()\n",
    "#clf = linear_model.LinearRegression()"
   ]
  },
  {
   "cell_type": "code",
   "execution_count": 30,
   "metadata": {},
   "outputs": [
    {
     "name": "stdout",
     "output_type": "stream",
     "text": [
      "1.0 80\n"
     ]
    }
   ],
   "source": [
    "\"\"\"\n",
    "Train the classifier and print the accuracy\n",
    "\"\"\"\n",
    "\n",
    "train = np.concatenate((trainO,trainP,trainG,trainH,trainU,trainW))\n",
    "test = np.concatenate((testO,testP,testG,testH,testU,testW))\n",
    "\n",
    "y = np.concatenate(([0] * size*4,[1] * size*4))\n",
    "clf.fit(train,y)\n",
    "z = clf.predict(test)\n",
    "\n",
    "sum = 0\n",
    "parts = 2\n",
    "for i in range (0,parts) :\n",
    "    for j in range (0,size*4) :\n",
    "        if z[j + size*4*i] == i :\n",
    "            sum += 1\n",
    "accuracy = sum / len(z)\n",
    "print(accuracy, sum)"
   ]
  },
  {
   "cell_type": "code",
   "execution_count": 24,
   "metadata": {},
   "outputs": [
    {
     "name": "stdout",
     "output_type": "stream",
     "text": [
      "40\n",
      "40\n"
     ]
    },
    {
     "data": {
      "image/png": "[encoded data removed]",
      "text/plain": [
       "<matplotlib.figure.Figure at 0x19d9ff550>"
      ]
     },
     "metadata": {},
     "output_type": "display_data"
    }
   ],
   "source": [
    "\"\"\"\n",
    "This histogram gives you the breakdown of what the classifier predicted on the test values\n",
    "\"\"\"\n",
    "\n",
    "plt.hist(z)\n",
    "print(len(np.where(z == 0)[0]))\n",
    "print(len(np.where(z == 1)[0]))"
   ]
  },
  {
   "cell_type": "code",
   "execution_count": 34,
   "metadata": {
    "scrolled": true
   },
   "outputs": [
    {
     "name": "stdout",
     "output_type": "stream",
     "text": [
      "[t-SNE] Computing 79 nearest neighbors...\n",
      "[t-SNE] Indexed 80 samples in 0.000s...\n",
      "[t-SNE] Computed neighbors for 80 samples in 0.003s...\n",
      "[t-SNE] Computed conditional probabilities for sample 80 / 80\n",
      "[t-SNE] Mean sigma: 10.279256\n",
      "[t-SNE] Computed conditional probabilities in 0.009s\n",
      "[t-SNE] Iteration 50: error = 56.3964119, gradient norm = 0.5121506 (50 iterations in 0.125s)\n",
      "[t-SNE] Iteration 100: error = 55.9194717, gradient norm = 0.5317208 (50 iterations in 0.067s)\n",
      "[t-SNE] Iteration 150: error = 59.2245407, gradient norm = 0.4510279 (50 iterations in 0.069s)\n",
      "[t-SNE] Iteration 200: error = 56.2853088, gradient norm = 0.5359684 (50 iterations in 0.060s)\n",
      "[t-SNE] Iteration 250: error = 57.8166618, gradient norm = 0.4885491 (50 iterations in 0.061s)\n",
      "[t-SNE] KL divergence after 250 iterations with early exaggeration: 57.816662\n",
      "[t-SNE] Iteration 300: error = 0.7359836, gradient norm = 0.0145611 (50 iterations in 0.064s)\n",
      "[t-SNE] Iteration 350: error = 0.6547228, gradient norm = 0.0039782 (50 iterations in 0.095s)\n",
      "[t-SNE] Iteration 400: error = 0.5666350, gradient norm = 0.0067406 (50 iterations in 0.090s)\n",
      "[t-SNE] Iteration 450: error = 0.5799608, gradient norm = 0.0040311 (50 iterations in 0.088s)\n",
      "[t-SNE] Iteration 500: error = 0.6924021, gradient norm = 0.0018024 (50 iterations in 0.079s)\n",
      "[t-SNE] Iteration 550: error = 0.5357637, gradient norm = 0.0010783 (50 iterations in 0.060s)\n",
      "[t-SNE] Iteration 600: error = 1.0773139, gradient norm = 0.0011006 (50 iterations in 0.057s)\n",
      "[t-SNE] Iteration 650: error = 0.8820359, gradient norm = 0.0006721 (50 iterations in 0.059s)\n",
      "[t-SNE] Iteration 700: error = 0.6972312, gradient norm = 0.0005274 (50 iterations in 0.079s)\n",
      "[t-SNE] Iteration 750: error = 0.5665482, gradient norm = 0.0003385 (50 iterations in 0.092s)\n",
      "[t-SNE] Iteration 800: error = 0.4847088, gradient norm = 0.0005643 (50 iterations in 0.081s)\n",
      "[t-SNE] Iteration 850: error = 0.3309431, gradient norm = 0.0023638 (50 iterations in 0.085s)\n",
      "[t-SNE] Iteration 900: error = 0.2835726, gradient norm = 0.0002937 (50 iterations in 0.063s)\n",
      "[t-SNE] Iteration 950: error = 0.2668586, gradient norm = 0.0001497 (50 iterations in 0.062s)\n",
      "[t-SNE] Iteration 1000: error = 0.2569002, gradient norm = 0.0001282 (50 iterations in 0.066s)\n",
      "[t-SNE] Error after 1000 iterations: 0.256900\n"
     ]
    },
    {
     "data": {
      "image/png": "[encoded data removed]",
      "text/plain": [
       "<matplotlib.figure.Figure at 0x1f82a9898>"
      ]
     },
     "metadata": {},
     "output_type": "display_data"
    }
   ],
   "source": [
    "from sklearn.manifold import TSNE\n",
    "X_embedded = TSNE(n_components=2, verbose=2).fit_transform(train)\n",
    "plt.scatter(X_embedded[:,0], X_embedded[:,1], c=y, marker='x')\n",
    "# plt.savefig('/Users/anirudhnatarajan/Documents/UPenn/Misc/treeNeuronClassificationTSNE.eps')"
   ]
  },
  {
   "cell_type": "code",
   "execution_count": 35,
   "metadata": {},
   "outputs": [
    {
     "data": {
      "image/png": "[encoded data removed]",
      "text/plain": [
       "<matplotlib.figure.Figure at 0x18a914cc0>"
      ]
     },
     "metadata": {},
     "output_type": "display_data"
    }
   ],
   "source": [
    "from sklearn.decomposition import PCA\n",
    "pca = PCA(n_components=2)\n",
    "pca.fit(train,y)\n",
    "X_embedded = pca.fit_transform(train,y)\n",
    "\n",
    "plt.scatter(X_embedded[:,0], X_embedded[:,1], c=y, marker='x')\n",
    "# plt.savefig('/Users/anirudhnatarajan/Documents/UPenn/Misc/treeNeuronClassificationPCA.eps')"
   ]
  },
  {
   "cell_type": "code",
   "execution_count": null,
   "metadata": {
    "collapsed": true
   },
   "outputs": [],
   "source": []
  }
 ],
 "metadata": {
  "kernelspec": {
   "display_name": "Python 3",
   "language": "python",
   "name": "python3"
  },
  "language_info": {
   "codemirror_mode": {
    "name": "ipython",
    "version": 3
   },
   "file_extension": ".py",
   "mimetype": "text/x-python",
   "name": "python",
   "nbconvert_exporter": "python",
   "pygments_lexer": "ipython3",
   "version": "3.6.2"
  }
 },
 "nbformat": 4,
 "nbformat_minor": 2
}
