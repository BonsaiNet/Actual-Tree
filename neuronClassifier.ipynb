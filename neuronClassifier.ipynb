{
 "cells": [
  {
   "cell_type": "code",
   "execution_count": 1,
   "metadata": {
    "collapsed": true
   },
   "outputs": [],
   "source": [
    "import time\n",
    "import datetime\n",
    "import sys\n",
    "sys.path.append(\"/Users/anirudhnatarajan/Documents/UPenn/McNeuron\")\n",
    "import McNeuron\n",
    "from random import randint\n",
    "import numpy as np\n",
    "import matplotlib.pyplot as plt\n",
    "%matplotlib inline"
   ]
  },
  {
   "cell_type": "code",
   "execution_count": 2,
   "metadata": {
    "scrolled": true
   },
   "outputs": [
    {
     "name": "stdout",
     "output_type": "stream",
     "text": [
      "11:28:38\n",
      "11:30:04\n"
     ]
    }
   ],
   "source": [
    "print(datetime.datetime.fromtimestamp(time.time()).strftime('%H:%M:%S'))\n",
    "import pandas as pd\n",
    "neurons = pd.read_pickle(\"/Users/anirudhnatarajan/Documents/UPenn/neuronData/neurons.csv\")\n",
    "f = time.time()\n",
    "print(datetime.datetime.fromtimestamp(time.time()).strftime('%H:%M:%S'))"
   ]
  },
  {
   "cell_type": "code",
   "execution_count": 3,
   "metadata": {
    "collapsed": true
   },
   "outputs": [],
   "source": [
    "#McNeuron.visualize.plot_3D(McNeuron.Neuron(neurons['swc'][12]))"
   ]
  },
  {
   "cell_type": "code",
   "execution_count": 4,
   "metadata": {
    "collapsed": true
   },
   "outputs": [],
   "source": [
    "help1 = np.where(neurons['Secondary Brain Region']=='CA1')[0]\n",
    "help2 = np.where(neurons['Species Name']=='mouse')[0]\n",
    "index_to_see = np.intersect1d(help1,help2)\n",
    "\n",
    "indG = np.where(neurons.iloc[index_to_see]['Secondary Cell Class']=='GABAergic')[0]\n",
    "indP = np.where(neurons.iloc[index_to_see]['Secondary Cell Class']=='pyramidal')[0]\n",
    "indS = np.where(neurons.iloc[index_to_see]['Secondary Cell Class']=='Somatostatin (SOM)-positive')[0]\n",
    "indB = np.where(neurons.iloc[index_to_see]['Secondary Cell Class']=='basket')[0]\n",
    "indT = np.where(neurons.iloc[index_to_see]['Secondary Cell Class']=='perisomatic targeting')[0]\n",
    "\n",
    "\n",
    "def getSWC(ind) :\n",
    "    length = len(ind)\n",
    "    swc = [0] * length\n",
    "    for i in range(0,length) :\n",
    "        swc[i] = neurons['swc'][index_to_see[ind]][index_to_see[ind][i]]\n",
    "    return swc\n",
    "\n",
    "swcG = getSWC(indG)\n",
    "swcP = getSWC(indP)\n",
    "swcS = getSWC(indS)\n",
    "swcB = getSWC(indB)\n",
    "swcT = getSWC(indT)"
   ]
  },
  {
   "cell_type": "code",
   "execution_count": 5,
   "metadata": {
    "collapsed": true
   },
   "outputs": [],
   "source": [
    "def getVectors(swc, size) :\n",
    "    train = [0] * size\n",
    "    test = [0] * size\n",
    "    rand = np.linspace(0,len(swc)-1,len(swc))\n",
    "    #print(datetime.datetime.fromtimestamp(time.time()).strftime('%H:%M:%S'))\n",
    "    for i in range (0,size) :\n",
    "#         j = time.time()\n",
    "        r = randint(0,len(rand)-1)\n",
    "        neuron = McNeuron.Neuron(swc[int(rand[r])])\n",
    "        rand = np.delete(rand,r)\n",
    "        neuron.l_measure_features()\n",
    "        neuron.motif_features()\n",
    "        neuron.geometrical_features()\n",
    "        train[i] = neuron.getNeuronVector()\n",
    "#         t = int(datetime.datetime.fromtimestamp(time.time()).strftime('%S')) - int(datetime.datetime.fromtimestamp(j).strftime('%S'))\n",
    "#         if t >= 2 or t <= -58 :\n",
    "#             print(t,r)\n",
    "\n",
    "#     print('half')\n",
    "    for i in range (0,size) :\n",
    "#         j = time.time()\n",
    "        r = randint(0,len(rand)-1)\n",
    "        neuron = McNeuron.Neuron(swc[int(rand[r])])\n",
    "        rand = np.delete(rand,r)\n",
    "        neuron.l_measure_features()\n",
    "        neuron.motif_features()\n",
    "        neuron.geometrical_features()\n",
    "        test[i] = neuron.getNeuronVector()\n",
    "#         t = int(datetime.datetime.fromtimestamp(time.time()).strftime('%S')) - int(datetime.datetime.fromtimestamp(j).strftime('%S'))\n",
    "#         if t >= 2 or t <= -58 :\n",
    "#             print(t,r)\n",
    "    \n",
    "#     print('done')\n",
    "    return train,test"
   ]
  },
  {
   "cell_type": "code",
   "execution_count": 6,
   "metadata": {
    "scrolled": true
   },
   "outputs": [
    {
     "name": "stdout",
     "output_type": "stream",
     "text": [
      "done\n",
      "done\n",
      "done\n",
      "done\n",
      "done\n"
     ]
    }
   ],
   "source": [
    "size = 10\n",
    "\n",
    "trainG,testG = getVectors(swcG, size)\n",
    "print('done')\n",
    "trainP,testP = getVectors(swcP, size)\n",
    "print('done')\n",
    "trainS,testS = getVectors(swcS, size)\n",
    "print('done')\n",
    "trainB,testB = getVectors(swcB, size)\n",
    "print('done')\n",
    "trainT,testT = getVectors(swcT, size)\n",
    "print('done')"
   ]
  },
  {
   "cell_type": "code",
   "execution_count": 7,
   "metadata": {
    "collapsed": true
   },
   "outputs": [],
   "source": [
    "from sklearn import svm\n",
    "from sklearn.ensemble import RandomForestClassifier\n",
    "from sklearn.ensemble import ExtraTreesClassifier\n",
    "from sklearn.tree import DecisionTreeClassifier\n",
    "from sklearn.ensemble import GradientBoostingClassifier\n",
    "from sklearn.ensemble import BaggingClassifier\n",
    "from sklearn import neighbors\n",
    "from sklearn.linear_model import SGDClassifier\n",
    "from sklearn.neural_network import MLPClassifier\n",
    "from sklearn.naive_bayes import GaussianNB\n",
    "from sklearn import linear_model"
   ]
  },
  {
   "cell_type": "code",
   "execution_count": 14,
   "metadata": {
    "collapsed": true
   },
   "outputs": [],
   "source": [
    "def subsetData(arr,q):\n",
    "    x = [0] * size\n",
    "    for i in range(0,size) :\n",
    "        x[i] = arr[i][q]\n",
    "    return x"
   ]
  },
  {
   "cell_type": "code",
   "execution_count": 94,
   "metadata": {
    "scrolled": true
   },
   "outputs": [
    {
     "name": "stdout",
     "output_type": "stream",
     "text": [
      "0.5 0\n",
      "0.58 1\n",
      "0.68 2\n",
      "0.74 3\n",
      "0.72 4\n",
      "0.32 5\n",
      "0.38 6\n",
      "0.5 7\n",
      "0.28 8\n",
      "0.44 9\n",
      "0.5 10\n",
      "0.5 11\n",
      "0.58 12\n",
      "0.62 13\n",
      "0.54 14\n",
      "0.44 15\n",
      "0.58 16\n",
      "0.48 17\n",
      "0.58 18\n",
      "0.48 19\n",
      "0.56 20\n",
      "0.48 21\n",
      "0.58 22\n",
      "0.38 23\n",
      "0.54 24\n",
      "0.56 25\n",
      "0.26 26\n",
      "0.44 27\n",
      "0.6 28\n",
      "0.5 29\n",
      "0.52 30\n"
     ]
    }
   ],
   "source": [
    "for q in range(0,31) :\n",
    "    a = subsetData(trainG,q)\n",
    "    b = subsetData(trainP,q)\n",
    "    c = subsetData(trainS,q)\n",
    "    d = subsetData(trainB,q)\n",
    "    e = subsetData(trainT,q)\n",
    "    f = subsetData(testG,q)\n",
    "    g = subsetData(testP,q)\n",
    "    h = subsetData(testS,q)\n",
    "    i = subsetData(testB,q)\n",
    "    j = subsetData(testT,q)\n",
    "    \n",
    "    train = np.expand_dims(np.concatenate((a,b,c,d,e)),axis=1)\n",
    "    test = np.expand_dims(np.concatenate((f,g,h,i,j)),axis=1)\n",
    "    \n",
    "    y = np.concatenate(([0] * size,[1] * size,[2] * size,[3] * size,[4] * size))\n",
    "    clf = ExtraTreesClassifier()\n",
    "    clf.fit(train,y)\n",
    "    z = clf.predict(test)\n",
    "\n",
    "    sum = 0\n",
    "    parts = 5\n",
    "    for i in range (0,parts) :\n",
    "        for j in range (0,size) :\n",
    "            if z[j + size*i] == i :\n",
    "                sum += 1\n",
    "    accuracy = sum / len(z)\n",
    "    print(accuracy , q)"
   ]
  },
  {
   "cell_type": "code",
   "execution_count": 9,
   "metadata": {
    "collapsed": true
   },
   "outputs": [],
   "source": [
    "def getFeatureImportance(length, featureNum) :\n",
    "    \"\"\"\n",
    "    getFeatureImportance uses the subsetData function to generate a matrix with a large number of individual feature accuracies.\n",
    "\n",
    "    Parameters:\n",
    "    -----------\n",
    "    length: int\n",
    "        how many times the function will get new data and test the accuracy of individual features \n",
    "    featureNum: int\n",
    "        the number of features needed to be tested\n",
    "\n",
    "    Return:\n",
    "    -------\n",
    "    getFeatureImportance returns a matrix of shape (featureNum,length) with all values filled with the accuracy of each feature\n",
    "\n",
    "    \"\"\"\n",
    "    \n",
    "    masterFeature = np.zeros([featureNum, length])\n",
    "    for l in range (0,length) :\n",
    "        trainG,testG = getVectors(swcG, size)\n",
    "        trainP,testP = getVectors(swcP, size)\n",
    "        trainS,testS = getVectors(swcS, size)\n",
    "        trainB,testB = getVectors(swcB, size)\n",
    "        trainT,testT = getVectors(swcT, size)\n",
    "        print('done')\n",
    "        \n",
    "        for q in range(0,featureNum) :\n",
    "            a = subsetData(trainG,q)\n",
    "            b = subsetData(trainP,q)\n",
    "            c = subsetData(trainS,q)\n",
    "            d = subsetData(trainB,q)\n",
    "            e = subsetData(trainT,q)\n",
    "            f = subsetData(testG,q)\n",
    "            g = subsetData(testP,q)\n",
    "            h = subsetData(testS,q)\n",
    "            i = subsetData(testB,q)\n",
    "            j = subsetData(testT,q)\n",
    "\n",
    "            train = np.expand_dims(np.concatenate((a,b,c,d,e)),axis=1)\n",
    "            test = np.expand_dims(np.concatenate((f,g,h,i,j)),axis=1)\n",
    "\n",
    "            y = np.concatenate(([0] * size,[1] * size,[2] * size,[3] * size,[4] * size))\n",
    "            clf = ExtraTreesClassifier()\n",
    "            clf.fit(train,y)\n",
    "            z = clf.predict(test)\n",
    "\n",
    "            sum = 0\n",
    "            parts = 5\n",
    "            for i in range (0,parts) :\n",
    "                for j in range (0,size) :\n",
    "                    if z[j + size*i] == i :\n",
    "                        sum += 1\n",
    "            accuracy = sum / len(z)\n",
    "            masterFeature[q, l] = accuracy\n",
    "        print(l)\n",
    "    return masterFeature"
   ]
  },
  {
   "cell_type": "code",
   "execution_count": 28,
   "metadata": {},
   "outputs": [
    {
     "name": "stdout",
     "output_type": "stream",
     "text": [
      "done\n",
      "0\n",
      "done\n",
      "1\n",
      "done\n",
      "2\n",
      "done\n",
      "3\n",
      "done\n",
      "4\n"
     ]
    }
   ],
   "source": [
    "size = 10\n",
    "\n",
    "featureNames = ['Width X', 'Height Y', 'Soma Radii', 'Soma Surface Area', \\\n",
    "                'Soma Volume', 'Skewness X', 'Skewness Y', 'Skewness Z', \\\n",
    "                'Euclidian Skewness', 'Length', 'Surface Area', \\\n",
    "                'Section Area', 'Volume', 'Average Radius', 'Tips', \\\n",
    "                'Stems', 'Branch Pt', 'Segments', 'branch branch', \\\n",
    "                'branch die', 'die die', 'global angle', 'local angle', \\\n",
    "                'distance from root', 'path_length/euclidean', \\\n",
    "                'mean Contraction', 'branch angle', 'side branch angle', \\\n",
    "                'mean segmental neural length', 'mean segmental euclidean length', \\\n",
    "                'segmental branch angle']\n",
    "featureNum = len(featureNames)\n",
    "\n",
    "masterFeature = getFeatureImportance(5, featureNum)"
   ]
  },
  {
   "cell_type": "code",
   "execution_count": 33,
   "metadata": {},
   "outputs": [
    {
     "data": {
      "image/png": "[encoded data removed]",
      "text/plain": [
       "<matplotlib.figure.Figure at 0x19e13ef28>"
      ]
     },
     "metadata": {},
     "output_type": "display_data"
    }
   ],
   "source": [
    "\"\"\"\n",
    "This cell uses the getFeatureImportance funtion to get a large amount of data and graph the\n",
    "results on a bar graph\n",
    "\"\"\"\n",
    "values = np.zeros([3,featureNum])\n",
    "for i in range(0,featureNum) :\n",
    "    values[0,i] = masterFeature[i,:].mean()\n",
    "    values[1,i] = masterFeature[i,:].std()\n",
    "featureNames = np.vstack(featureNames)\n",
    "index = np.argsort(values[0,:])\n",
    "values[2] = index\n",
    "featureRange = np.linspace(0,featureNum-1,featureNum)\n",
    "plt.bar(featureRange,values[0,index], yerr = values[1,index])\n",
    "plt.xticks(featureRange,featureNames[index,0], rotation='vertical')\n",
    "plt.subplots_adjust(bottom=0.15)\n",
    "\n",
    "plt.savefig('/Users/anirudhnatarajan/Documents/UPenn/Images/featureImportanceNeuron.eps', dpi=300, bbox_inches = 'tight')\n",
    "plt.savefig('/Users/anirudhnatarajan/Documents/UPenn/Images/featureImportanceNeuron.png', dpi=300, bbox_inches = 'tight')"
   ]
  },
  {
   "cell_type": "code",
   "execution_count": 8,
   "metadata": {
    "collapsed": true
   },
   "outputs": [],
   "source": [
    "#clf = svm.SVC()\n",
    "#clf = RandomForestClassifier()\n",
    "clf = ExtraTreesClassifier()\n",
    "#clf = DecisionTreeClassifier()\n",
    "#clf = GradientBoostingClassifier()\n",
    "#clf = BaggingClassifier()\n",
    "#clf = BaggingClassifier(DecisionTreeClassifier())\n",
    "#clf = neighbors.KNeighborsClassifier()\n",
    "#clf = SGDClassifier()\n",
    "#clf = MLPClassifier()\n",
    "#clf = GaussianNB()\n",
    "#clf = linear_model.LinearRegression()"
   ]
  },
  {
   "cell_type": "code",
   "execution_count": 9,
   "metadata": {
    "collapsed": true
   },
   "outputs": [],
   "source": [
    "size = 10\n",
    "train = np.concatenate((trainG,trainP,trainS,trainB,trainT))\n",
    "test = np.concatenate((testG,testP,testS,testB,testT))\n",
    "y = np.concatenate(([0] * size,[1] * size,[2] * size,[3] * size,[4] * size))"
   ]
  },
  {
   "cell_type": "code",
   "execution_count": 14,
   "metadata": {
    "scrolled": true
   },
   "outputs": [
    {
     "name": "stdout",
     "output_type": "stream",
     "text": [
      "38 0.76\n",
      "43 0.86\n",
      "38 0.76\n",
      "39 0.78\n",
      "40 0.8\n",
      "43 0.86\n",
      "37 0.74\n",
      "41 0.82\n",
      "40 0.8\n",
      "38 0.76\n",
      "40 0.8\n",
      "43 0.86\n",
      "38 0.76\n",
      "42 0.84\n",
      "43 0.86\n",
      "43 0.86\n",
      "38 0.76\n",
      "39 0.78\n",
      "42 0.84\n",
      "40 0.8\n",
      "41 0.82\n",
      "39 0.78\n",
      "40 0.8\n",
      "40 0.8\n",
      "41 0.82\n",
      "39 0.78\n",
      "38 0.76\n",
      "42 0.84\n",
      "38 0.76\n",
      "40 0.8\n",
      "38 0.76\n",
      "41 0.82\n",
      "39 0.78\n",
      "43 0.86\n",
      "41 0.82\n",
      "38 0.76\n",
      "42 0.84\n",
      "40 0.8\n",
      "38 0.76\n",
      "39 0.78\n",
      "39 0.78\n",
      "40 0.8\n",
      "40 0.8\n",
      "41 0.82\n",
      "42 0.84\n",
      "37 0.74\n",
      "39 0.78\n",
      "41 0.82\n",
      "42 0.84\n",
      "40 0.8\n",
      "41 0.82\n",
      "38 0.76\n",
      "38 0.76\n",
      "42 0.84\n",
      "36 0.72\n",
      "40 0.8\n",
      "36 0.72\n",
      "39 0.78\n",
      "37 0.74\n",
      "37 0.74\n",
      "37 0.74\n",
      "39 0.78\n",
      "40 0.8\n",
      "41 0.82\n",
      "41 0.82\n",
      "39 0.78\n",
      "39 0.78\n",
      "39 0.78\n",
      "40 0.8\n",
      "40 0.8\n",
      "40 0.8\n",
      "41 0.82\n",
      "40 0.8\n",
      "39 0.78\n",
      "39 0.78\n",
      "41 0.82\n",
      "41 0.82\n",
      "39 0.78\n",
      "36 0.72\n",
      "38 0.76\n",
      "41 0.82\n",
      "42 0.84\n",
      "39 0.78\n",
      "43 0.86\n",
      "42 0.84\n",
      "39 0.78\n",
      "40 0.8\n",
      "38 0.76\n",
      "38 0.76\n",
      "40 0.8\n",
      "37 0.74\n",
      "38 0.76\n",
      "35 0.7\n",
      "42 0.84\n",
      "38 0.76\n",
      "38 0.76\n",
      "41 0.82\n",
      "38 0.76\n",
      "38 0.76\n",
      "37 0.74\n",
      "43 0.86\n",
      "40 0.8\n",
      "40 0.8\n",
      "40 0.8\n",
      "43 0.86\n",
      "38 0.76\n",
      "41 0.82\n",
      "39 0.78\n",
      "37 0.74\n",
      "38 0.76\n",
      "41 0.82\n",
      "36 0.72\n",
      "37 0.74\n",
      "41 0.82\n",
      "43 0.86\n",
      "39 0.78\n",
      "39 0.78\n",
      "40 0.8\n",
      "41 0.82\n",
      "42 0.84\n",
      "41 0.82\n",
      "40 0.8\n",
      "39 0.78\n",
      "39 0.78\n",
      "37 0.74\n",
      "40 0.8\n",
      "40 0.8\n",
      "38 0.76\n",
      "39 0.78\n",
      "40 0.8\n",
      "41 0.82\n",
      "38 0.76\n",
      "43 0.86\n",
      "42 0.84\n",
      "38 0.76\n",
      "36 0.72\n",
      "39 0.78\n",
      "38 0.76\n",
      "40 0.8\n",
      "39 0.78\n",
      "38 0.76\n",
      "41 0.82\n",
      "42 0.84\n",
      "38 0.76\n",
      "37 0.74\n",
      "41 0.82\n",
      "39 0.78\n",
      "41 0.82\n",
      "36 0.72\n",
      "38 0.76\n",
      "40 0.8\n",
      "44 0.88\n",
      "40 0.8\n",
      "39 0.78\n",
      "39 0.78\n",
      "40 0.8\n",
      "40 0.8\n",
      "38 0.76\n",
      "41 0.82\n",
      "40 0.8\n",
      "41 0.82\n",
      "40 0.8\n",
      "36 0.72\n",
      "40 0.8\n",
      "38 0.76\n",
      "39 0.78\n",
      "43 0.86\n",
      "37 0.74\n",
      "37 0.74\n",
      "37 0.74\n",
      "39 0.78\n",
      "40 0.8\n",
      "42 0.84\n",
      "40 0.8\n",
      "40 0.8\n",
      "44 0.88\n",
      "39 0.78\n",
      "41 0.82\n",
      "41 0.82\n",
      "37 0.74\n",
      "41 0.82\n",
      "42 0.84\n",
      "38 0.76\n",
      "41 0.82\n",
      "38 0.76\n",
      "40 0.8\n",
      "41 0.82\n",
      "39 0.78\n",
      "39 0.78\n",
      "41 0.82\n",
      "40 0.8\n",
      "38 0.76\n",
      "37 0.74\n",
      "41 0.82\n",
      "40 0.8\n",
      "39 0.78\n",
      "41 0.82\n",
      "39 0.78\n",
      "41 0.82\n",
      "39 0.78\n",
      "39 0.78\n",
      "41 0.82\n",
      "38 0.76\n",
      "39 0.78\n",
      "41 0.82\n",
      "37 0.74\n",
      "41 0.82\n",
      "44 0.88\n",
      "37 0.74\n",
      "38 0.76\n",
      "37 0.74\n",
      "39 0.78\n",
      "39 0.78\n",
      "40 0.8\n",
      "39 0.78\n",
      "40 0.8\n",
      "35 0.7\n",
      "38 0.76\n",
      "40 0.8\n",
      "40 0.8\n",
      "38 0.76\n",
      "40 0.8\n",
      "36 0.72\n",
      "42 0.84\n",
      "39 0.78\n",
      "43 0.86\n",
      "37 0.74\n",
      "40 0.8\n",
      "41 0.82\n",
      "40 0.8\n",
      "38 0.76\n",
      "41 0.82\n",
      "41 0.82\n",
      "42 0.84\n",
      "40 0.8\n",
      "40 0.8\n",
      "40 0.8\n",
      "39 0.78\n",
      "38 0.76\n",
      "41 0.82\n",
      "38 0.76\n",
      "39 0.78\n",
      "40 0.8\n",
      "40 0.8\n",
      "40 0.8\n",
      "40 0.8\n",
      "36 0.72\n",
      "37 0.74\n",
      "39 0.78\n",
      "39 0.78\n",
      "41 0.82\n",
      "43 0.86\n",
      "40 0.8\n",
      "41 0.82\n",
      "41 0.82\n",
      "39 0.78\n",
      "39 0.78\n",
      "36 0.72\n",
      "35 0.7\n",
      "42 0.84\n",
      "42 0.84\n",
      "39 0.78\n",
      "41 0.82\n",
      "39 0.78\n",
      "39 0.78\n",
      "38 0.76\n",
      "36 0.72\n",
      "38 0.76\n",
      "41 0.82\n",
      "37 0.74\n",
      "38 0.76\n",
      "41 0.82\n",
      "41 0.82\n",
      "41 0.82\n",
      "43 0.86\n",
      "39 0.78\n",
      "40 0.8\n",
      "38 0.76\n",
      "40 0.8\n",
      "43 0.86\n",
      "39 0.78\n",
      "38 0.76\n",
      "41 0.82\n",
      "38 0.76\n",
      "41 0.82\n",
      "41 0.82\n",
      "41 0.82\n",
      "38 0.76\n",
      "37 0.74\n",
      "38 0.76\n",
      "35 0.7\n",
      "37 0.74\n",
      "41 0.82\n",
      "38 0.76\n",
      "39 0.78\n",
      "40 0.8\n",
      "38 0.76\n",
      "37 0.74\n",
      "44 0.88\n",
      "42 0.84\n",
      "39 0.78\n",
      "38 0.76\n",
      "41 0.82\n",
      "37 0.74\n",
      "39 0.78\n",
      "38 0.76\n",
      "39 0.78\n",
      "36 0.72\n",
      "39 0.78\n",
      "38 0.76\n",
      "39 0.78\n",
      "39 0.78\n",
      "38 0.76\n",
      "38 0.76\n",
      "40 0.8\n",
      "39 0.78\n",
      "35 0.7\n",
      "40 0.8\n",
      "41 0.82\n",
      "40 0.8\n",
      "37 0.74\n",
      "39 0.78\n",
      "41 0.82\n",
      "41 0.82\n",
      "40 0.8\n",
      "38 0.76\n",
      "39 0.78\n",
      "40 0.8\n",
      "40 0.8\n",
      "40 0.8\n",
      "39 0.78\n",
      "40 0.8\n",
      "41 0.82\n",
      "39 0.78\n",
      "43 0.86\n",
      "40 0.8\n",
      "37 0.74\n",
      "40 0.8\n",
      "41 0.82\n",
      "42 0.84\n",
      "39 0.78\n",
      "40 0.8\n",
      "38 0.76\n",
      "36 0.72\n",
      "39 0.78\n",
      "40 0.8\n",
      "43 0.86\n",
      "40 0.8\n",
      "41 0.82\n",
      "39 0.78\n",
      "40 0.8\n",
      "39 0.78\n",
      "40 0.8\n",
      "40 0.8\n",
      "40 0.8\n",
      "40 0.8\n",
      "38 0.76\n",
      "37 0.74\n",
      "40 0.8\n",
      "42 0.84\n",
      "40 0.8\n",
      "37 0.74\n",
      "41 0.82\n",
      "39 0.78\n",
      "39 0.78\n",
      "40 0.8\n",
      "35 0.7\n",
      "41 0.82\n",
      "40 0.8\n",
      "40 0.8\n",
      "40 0.8\n",
      "41 0.82\n",
      "39 0.78\n",
      "38 0.76\n",
      "39 0.78\n",
      "40 0.8\n",
      "40 0.8\n",
      "43 0.86\n",
      "37 0.74\n",
      "39 0.78\n",
      "40 0.8\n",
      "37 0.74\n",
      "42 0.84\n",
      "41 0.82\n",
      "38 0.76\n",
      "40 0.8\n",
      "37 0.74\n",
      "41 0.82\n",
      "40 0.8\n",
      "40 0.8\n",
      "43 0.86\n",
      "40 0.8\n",
      "41 0.82\n",
      "44 0.88\n",
      "38 0.76\n",
      "41 0.82\n",
      "38 0.76\n",
      "41 0.82\n",
      "39 0.78\n",
      "41 0.82\n",
      "43 0.86\n",
      "42 0.84\n",
      "38 0.76\n",
      "38 0.76\n",
      "40 0.8\n",
      "41 0.82\n",
      "41 0.82\n",
      "43 0.86\n",
      "42 0.84\n",
      "36 0.72\n",
      "40 0.8\n",
      "40 0.8\n",
      "38 0.76\n",
      "39 0.78\n",
      "38 0.76\n",
      "40 0.8\n",
      "35 0.7\n",
      "39 0.78\n",
      "38 0.76\n",
      "37 0.74\n",
      "40 0.8\n",
      "40 0.8\n",
      "38 0.76\n",
      "36 0.72\n",
      "39 0.78\n",
      "39 0.78\n",
      "38 0.76\n",
      "38 0.76\n",
      "42 0.84\n",
      "41 0.82\n",
      "37 0.74\n",
      "40 0.8\n",
      "43 0.86\n",
      "41 0.82\n",
      "40 0.8\n",
      "39 0.78\n",
      "42 0.84\n",
      "37 0.74\n",
      "37 0.74\n",
      "35 0.7\n",
      "45 0.9\n"
     ]
    }
   ],
   "source": [
    "mas = []\n",
    "accuracy=0\n",
    "while accuracy<0.9:\n",
    "    clf.fit(train,y)\n",
    "    z = clf.predict(test)\n",
    "    sum = 0\n",
    "    parts = 5\n",
    "    for i in range (0,parts) :\n",
    "        for j in range (0,size) :\n",
    "            if z[j + size*i] == i :\n",
    "                sum += 1\n",
    "    accuracy = sum / len(z)\n",
    "    mas.append(accuracy)\n",
    "    print(sum,accuracy)"
   ]
  },
  {
   "cell_type": "code",
   "execution_count": 15,
   "metadata": {},
   "outputs": [
    {
     "name": "stdout",
     "output_type": "stream",
     "text": [
      "0.7904308390022676\n"
     ]
    }
   ],
   "source": [
    "print(np.sum(mas)/len(mas))"
   ]
  },
  {
   "cell_type": "code",
   "execution_count": 16,
   "metadata": {},
   "outputs": [
    {
     "data": {
      "image/png": "[encoded data removed]",
      "text/plain": [
       "<matplotlib.figure.Figure at 0x17c50ce80>"
      ]
     },
     "metadata": {},
     "output_type": "display_data"
    },
    {
     "name": "stdout",
     "output_type": "stream",
     "text": [
      "12\n",
      "10\n",
      "10\n",
      "9\n",
      "9\n"
     ]
    }
   ],
   "source": [
    "plt.hist(z)\n",
    "plt.show()\n",
    "print(len(np.where(z == 0)[0]))\n",
    "print(len(np.where(z == 1)[0]))\n",
    "print(len(np.where(z == 2)[0]))\n",
    "print(len(np.where(z == 3)[0]))\n",
    "print(len(np.where(z == 4)[0]))"
   ]
  },
  {
   "cell_type": "code",
   "execution_count": 241,
   "metadata": {
    "scrolled": true
   },
   "outputs": [
    {
     "name": "stdout",
     "output_type": "stream",
     "text": [
      "[t-SNE] Computing 49 nearest neighbors...\n",
      "[t-SNE] Indexed 50 samples in 0.000s...\n",
      "[t-SNE] Computed neighbors for 50 samples in 0.001s...\n",
      "[t-SNE] Computed conditional probabilities for sample 50 / 50\n",
      "[t-SNE] Mean sigma: 2556.110228\n",
      "[t-SNE] Computed conditional probabilities in 0.004s\n",
      "[t-SNE] Iteration 50: error = 47.2690773, gradient norm = 0.5446401 (50 iterations in 0.047s)\n",
      "[t-SNE] Iteration 100: error = 53.8421288, gradient norm = 0.5177170 (50 iterations in 0.041s)\n",
      "[t-SNE] Iteration 150: error = 55.8091545, gradient norm = 0.5444755 (50 iterations in 0.035s)\n",
      "[t-SNE] Iteration 200: error = 52.8675919, gradient norm = 0.4967975 (50 iterations in 0.034s)\n",
      "[t-SNE] Iteration 250: error = 49.2314568, gradient norm = 0.5811211 (50 iterations in 0.035s)\n",
      "[t-SNE] KL divergence after 250 iterations with early exaggeration: 49.231457\n",
      "[t-SNE] Iteration 300: error = 1.1234940, gradient norm = 0.0016714 (50 iterations in 0.035s)\n",
      "[t-SNE] Iteration 350: error = 0.8159049, gradient norm = 0.0031723 (50 iterations in 0.032s)\n",
      "[t-SNE] Iteration 400: error = 0.6614929, gradient norm = 0.0005926 (50 iterations in 0.033s)\n",
      "[t-SNE] Iteration 450: error = 0.5261402, gradient norm = 0.0006850 (50 iterations in 0.032s)\n",
      "[t-SNE] Iteration 500: error = 0.4631068, gradient norm = 0.0004294 (50 iterations in 0.033s)\n",
      "[t-SNE] Iteration 550: error = 0.4211839, gradient norm = 0.0003351 (50 iterations in 0.031s)\n",
      "[t-SNE] Iteration 600: error = 0.3472681, gradient norm = 0.0003357 (50 iterations in 0.032s)\n",
      "[t-SNE] Iteration 650: error = 0.3307392, gradient norm = 0.0002733 (50 iterations in 0.033s)\n",
      "[t-SNE] Iteration 700: error = 0.3165929, gradient norm = 0.0002553 (50 iterations in 0.037s)\n",
      "[t-SNE] Iteration 750: error = 0.3042520, gradient norm = 0.0000897 (50 iterations in 0.032s)\n",
      "[t-SNE] Iteration 800: error = 0.3024596, gradient norm = 0.0000800 (50 iterations in 0.033s)\n",
      "[t-SNE] Iteration 850: error = 0.2954192, gradient norm = 0.0001299 (50 iterations in 0.032s)\n",
      "[t-SNE] Iteration 900: error = 0.2929389, gradient norm = 0.0000563 (50 iterations in 0.032s)\n",
      "[t-SNE] Iteration 950: error = 0.2894942, gradient norm = 0.0000883 (50 iterations in 0.032s)\n",
      "[t-SNE] Iteration 1000: error = 0.2891403, gradient norm = 0.0000352 (50 iterations in 0.033s)\n",
      "[t-SNE] Error after 1000 iterations: 0.289140\n"
     ]
    }
   ],
   "source": [
    "from sklearn.manifold import TSNE\n",
    "X_embedded = TSNE(n_components=2, verbose=2).fit_transform(train)"
   ]
  },
  {
   "cell_type": "code",
   "execution_count": 87,
   "metadata": {
    "scrolled": false
   },
   "outputs": [
    {
     "ename": "ValueError",
     "evalue": "Invalid RGBA argument: 0",
     "output_type": "error",
     "traceback": [
      "\u001b[0;31m---------------------------------------------------------------------------\u001b[0m",
      "\u001b[0;31mKeyError\u001b[0m                                  Traceback (most recent call last)",
      "\u001b[0;32m~/anaconda/lib/python3.6/site-packages/matplotlib/colors.py\u001b[0m in \u001b[0;36mto_rgba\u001b[0;34m(c, alpha)\u001b[0m\n\u001b[1;32m    140\u001b[0m     \u001b[0;32mtry\u001b[0m\u001b[0;34m:\u001b[0m\u001b[0;34m\u001b[0m\u001b[0m\n\u001b[0;32m--> 141\u001b[0;31m         \u001b[0mrgba\u001b[0m \u001b[0;34m=\u001b[0m \u001b[0m_colors_full_map\u001b[0m\u001b[0;34m.\u001b[0m\u001b[0mcache\u001b[0m\u001b[0;34m[\u001b[0m\u001b[0mc\u001b[0m\u001b[0;34m,\u001b[0m \u001b[0malpha\u001b[0m\u001b[0;34m]\u001b[0m\u001b[0;34m\u001b[0m\u001b[0m\n\u001b[0m\u001b[1;32m    142\u001b[0m     \u001b[0;32mexcept\u001b[0m \u001b[0;34m(\u001b[0m\u001b[0mKeyError\u001b[0m\u001b[0;34m,\u001b[0m \u001b[0mTypeError\u001b[0m\u001b[0;34m)\u001b[0m\u001b[0;34m:\u001b[0m  \u001b[0;31m# Not in cache, or unhashable.\u001b[0m\u001b[0;34m\u001b[0m\u001b[0m\n",
      "\u001b[0;31mKeyError\u001b[0m: (0, None)",
      "\nDuring handling of the above exception, another exception occurred:\n",
      "\u001b[0;31mValueError\u001b[0m                                Traceback (most recent call last)",
      "\u001b[0;32m<ipython-input-87-a975bc8fcd50>\u001b[0m in \u001b[0;36m<module>\u001b[0;34m()\u001b[0m\n\u001b[1;32m      1\u001b[0m \u001b[0mfig\u001b[0m\u001b[0;34m,\u001b[0m\u001b[0max\u001b[0m \u001b[0;34m=\u001b[0m \u001b[0mplt\u001b[0m\u001b[0;34m.\u001b[0m\u001b[0msubplots\u001b[0m\u001b[0;34m(\u001b[0m\u001b[0;36m1\u001b[0m\u001b[0;34m)\u001b[0m\u001b[0;34m\u001b[0m\u001b[0m\n\u001b[0;32m----> 2\u001b[0;31m \u001b[0max\u001b[0m\u001b[0;34m.\u001b[0m\u001b[0mscatter\u001b[0m\u001b[0;34m(\u001b[0m\u001b[0mX_embedded\u001b[0m\u001b[0;34m[\u001b[0m\u001b[0;34m:\u001b[0m\u001b[0;34m,\u001b[0m\u001b[0;36m0\u001b[0m\u001b[0;34m]\u001b[0m\u001b[0;34m,\u001b[0m\u001b[0mX_embedded\u001b[0m\u001b[0;34m[\u001b[0m\u001b[0;34m:\u001b[0m\u001b[0;34m,\u001b[0m\u001b[0;36m1\u001b[0m\u001b[0;34m]\u001b[0m\u001b[0;34m,\u001b[0m \u001b[0mc\u001b[0m \u001b[0;34m=\u001b[0m \u001b[0my\u001b[0m\u001b[0;34m,\u001b[0m \u001b[0ms\u001b[0m\u001b[0;34m=\u001b[0m\u001b[0;36m50\u001b[0m\u001b[0;34m)\u001b[0m\u001b[0;34m\u001b[0m\u001b[0m\n\u001b[0m\u001b[1;32m      3\u001b[0m \u001b[0max\u001b[0m\u001b[0;34m.\u001b[0m\u001b[0mset_yticks\u001b[0m\u001b[0;34m(\u001b[0m\u001b[0;34m[\u001b[0m\u001b[0;34m]\u001b[0m\u001b[0;34m)\u001b[0m\u001b[0;34m\u001b[0m\u001b[0m\n\u001b[1;32m      4\u001b[0m \u001b[0max\u001b[0m\u001b[0;34m.\u001b[0m\u001b[0mset_yticklabels\u001b[0m\u001b[0;34m(\u001b[0m\u001b[0;34m[\u001b[0m\u001b[0;34m]\u001b[0m\u001b[0;34m)\u001b[0m\u001b[0;34m\u001b[0m\u001b[0m\n\u001b[1;32m      5\u001b[0m \u001b[0max\u001b[0m\u001b[0;34m.\u001b[0m\u001b[0mset_xticks\u001b[0m\u001b[0;34m(\u001b[0m\u001b[0;34m[\u001b[0m\u001b[0;34m]\u001b[0m\u001b[0;34m)\u001b[0m\u001b[0;34m\u001b[0m\u001b[0m\n",
      "\u001b[0;32m~/anaconda/lib/python3.6/site-packages/matplotlib/__init__.py\u001b[0m in \u001b[0;36minner\u001b[0;34m(ax, *args, **kwargs)\u001b[0m\n\u001b[1;32m   1896\u001b[0m                     warnings.warn(msg % (label_namer, func.__name__),\n\u001b[1;32m   1897\u001b[0m                                   RuntimeWarning, stacklevel=2)\n\u001b[0;32m-> 1898\u001b[0;31m             \u001b[0;32mreturn\u001b[0m \u001b[0mfunc\u001b[0m\u001b[0;34m(\u001b[0m\u001b[0max\u001b[0m\u001b[0;34m,\u001b[0m \u001b[0;34m*\u001b[0m\u001b[0margs\u001b[0m\u001b[0;34m,\u001b[0m \u001b[0;34m**\u001b[0m\u001b[0mkwargs\u001b[0m\u001b[0;34m)\u001b[0m\u001b[0;34m\u001b[0m\u001b[0m\n\u001b[0m\u001b[1;32m   1899\u001b[0m         \u001b[0mpre_doc\u001b[0m \u001b[0;34m=\u001b[0m \u001b[0minner\u001b[0m\u001b[0;34m.\u001b[0m\u001b[0m__doc__\u001b[0m\u001b[0;34m\u001b[0m\u001b[0m\n\u001b[1;32m   1900\u001b[0m         \u001b[0;32mif\u001b[0m \u001b[0mpre_doc\u001b[0m \u001b[0;32mis\u001b[0m \u001b[0;32mNone\u001b[0m\u001b[0;34m:\u001b[0m\u001b[0;34m\u001b[0m\u001b[0m\n",
      "\u001b[0;32m~/anaconda/lib/python3.6/site-packages/matplotlib/axes/_axes.py\u001b[0m in \u001b[0;36mscatter\u001b[0;34m(self, x, y, s, c, marker, cmap, norm, vmin, vmax, alpha, linewidths, verts, edgecolors, **kwargs)\u001b[0m\n\u001b[1;32m   4032\u001b[0m                 \u001b[0moffsets\u001b[0m\u001b[0;34m=\u001b[0m\u001b[0moffsets\u001b[0m\u001b[0;34m,\u001b[0m\u001b[0;34m\u001b[0m\u001b[0m\n\u001b[1;32m   4033\u001b[0m                 \u001b[0mtransOffset\u001b[0m\u001b[0;34m=\u001b[0m\u001b[0mkwargs\u001b[0m\u001b[0;34m.\u001b[0m\u001b[0mpop\u001b[0m\u001b[0;34m(\u001b[0m\u001b[0;34m'transform'\u001b[0m\u001b[0;34m,\u001b[0m \u001b[0mself\u001b[0m\u001b[0;34m.\u001b[0m\u001b[0mtransData\u001b[0m\u001b[0;34m)\u001b[0m\u001b[0;34m,\u001b[0m\u001b[0;34m\u001b[0m\u001b[0m\n\u001b[0;32m-> 4034\u001b[0;31m                 \u001b[0malpha\u001b[0m\u001b[0;34m=\u001b[0m\u001b[0malpha\u001b[0m\u001b[0;34m\u001b[0m\u001b[0m\n\u001b[0m\u001b[1;32m   4035\u001b[0m                 )\n\u001b[1;32m   4036\u001b[0m         \u001b[0mcollection\u001b[0m\u001b[0;34m.\u001b[0m\u001b[0mset_transform\u001b[0m\u001b[0;34m(\u001b[0m\u001b[0mmtransforms\u001b[0m\u001b[0;34m.\u001b[0m\u001b[0mIdentityTransform\u001b[0m\u001b[0;34m(\u001b[0m\u001b[0;34m)\u001b[0m\u001b[0;34m)\u001b[0m\u001b[0;34m\u001b[0m\u001b[0m\n",
      "\u001b[0;32m~/anaconda/lib/python3.6/site-packages/matplotlib/collections.py\u001b[0m in \u001b[0;36m__init__\u001b[0;34m(self, paths, sizes, **kwargs)\u001b[0m\n\u001b[1;32m    900\u001b[0m         \"\"\"\n\u001b[1;32m    901\u001b[0m \u001b[0;34m\u001b[0m\u001b[0m\n\u001b[0;32m--> 902\u001b[0;31m         \u001b[0mCollection\u001b[0m\u001b[0;34m.\u001b[0m\u001b[0m__init__\u001b[0m\u001b[0;34m(\u001b[0m\u001b[0mself\u001b[0m\u001b[0;34m,\u001b[0m \u001b[0;34m**\u001b[0m\u001b[0mkwargs\u001b[0m\u001b[0;34m)\u001b[0m\u001b[0;34m\u001b[0m\u001b[0m\n\u001b[0m\u001b[1;32m    903\u001b[0m         \u001b[0mself\u001b[0m\u001b[0;34m.\u001b[0m\u001b[0mset_paths\u001b[0m\u001b[0;34m(\u001b[0m\u001b[0mpaths\u001b[0m\u001b[0;34m)\u001b[0m\u001b[0;34m\u001b[0m\u001b[0m\n\u001b[1;32m    904\u001b[0m         \u001b[0mself\u001b[0m\u001b[0;34m.\u001b[0m\u001b[0mset_sizes\u001b[0m\u001b[0;34m(\u001b[0m\u001b[0msizes\u001b[0m\u001b[0;34m)\u001b[0m\u001b[0;34m\u001b[0m\u001b[0m\n",
      "\u001b[0;32m~/anaconda/lib/python3.6/site-packages/matplotlib/collections.py\u001b[0m in \u001b[0;36m__init__\u001b[0;34m(self, edgecolors, facecolors, linewidths, linestyles, antialiaseds, offsets, transOffset, norm, cmap, pickradius, hatch, urls, offset_position, zorder, **kwargs)\u001b[0m\n\u001b[1;32m    138\u001b[0m \u001b[0;34m\u001b[0m\u001b[0m\n\u001b[1;32m    139\u001b[0m         \u001b[0mself\u001b[0m\u001b[0;34m.\u001b[0m\u001b[0m_hatch_color\u001b[0m \u001b[0;34m=\u001b[0m \u001b[0mmcolors\u001b[0m\u001b[0;34m.\u001b[0m\u001b[0mto_rgba\u001b[0m\u001b[0;34m(\u001b[0m\u001b[0mmpl\u001b[0m\u001b[0;34m.\u001b[0m\u001b[0mrcParams\u001b[0m\u001b[0;34m[\u001b[0m\u001b[0;34m'hatch.color'\u001b[0m\u001b[0;34m]\u001b[0m\u001b[0;34m)\u001b[0m\u001b[0;34m\u001b[0m\u001b[0m\n\u001b[0;32m--> 140\u001b[0;31m         \u001b[0mself\u001b[0m\u001b[0;34m.\u001b[0m\u001b[0mset_facecolor\u001b[0m\u001b[0;34m(\u001b[0m\u001b[0mfacecolors\u001b[0m\u001b[0;34m)\u001b[0m\u001b[0;34m\u001b[0m\u001b[0m\n\u001b[0m\u001b[1;32m    141\u001b[0m         \u001b[0mself\u001b[0m\u001b[0;34m.\u001b[0m\u001b[0mset_edgecolor\u001b[0m\u001b[0;34m(\u001b[0m\u001b[0medgecolors\u001b[0m\u001b[0;34m)\u001b[0m\u001b[0;34m\u001b[0m\u001b[0m\n\u001b[1;32m    142\u001b[0m         \u001b[0mself\u001b[0m\u001b[0;34m.\u001b[0m\u001b[0mset_linewidth\u001b[0m\u001b[0;34m(\u001b[0m\u001b[0mlinewidths\u001b[0m\u001b[0;34m)\u001b[0m\u001b[0;34m\u001b[0m\u001b[0m\n",
      "\u001b[0;32m~/anaconda/lib/python3.6/site-packages/matplotlib/collections.py\u001b[0m in \u001b[0;36mset_facecolor\u001b[0;34m(self, c)\u001b[0m\n\u001b[1;32m    679\u001b[0m         \"\"\"\n\u001b[1;32m    680\u001b[0m         \u001b[0mself\u001b[0m\u001b[0;34m.\u001b[0m\u001b[0m_original_facecolor\u001b[0m \u001b[0;34m=\u001b[0m \u001b[0mc\u001b[0m\u001b[0;34m\u001b[0m\u001b[0m\n\u001b[0;32m--> 681\u001b[0;31m         \u001b[0mself\u001b[0m\u001b[0;34m.\u001b[0m\u001b[0m_set_facecolor\u001b[0m\u001b[0;34m(\u001b[0m\u001b[0mc\u001b[0m\u001b[0;34m)\u001b[0m\u001b[0;34m\u001b[0m\u001b[0m\n\u001b[0m\u001b[1;32m    682\u001b[0m \u001b[0;34m\u001b[0m\u001b[0m\n\u001b[1;32m    683\u001b[0m     \u001b[0;32mdef\u001b[0m \u001b[0mset_facecolors\u001b[0m\u001b[0;34m(\u001b[0m\u001b[0mself\u001b[0m\u001b[0;34m,\u001b[0m \u001b[0mc\u001b[0m\u001b[0;34m)\u001b[0m\u001b[0;34m:\u001b[0m\u001b[0;34m\u001b[0m\u001b[0m\n",
      "\u001b[0;32m~/anaconda/lib/python3.6/site-packages/matplotlib/collections.py\u001b[0m in \u001b[0;36m_set_facecolor\u001b[0;34m(self, c)\u001b[0m\n\u001b[1;32m    664\u001b[0m         \u001b[0;32mexcept\u001b[0m \u001b[0mAttributeError\u001b[0m\u001b[0;34m:\u001b[0m\u001b[0;34m\u001b[0m\u001b[0m\n\u001b[1;32m    665\u001b[0m             \u001b[0;32mpass\u001b[0m\u001b[0;34m\u001b[0m\u001b[0m\n\u001b[0;32m--> 666\u001b[0;31m         \u001b[0mself\u001b[0m\u001b[0;34m.\u001b[0m\u001b[0m_facecolors\u001b[0m \u001b[0;34m=\u001b[0m \u001b[0mmcolors\u001b[0m\u001b[0;34m.\u001b[0m\u001b[0mto_rgba_array\u001b[0m\u001b[0;34m(\u001b[0m\u001b[0mc\u001b[0m\u001b[0;34m,\u001b[0m \u001b[0mself\u001b[0m\u001b[0;34m.\u001b[0m\u001b[0m_alpha\u001b[0m\u001b[0;34m)\u001b[0m\u001b[0;34m\u001b[0m\u001b[0m\n\u001b[0m\u001b[1;32m    667\u001b[0m         \u001b[0mself\u001b[0m\u001b[0;34m.\u001b[0m\u001b[0mstale\u001b[0m \u001b[0;34m=\u001b[0m \u001b[0;32mTrue\u001b[0m\u001b[0;34m\u001b[0m\u001b[0m\n\u001b[1;32m    668\u001b[0m \u001b[0;34m\u001b[0m\u001b[0m\n",
      "\u001b[0;32m~/anaconda/lib/python3.6/site-packages/matplotlib/colors.py\u001b[0m in \u001b[0;36mto_rgba_array\u001b[0;34m(c, alpha)\u001b[0m\n\u001b[1;32m    237\u001b[0m     \u001b[0mresult\u001b[0m \u001b[0;34m=\u001b[0m \u001b[0mnp\u001b[0m\u001b[0;34m.\u001b[0m\u001b[0mempty\u001b[0m\u001b[0;34m(\u001b[0m\u001b[0;34m(\u001b[0m\u001b[0mlen\u001b[0m\u001b[0;34m(\u001b[0m\u001b[0mc\u001b[0m\u001b[0;34m)\u001b[0m\u001b[0;34m,\u001b[0m \u001b[0;36m4\u001b[0m\u001b[0;34m)\u001b[0m\u001b[0;34m,\u001b[0m \u001b[0mfloat\u001b[0m\u001b[0;34m)\u001b[0m\u001b[0;34m\u001b[0m\u001b[0m\n\u001b[1;32m    238\u001b[0m     \u001b[0;32mfor\u001b[0m \u001b[0mi\u001b[0m\u001b[0;34m,\u001b[0m \u001b[0mcc\u001b[0m \u001b[0;32min\u001b[0m \u001b[0menumerate\u001b[0m\u001b[0;34m(\u001b[0m\u001b[0mc\u001b[0m\u001b[0;34m)\u001b[0m\u001b[0;34m:\u001b[0m\u001b[0;34m\u001b[0m\u001b[0m\n\u001b[0;32m--> 239\u001b[0;31m         \u001b[0mresult\u001b[0m\u001b[0;34m[\u001b[0m\u001b[0mi\u001b[0m\u001b[0;34m]\u001b[0m \u001b[0;34m=\u001b[0m \u001b[0mto_rgba\u001b[0m\u001b[0;34m(\u001b[0m\u001b[0mcc\u001b[0m\u001b[0;34m,\u001b[0m \u001b[0malpha\u001b[0m\u001b[0;34m)\u001b[0m\u001b[0;34m\u001b[0m\u001b[0m\n\u001b[0m\u001b[1;32m    240\u001b[0m     \u001b[0;32mreturn\u001b[0m \u001b[0mresult\u001b[0m\u001b[0;34m\u001b[0m\u001b[0m\n\u001b[1;32m    241\u001b[0m \u001b[0;34m\u001b[0m\u001b[0m\n",
      "\u001b[0;32m~/anaconda/lib/python3.6/site-packages/matplotlib/colors.py\u001b[0m in \u001b[0;36mto_rgba\u001b[0;34m(c, alpha)\u001b[0m\n\u001b[1;32m    141\u001b[0m         \u001b[0mrgba\u001b[0m \u001b[0;34m=\u001b[0m \u001b[0m_colors_full_map\u001b[0m\u001b[0;34m.\u001b[0m\u001b[0mcache\u001b[0m\u001b[0;34m[\u001b[0m\u001b[0mc\u001b[0m\u001b[0;34m,\u001b[0m \u001b[0malpha\u001b[0m\u001b[0;34m]\u001b[0m\u001b[0;34m\u001b[0m\u001b[0m\n\u001b[1;32m    142\u001b[0m     \u001b[0;32mexcept\u001b[0m \u001b[0;34m(\u001b[0m\u001b[0mKeyError\u001b[0m\u001b[0;34m,\u001b[0m \u001b[0mTypeError\u001b[0m\u001b[0;34m)\u001b[0m\u001b[0;34m:\u001b[0m  \u001b[0;31m# Not in cache, or unhashable.\u001b[0m\u001b[0;34m\u001b[0m\u001b[0m\n\u001b[0;32m--> 143\u001b[0;31m         \u001b[0mrgba\u001b[0m \u001b[0;34m=\u001b[0m \u001b[0m_to_rgba_no_colorcycle\u001b[0m\u001b[0;34m(\u001b[0m\u001b[0mc\u001b[0m\u001b[0;34m,\u001b[0m \u001b[0malpha\u001b[0m\u001b[0;34m)\u001b[0m\u001b[0;34m\u001b[0m\u001b[0m\n\u001b[0m\u001b[1;32m    144\u001b[0m         \u001b[0;32mtry\u001b[0m\u001b[0;34m:\u001b[0m\u001b[0;34m\u001b[0m\u001b[0m\n\u001b[1;32m    145\u001b[0m             \u001b[0m_colors_full_map\u001b[0m\u001b[0;34m.\u001b[0m\u001b[0mcache\u001b[0m\u001b[0;34m[\u001b[0m\u001b[0mc\u001b[0m\u001b[0;34m,\u001b[0m \u001b[0malpha\u001b[0m\u001b[0;34m]\u001b[0m \u001b[0;34m=\u001b[0m \u001b[0mrgba\u001b[0m\u001b[0;34m\u001b[0m\u001b[0m\n",
      "\u001b[0;32m~/anaconda/lib/python3.6/site-packages/matplotlib/colors.py\u001b[0m in \u001b[0;36m_to_rgba_no_colorcycle\u001b[0;34m(c, alpha)\u001b[0m\n\u001b[1;32m    192\u001b[0m         \u001b[0;31m# float)` and `np.array(...).astype(float)` all convert \"0.5\" to 0.5.\u001b[0m\u001b[0;34m\u001b[0m\u001b[0;34m\u001b[0m\u001b[0m\n\u001b[1;32m    193\u001b[0m         \u001b[0;31m# Test dimensionality to reject single floats.\u001b[0m\u001b[0;34m\u001b[0m\u001b[0;34m\u001b[0m\u001b[0m\n\u001b[0;32m--> 194\u001b[0;31m         \u001b[0;32mraise\u001b[0m \u001b[0mValueError\u001b[0m\u001b[0;34m(\u001b[0m\u001b[0;34m\"Invalid RGBA argument: {!r}\"\u001b[0m\u001b[0;34m.\u001b[0m\u001b[0mformat\u001b[0m\u001b[0;34m(\u001b[0m\u001b[0morig_c\u001b[0m\u001b[0;34m)\u001b[0m\u001b[0;34m)\u001b[0m\u001b[0;34m\u001b[0m\u001b[0m\n\u001b[0m\u001b[1;32m    195\u001b[0m     \u001b[0;31m# Return a tuple to prevent the cached value from being modified.\u001b[0m\u001b[0;34m\u001b[0m\u001b[0;34m\u001b[0m\u001b[0m\n\u001b[1;32m    196\u001b[0m     \u001b[0mc\u001b[0m \u001b[0;34m=\u001b[0m \u001b[0mtuple\u001b[0m\u001b[0;34m(\u001b[0m\u001b[0mc\u001b[0m\u001b[0;34m.\u001b[0m\u001b[0mastype\u001b[0m\u001b[0;34m(\u001b[0m\u001b[0mfloat\u001b[0m\u001b[0;34m)\u001b[0m\u001b[0;34m)\u001b[0m\u001b[0;34m\u001b[0m\u001b[0m\n",
      "\u001b[0;31mValueError\u001b[0m: Invalid RGBA argument: 0"
     ]
    },
    {
     "data": {
      "image/png": "[encoded data removed]",
      "text/plain": [
       "<matplotlib.figure.Figure at 0x187aab710>"
      ]
     },
     "metadata": {},
     "output_type": "display_data"
    }
   ],
   "source": [
    "fig,ax = plt.subplots(1)\n",
    "ax.scatter(X_embedded[:,0],X_embedded[:,1], c = y, s=50)\n",
    "ax.set_yticks([])\n",
    "ax.set_yticklabels([])\n",
    "ax.set_xticks([])\n",
    "ax.set_xticklabels([])\n",
    "fig.dpi=300\n",
    "#fig.savefig('/Users/anirudhnatarajan/Documents/UPenn/Images/neuronClassificationTSNE.eps')"
   ]
  },
  {
   "cell_type": "code",
   "execution_count": 33,
   "metadata": {},
   "outputs": [
    {
     "data": {
      "image/png": "[encoded data removed]",
      "text/plain": [
       "<matplotlib.figure.Figure at 0x18d8f6dd8>"
      ]
     },
     "metadata": {},
     "output_type": "display_data"
    }
   ],
   "source": [
    "from sklearn.decomposition import PCA\n",
    "pca = PCA(n_components=2)\n",
    "pca.fit(train,y)\n",
    "X_embedded = pca.fit_transform(train,y)\n",
    "\n",
    "fig,ax = plt.subplots(1)\n",
    "ax.scatter(X_embedded[:,0], X_embedded[:,1], c=y, s=10)\n",
    "ax.set_yticks([])\n",
    "ax.set_yticklabels([])\n",
    "ax.set_xticks([])\n",
    "ax.set_xticklabels([])\n",
    "ax.axis([-400000,1050000,-500000,600000])\n",
    "fig.dpi=300\n",
    "# fig.savefig('/Users/anirudhnatarajan/Documents/UPenn/Images/neuronClassificationPCA.eps')\n",
    "# fig.savefig('/Users/anirudhnatarajan/Documents/UPenn/Images/neuronClassificationPCA.png')"
   ]
  },
  {
   "cell_type": "code",
   "execution_count": null,
   "metadata": {
    "collapsed": true
   },
   "outputs": [],
   "source": []
  },
  {
   "cell_type": "code",
   "execution_count": 22,
   "metadata": {
    "collapsed": true
   },
   "outputs": [],
   "source": [
    "def splitBranches(tree) :\n",
    "    branches = np.where(tree.features['branch order']>=2)[0]\n",
    "    numOfBranch = len(branches)\n",
    "    subsets = [0] * numOfBranch\n",
    "    for i in range(0,numOfBranch) :\n",
    "        rest_swc = tree.get_rest_of_neuron_after_node(branches[i])\n",
    "        n = McNeuron.Neuron(rest_swc)\n",
    "        n.l_measure_features()\n",
    "        n.motif_features()\n",
    "        n.geometrical_features()\n",
    "        n.l_measure_features()\n",
    "        subsets[i] = n.getNeuronVector()\n",
    "    return subsets"
   ]
  },
  {
   "cell_type": "code",
   "execution_count": 58,
   "metadata": {
    "collapsed": true
   },
   "outputs": [],
   "source": [
    "def getNeurons(swc, size) :\n",
    "    rand = np.linspace(0,len(swc)-1,len(swc))\n",
    "    n = [0] * size\n",
    "    for i in range (0,size) :\n",
    "        r = randint(0,len(rand)-1)\n",
    "        n[i] = McNeuron.Neuron(swc[int(rand[r])])\n",
    "        rand = np.delete(rand,r)\n",
    "#         if i%10==0 :\n",
    "#             print(i)\n",
    "#     print('done')\n",
    "    return np.array(n)"
   ]
  },
  {
   "cell_type": "code",
   "execution_count": 24,
   "metadata": {},
   "outputs": [
    {
     "name": "stdout",
     "output_type": "stream",
     "text": [
      "0\n",
      "10\n",
      "done\n",
      "0\n",
      "10\n",
      "done\n",
      "0\n",
      "10\n",
      "done\n",
      "0\n",
      "10\n",
      "done\n",
      "0\n",
      "10\n",
      "done\n"
     ]
    }
   ],
   "source": [
    "size = 20\n",
    "\n",
    "neuronG = getNeurons(swcG, size)\n",
    "neuronP = getNeurons(swcP, size)\n",
    "neuronS = getNeurons(swcS, size)\n",
    "neuronB = getNeurons(swcB, size)\n",
    "neuronT = getNeurons(swcT, size)"
   ]
  },
  {
   "cell_type": "code",
   "execution_count": 57,
   "metadata": {
    "collapsed": true
   },
   "outputs": [],
   "source": [
    "def getNeuronBranchMaster(arr):\n",
    "    neuronBranchMaster = [0] * len(arr)\n",
    "    for i in range (0,len(arr)) :\n",
    "        n = arr[i]\n",
    "        n.basic_features()\n",
    "        neuronBranchMaster[i] = splitBranches(n)\n",
    "#         if i%10==0 :\n",
    "#             print(i)\n",
    "#     print('done')\n",
    "    return neuronBranchMaster"
   ]
  },
  {
   "cell_type": "code",
   "execution_count": 26,
   "metadata": {
    "scrolled": false
   },
   "outputs": [
    {
     "name": "stderr",
     "output_type": "stream",
     "text": [
      "/Users/anirudhnatarajan/Documents/UPenn/McNeuron/McNeuron/Neuron.py:998: RuntimeWarning: Mean of empty slice.\n",
      "  n = np.append(n,self.features['segmental branch angle'].mean())\n",
      "/Users/anirudhnatarajan/anaconda/lib/python3.6/site-packages/numpy/core/_methods.py:80: RuntimeWarning: invalid value encountered in double_scalars\n",
      "  ret = ret.dtype.type(ret / rcount)\n",
      "/Users/anirudhnatarajan/Documents/UPenn/McNeuron/McNeuron/Neuron.py:990: RuntimeWarning: Mean of empty slice.\n",
      "  n = np.append(n,self.features['local angle'].mean())\n"
     ]
    },
    {
     "name": "stdout",
     "output_type": "stream",
     "text": [
      "0\n",
      "10\n",
      "done\n",
      "0\n",
      "10\n",
      "done\n",
      "0\n",
      "10\n",
      "done\n",
      "0\n",
      "10\n",
      "done\n",
      "0\n",
      "10\n",
      "done\n"
     ]
    }
   ],
   "source": [
    "neuronBranchMasterG = getNeuronBranchMaster(neuronG)\n",
    "neuronBranchMasterP = getNeuronBranchMaster(neuronP)\n",
    "neuronBranchMasterS = getNeuronBranchMaster(neuronS)\n",
    "neuronBranchMasterB = getNeuronBranchMaster(neuronB)\n",
    "neuronBranchMasterT = getNeuronBranchMaster(neuronT)"
   ]
  },
  {
   "cell_type": "code",
   "execution_count": 82,
   "metadata": {
    "collapsed": true
   },
   "outputs": [],
   "source": [
    "def removeBranchNaN(arr) :\n",
    "    for i in range(0,len(arr)) :\n",
    "        counter = 0\n",
    "        for j in range(0,len(arr[i])) :\n",
    "            if np.isnan(arr[i][j-counter]).any() :\n",
    "                arr[i] = np.delete(arr[i],j-counter, axis=0)\n",
    "                counter += 1\n",
    "#                 print('good')\n",
    "    return arr\n",
    "\n",
    "def removeEmpty(array) :\n",
    "    counter = 0\n",
    "    for i in range(0,len(array)) :\n",
    "        if array[i-counter]==[] :\n",
    "            array = np.delete(array,i-counter)\n",
    "            counter += 1\n",
    "#             print('ha')\n",
    "    return array\n",
    "\n",
    "neuronBranchMasterG = removeBranchNaN(neuronBranchMasterG)\n",
    "neuronBranchMasterG = removeEmpty(neuronBranchMasterG)\n",
    "neuronBranchMasterP = removeBranchNaN(neuronBranchMasterP)\n",
    "neuronBranchMasterP = removeEmpty(neuronBranchMasterP)\n",
    "neuronBranchMasterS = removeBranchNaN(neuronBranchMasterS)\n",
    "neuronBranchMasterS = removeEmpty(neuronBranchMasterS)\n",
    "neuronBranchMasterB = removeBranchNaN(neuronBranchMasterB)\n",
    "neuronBranchMasterB = removeEmpty(neuronBranchMasterB)\n",
    "neuronBranchMasterT = removeBranchNaN(neuronBranchMasterT)\n",
    "neuronBranchMasterT = removeEmpty(neuronBranchMasterT)"
   ]
  },
  {
   "cell_type": "code",
   "execution_count": 32,
   "metadata": {
    "collapsed": true
   },
   "outputs": [],
   "source": [
    "#clf = svm.SVC()\n",
    "#clf = RandomForestClassifier()\n",
    "#clf = ExtraTreesClassifier()\n",
    "#clf = DecisionTreeClassifier()\n",
    "#clf = GradientBoostingClassifier()\n",
    "#clf = BaggingClassifier()\n",
    "clf = BaggingClassifier(ExtraTreesClassifier())\n",
    "#clf = neighbors.KNeighborsClassifier()\n",
    "#clf = SGDClassifier()\n",
    "#clf = MLPClassifier()\n",
    "#clf = GaussianNB()\n",
    "#clf = linear_model.LinearRegression()"
   ]
  },
  {
   "cell_type": "code",
   "execution_count": 59,
   "metadata": {
    "collapsed": true
   },
   "outputs": [],
   "source": [
    "def appendtrees(arr) :\n",
    "    branchMaster = arr[0]\n",
    "    for i in range(1, len(arr)):\n",
    "        branchMaster = np.append(branchMaster, arr[i],axis=0)\n",
    "    return branchMaster"
   ]
  },
  {
   "cell_type": "code",
   "execution_count": 34,
   "metadata": {
    "collapsed": true
   },
   "outputs": [],
   "source": [
    "branchG = appendtrees(neuronBranchMasterG)\n",
    "branchP = appendtrees(neuronBranchMasterP)\n",
    "branchS = appendtrees(neuronBranchMasterS)\n",
    "branchB = appendtrees(neuronBranchMasterB)\n",
    "branchT = appendtrees(neuronBranchMasterT)"
   ]
  },
  {
   "cell_type": "code",
   "execution_count": 36,
   "metadata": {
    "collapsed": true
   },
   "outputs": [],
   "source": [
    "X = np.concatenate((branchG, branchP, branchS, branchB, branchT))\n",
    "y = np.concatenate(([0] * len(branchG),[1] * len(branchP),[2] * len(branchS),[3] * len(branchB),[4] * len(branchT)))"
   ]
  },
  {
   "cell_type": "code",
   "execution_count": 37,
   "metadata": {
    "collapsed": true
   },
   "outputs": [],
   "source": [
    "from sklearn.model_selection import train_test_split\n",
    "X_train, X_test, y_train, y_test = train_test_split(X, y, test_size=0.5, random_state=42)"
   ]
  },
  {
   "cell_type": "code",
   "execution_count": 38,
   "metadata": {},
   "outputs": [
    {
     "data": {
      "text/plain": [
       "0.9493045387994143"
      ]
     },
     "execution_count": 38,
     "metadata": {},
     "output_type": "execute_result"
    }
   ],
   "source": [
    "clf.fit(X_train,y_train)\n",
    "z = clf.predict(X_test)\n",
    "from sklearn.metrics import accuracy_score\n",
    "accuracy_score(z, y_test)"
   ]
  },
  {
   "cell_type": "code",
   "execution_count": 51,
   "metadata": {},
   "outputs": [
    {
     "data": {
      "image/png": "[encoded data removed]",
      "text/plain": [
       "<matplotlib.figure.Figure at 0x197b59828>"
      ]
     },
     "metadata": {},
     "output_type": "display_data"
    }
   ],
   "source": [
    "from sklearn.decomposition import PCA\n",
    "pca = PCA(n_components=2)\n",
    "pca.fit(X_train,y_train)\n",
    "PCAArr = pca.fit_transform(X_train,y_train)\n",
    "\n",
    "fig,ax = plt.subplots(1)\n",
    "ax.scatter(PCAArr[:,0], PCAArr[:,1], c=y_train, s=.3, marker='x')\n",
    "ax.set_yticks([])\n",
    "ax.set_yticklabels([])\n",
    "ax.set_xticks([])\n",
    "ax.set_xticklabels([])\n",
    "ax.axis([-10000,100000,-20000,150000])\n",
    "# fig.savefig('/Users/anirudhnatarajan/Documents/UPenn/Images/neuronBranchClassificationPCA.eps', dpi = 300)\n",
    "# fig.savefig('/Users/anirudhnatarajan/Documents/UPenn/Images/neuronBranchClassificationPCA.png', dpi = 300)"
   ]
  },
  {
   "cell_type": "code",
   "execution_count": 46,
   "metadata": {
    "scrolled": true
   },
   "outputs": [
    {
     "name": "stdout",
     "output_type": "stream",
     "text": [
      "[t-SNE] Computing 91 nearest neighbors...\n",
      "[t-SNE] Indexed 5464 samples in 0.028s...\n",
      "[t-SNE] Computed neighbors for 5464 samples in 0.527s...\n",
      "[t-SNE] Computed conditional probabilities for sample 1000 / 5464\n",
      "[t-SNE] Computed conditional probabilities for sample 2000 / 5464\n",
      "[t-SNE] Computed conditional probabilities for sample 3000 / 5464\n",
      "[t-SNE] Computed conditional probabilities for sample 4000 / 5464\n",
      "[t-SNE] Computed conditional probabilities for sample 5000 / 5464\n",
      "[t-SNE] Computed conditional probabilities for sample 5464 / 5464\n",
      "[t-SNE] Mean sigma: 19.554297\n",
      "[t-SNE] Computed conditional probabilities in 0.318s\n",
      "[t-SNE] Iteration 50: error = 83.6760483, gradient norm = 0.0470513 (50 iterations in 8.434s)\n",
      "[t-SNE] Iteration 100: error = 70.1710510, gradient norm = 0.0082339 (50 iterations in 6.879s)\n",
      "[t-SNE] Iteration 150: error = 67.6387100, gradient norm = 0.0037530 (50 iterations in 6.651s)\n",
      "[t-SNE] Iteration 200: error = 66.5983887, gradient norm = 0.0037163 (50 iterations in 6.359s)\n",
      "[t-SNE] Iteration 250: error = 65.9161148, gradient norm = 0.0033327 (50 iterations in 6.450s)\n",
      "[t-SNE] KL divergence after 250 iterations with early exaggeration: 65.916115\n",
      "[t-SNE] Iteration 300: error = 1.6657230, gradient norm = 0.0012485 (50 iterations in 7.190s)\n",
      "[t-SNE] Iteration 350: error = 1.1803863, gradient norm = 0.0005338 (50 iterations in 6.709s)\n",
      "[t-SNE] Iteration 400: error = 0.9836293, gradient norm = 0.0003137 (50 iterations in 6.541s)\n",
      "[t-SNE] Iteration 450: error = 0.8799390, gradient norm = 0.0002214 (50 iterations in 6.704s)\n",
      "[t-SNE] Iteration 500: error = 0.8181304, gradient norm = 0.0001663 (50 iterations in 6.617s)\n",
      "[t-SNE] Iteration 550: error = 0.7786252, gradient norm = 0.0001395 (50 iterations in 7.061s)\n",
      "[t-SNE] Iteration 600: error = 0.7539068, gradient norm = 0.0001246 (50 iterations in 6.332s)\n",
      "[t-SNE] Iteration 650: error = 0.7382423, gradient norm = 0.0001127 (50 iterations in 6.351s)\n",
      "[t-SNE] Iteration 700: error = 0.7280149, gradient norm = 0.0001033 (50 iterations in 6.379s)\n",
      "[t-SNE] Iteration 750: error = 0.7201090, gradient norm = 0.0000989 (50 iterations in 6.565s)\n",
      "[t-SNE] Iteration 800: error = 0.7140254, gradient norm = 0.0000900 (50 iterations in 6.545s)\n",
      "[t-SNE] Iteration 850: error = 0.7084187, gradient norm = 0.0000839 (50 iterations in 6.505s)\n",
      "[t-SNE] Iteration 900: error = 0.7034484, gradient norm = 0.0000796 (50 iterations in 6.582s)\n",
      "[t-SNE] Iteration 950: error = 0.6990693, gradient norm = 0.0000765 (50 iterations in 6.459s)\n",
      "[t-SNE] Iteration 1000: error = 0.6954175, gradient norm = 0.0000698 (50 iterations in 6.516s)\n",
      "[t-SNE] Error after 1000 iterations: 0.695418\n"
     ]
    }
   ],
   "source": [
    "from sklearn.manifold import TSNE\n",
    "X_embedded = TSNE(n_components=2, verbose=2).fit_transform(X_train)"
   ]
  },
  {
   "cell_type": "code",
   "execution_count": 48,
   "metadata": {},
   "outputs": [
    {
     "data": {
      "image/png": "[encoded data removed]",
      "text/plain": [
       "<matplotlib.figure.Figure at 0x19c0e5fd0>"
      ]
     },
     "metadata": {},
     "output_type": "display_data"
    }
   ],
   "source": [
    "plt.scatter(X_embedded[:,0],X_embedded[:,1], c = y_train, s=0.1)\n",
    "# plt.savefig('/Users/anirudhnatarajan/Documents/UPenn/Images/neuronBranchClassificationTSNE.eps', dpi = 300)\n",
    "# plt.savefig('/Users/anirudhnatarajan/Documents/UPenn/Images/neuronBranchClassificationTSNE.png', dpi = 300)"
   ]
  },
  {
   "cell_type": "code",
   "execution_count": 83,
   "metadata": {
    "collapsed": true
   },
   "outputs": [],
   "source": [
    "def getBranchFeatureImportance(length, featureNum) :\n",
    "    \"\"\"\n",
    "    getFeatureImportance uses the subsetData function to generate a matrix with a large number of individual feature accuracies.\n",
    "\n",
    "    Parameters:\n",
    "    -----------\n",
    "    length: int\n",
    "        how many times the function will get new data and test the accuracy of individual features \n",
    "    featureNum: int\n",
    "        the number of features needed to be tested\n",
    "\n",
    "    Return:\n",
    "    -------\n",
    "    getFeatureImportance returns a matrix of shape (featureNum,length) with all values filled with the accuracy of each feature\n",
    "\n",
    "    \"\"\"\n",
    "    \n",
    "    masterFeature = np.zeros([featureNum, length])\n",
    "    for l in range (0,length) :\n",
    "        neuronG = getNeurons(swcG, size)\n",
    "        neuronP = getNeurons(swcP, size)\n",
    "        neuronS = getNeurons(swcS, size)\n",
    "        neuronB = getNeurons(swcB, size)\n",
    "        neuronT = getNeurons(swcT, size)\n",
    "        \n",
    "        neuronBranchMasterG = getNeuronBranchMaster(neuronG)\n",
    "        neuronBranchMasterP = getNeuronBranchMaster(neuronP)\n",
    "        neuronBranchMasterS = getNeuronBranchMaster(neuronS)\n",
    "        neuronBranchMasterB = getNeuronBranchMaster(neuronB)\n",
    "        neuronBranchMasterT = getNeuronBranchMaster(neuronT)\n",
    "        print('done')\n",
    "        \n",
    "        neuronBranchMasterG = removeBranchNaN(neuronBranchMasterG)\n",
    "        neuronBranchMasterG = removeEmpty(neuronBranchMasterG)\n",
    "        neuronBranchMasterP = removeBranchNaN(neuronBranchMasterP)\n",
    "        neuronBranchMasterP = removeEmpty(neuronBranchMasterP)\n",
    "        neuronBranchMasterS = removeBranchNaN(neuronBranchMasterS)\n",
    "        neuronBranchMasterS = removeEmpty(neuronBranchMasterS)\n",
    "        neuronBranchMasterB = removeBranchNaN(neuronBranchMasterB)\n",
    "        neuronBranchMasterB = removeEmpty(neuronBranchMasterB)\n",
    "        neuronBranchMasterT = removeBranchNaN(neuronBranchMasterT)\n",
    "        neuronBranchMasterT = removeEmpty(neuronBranchMasterT)\n",
    "        print('done')\n",
    "        \n",
    "        branchG = appendtrees(neuronBranchMasterG)\n",
    "        branchP = appendtrees(neuronBranchMasterP)\n",
    "        branchS = appendtrees(neuronBranchMasterS)\n",
    "        branchB = appendtrees(neuronBranchMasterB)\n",
    "        branchT = appendtrees(neuronBranchMasterT)\n",
    "        \n",
    "        X = np.concatenate((branchG, branchP, branchS, branchB, branchT))\n",
    "        y = np.concatenate(([0] * len(branchG),[1] * len(branchP),[2] * len(branchS),[3] * len(branchB),[4] * len(branchT)))\n",
    "        for q in range(0,featureNum) :\n",
    "            \n",
    "            X_train, X_test, y_train, y_test = train_test_split(X[:,q], y, test_size=0.5, random_state=42)\n",
    "            X_train = np.expand_dims(X_train,axis=1)\n",
    "            X_test = np.expand_dims(X_test,axis=1)\n",
    "\n",
    "            clf = ExtraTreesClassifier()\n",
    "            clf.fit(X_train,y_train)\n",
    "            z = clf.predict(X_test)\n",
    "            masterFeature[q, l] = accuracy_score(z, y_test)\n",
    "        print(l)\n",
    "    return masterFeature"
   ]
  },
  {
   "cell_type": "code",
   "execution_count": 84,
   "metadata": {},
   "outputs": [
    {
     "name": "stderr",
     "output_type": "stream",
     "text": [
      "/Users/anirudhnatarajan/Documents/UPenn/McNeuron/McNeuron/Neuron.py:998: RuntimeWarning: Mean of empty slice.\n",
      "  n = np.append(n,self.features['segmental branch angle'].mean())\n",
      "/Users/anirudhnatarajan/anaconda/lib/python3.6/site-packages/numpy/core/_methods.py:80: RuntimeWarning: invalid value encountered in double_scalars\n",
      "  ret = ret.dtype.type(ret / rcount)\n",
      "/Users/anirudhnatarajan/Documents/UPenn/McNeuron/McNeuron/Neuron.py:990: RuntimeWarning: Mean of empty slice.\n",
      "  n = np.append(n,self.features['local angle'].mean())\n"
     ]
    },
    {
     "name": "stdout",
     "output_type": "stream",
     "text": [
      "done\n",
      "done\n",
      "0\n"
     ]
    },
    {
     "name": "stderr",
     "output_type": "stream",
     "text": [
      "/Users/anirudhnatarajan/Documents/UPenn/McNeuron/McNeuron/Neuron.py:998: RuntimeWarning: Mean of empty slice.\n",
      "  n = np.append(n,self.features['segmental branch angle'].mean())\n",
      "/Users/anirudhnatarajan/anaconda/lib/python3.6/site-packages/numpy/core/_methods.py:80: RuntimeWarning: invalid value encountered in double_scalars\n",
      "  ret = ret.dtype.type(ret / rcount)\n",
      "/Users/anirudhnatarajan/Documents/UPenn/McNeuron/McNeuron/Neuron.py:990: RuntimeWarning: Mean of empty slice.\n",
      "  n = np.append(n,self.features['local angle'].mean())\n"
     ]
    },
    {
     "name": "stdout",
     "output_type": "stream",
     "text": [
      "done\n",
      "done\n",
      "1\n"
     ]
    },
    {
     "name": "stderr",
     "output_type": "stream",
     "text": [
      "/Users/anirudhnatarajan/Documents/UPenn/McNeuron/McNeuron/Neuron.py:998: RuntimeWarning: Mean of empty slice.\n",
      "  n = np.append(n,self.features['segmental branch angle'].mean())\n",
      "/Users/anirudhnatarajan/anaconda/lib/python3.6/site-packages/numpy/core/_methods.py:80: RuntimeWarning: invalid value encountered in double_scalars\n",
      "  ret = ret.dtype.type(ret / rcount)\n",
      "/Users/anirudhnatarajan/Documents/UPenn/McNeuron/McNeuron/Neuron.py:990: RuntimeWarning: Mean of empty slice.\n",
      "  n = np.append(n,self.features['local angle'].mean())\n"
     ]
    },
    {
     "name": "stdout",
     "output_type": "stream",
     "text": [
      "done\n",
      "done\n",
      "2\n"
     ]
    }
   ],
   "source": [
    "featureNames = ['Width X', 'Height Y', 'Soma Radii', 'Soma Surface Area', \\\n",
    "                'Soma Volume', 'Skewness X', 'Skewness Y', 'Skewness Z', \\\n",
    "                'Euclidian Skewness', 'Length', 'Surface Area', \\\n",
    "                'Section Area', 'Volume', 'Average Radius', 'Tips', \\\n",
    "                'Stems', 'Branch Pt', 'Segments', 'branch branch', \\\n",
    "                'branch die', 'die die', 'global angle', 'local angle', \\\n",
    "                'distance from root', 'path_length/euclidean', \\\n",
    "                'mean Contraction', 'branch angle', 'side branch angle', \\\n",
    "                'mean segmental neural length', 'mean segmental euclidean length', \\\n",
    "                'segmental branch angle']\n",
    "featureNum = len(featureNames)\n",
    "masterFeatureBranch = getBranchFeatureImportance(3, featureNum)"
   ]
  },
  {
   "cell_type": "code",
   "execution_count": 86,
   "metadata": {},
   "outputs": [
    {
     "data": {
      "image/png": "[encoded data removed]",
      "text/plain": [
       "<matplotlib.figure.Figure at 0x18a586b38>"
      ]
     },
     "metadata": {},
     "output_type": "display_data"
    }
   ],
   "source": [
    "\"\"\"\n",
    "This cell uses the getFeatureImportance funtion to get a large amount of data and graph the\n",
    "results on a bar graph\n",
    "\"\"\"\n",
    "values = np.zeros([2,featureNum])\n",
    "for i in range(0,featureNum) :\n",
    "    values[0,i] = masterFeatureBranch[i,:].mean()\n",
    "    values[1,i] = masterFeatureBranch[i,:].std()\n",
    "featureNames = np.vstack(featureNames)\n",
    "index = np.argsort(values[0,:])\n",
    "featureRange = np.linspace(0,featureNum-1,featureNum)\n",
    "plt.bar(featureRange,values[0,index], yerr = values[1,index])\n",
    "plt.xticks(featureRange,featureNames[index,0], rotation='vertical')\n",
    "plt.subplots_adjust(bottom=0.15)\n",
    "\n",
    "# plt.savefig('/Users/anirudhnatarajan/Documents/UPenn/Images/featureImportanceNeuronBranch.eps', dpi=300, bbox_inches = 'tight')\n",
    "# plt.savefig('/Users/anirudhnatarajan/Documents/UPenn/Images/featureImportanceNeuronBranch.png', dpi=300, bbox_inches = 'tight')"
   ]
  },
  {
   "cell_type": "code",
   "execution_count": null,
   "metadata": {
    "collapsed": true
   },
   "outputs": [],
   "source": []
  },
  {
   "cell_type": "code",
   "execution_count": null,
   "metadata": {
    "collapsed": true
   },
   "outputs": [],
   "source": []
  }
 ],
 "metadata": {
  "kernelspec": {
   "display_name": "Python 3",
   "language": "python",
   "name": "python3"
  },
  "language_info": {
   "codemirror_mode": {
    "name": "ipython",
    "version": 3
   },
   "file_extension": ".py",
   "mimetype": "text/x-python",
   "name": "python",
   "nbconvert_exporter": "python",
   "pygments_lexer": "ipython3",
   "version": "3.6.2"
  }
 },
 "nbformat": 4,
 "nbformat_minor": 1
}
