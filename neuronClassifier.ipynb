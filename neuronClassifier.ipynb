{
 "cells": [
  {
   "cell_type": "code",
   "execution_count": 1,
   "metadata": {
    "collapsed": true
   },
   "outputs": [],
   "source": [
    "import time\n",
    "import datetime\n",
    "import sys\n",
    "sys.path.append(\"/Users/anirudhnatarajan/Documents/UPenn/McNeuron\")\n",
    "import McNeuron\n",
    "from random import randint\n",
    "import numpy as np\n",
    "import matplotlib.pyplot as plt\n",
    "%matplotlib inline"
   ]
  },
  {
   "cell_type": "code",
   "execution_count": 2,
   "metadata": {
    "scrolled": true
   },
   "outputs": [
    {
     "name": "stdout",
     "output_type": "stream",
     "text": [
      "13:34:58\n",
      "13:36:54\n"
     ]
    }
   ],
   "source": [
    "print(datetime.datetime.fromtimestamp(time.time()).strftime('%H:%M:%S'))\n",
    "import pandas as pd\n",
    "neurons = pd.read_pickle(\"/Users/anirudhnatarajan/Documents/UPenn/neuronData/neurons.csv\")\n",
    "f = time.time()\n",
    "print(datetime.datetime.fromtimestamp(time.time()).strftime('%H:%M:%S'))"
   ]
  },
  {
   "cell_type": "code",
   "execution_count": 3,
   "metadata": {
    "collapsed": true
   },
   "outputs": [],
   "source": [
    "#McNeuron.visualize.plot_3D(McNeuron.Neuron(neurons['swc'][12]))"
   ]
  },
  {
   "cell_type": "code",
   "execution_count": 4,
   "metadata": {
    "collapsed": true
   },
   "outputs": [],
   "source": [
    "help1 = np.where(neurons['Secondary Brain Region']=='CA1')[0]\n",
    "help2 = np.where(neurons['Species Name']=='mouse')[0]\n",
    "index_to_see = np.intersect1d(help1,help2)\n",
    "\n",
    "indG = np.where(neurons.iloc[index_to_see]['Secondary Cell Class']=='GABAergic')[0]\n",
    "indP = np.where(neurons.iloc[index_to_see]['Secondary Cell Class']=='pyramidal')[0]\n",
    "indS = np.where(neurons.iloc[index_to_see]['Secondary Cell Class']=='Somatostatin (SOM)-positive')[0]\n",
    "indB = np.where(neurons.iloc[index_to_see]['Secondary Cell Class']=='basket')[0]\n",
    "indT = np.where(neurons.iloc[index_to_see]['Secondary Cell Class']=='perisomatic targeting')[0]\n",
    "\n",
    "\n",
    "def getSWC(ind) :\n",
    "    length = len(ind)\n",
    "    swc = [0] * length\n",
    "    for i in range(0,length) :\n",
    "        swc[i] = neurons['swc'][index_to_see[ind]][index_to_see[ind][i]]\n",
    "    return swc\n",
    "\n",
    "swcG = getSWC(indG)\n",
    "swcP = getSWC(indP)\n",
    "swcS = getSWC(indS)\n",
    "swcB = getSWC(indB)\n",
    "swcT = getSWC(indT)"
   ]
  },
  {
   "cell_type": "code",
   "execution_count": 5,
   "metadata": {
    "collapsed": true
   },
   "outputs": [],
   "source": [
    "def getVectors(swc, size) :\n",
    "    train = [0] * size\n",
    "    test = [0] * size\n",
    "    rand = np.linspace(0,len(swc)-1,len(swc))\n",
    "    #print(datetime.datetime.fromtimestamp(time.time()).strftime('%H:%M:%S'))\n",
    "    for i in range (0,size) :\n",
    "#         j = time.time()\n",
    "        r = randint(0,len(rand)-1)\n",
    "        neuron = McNeuron.Neuron(swc[int(rand[r])])\n",
    "        rand = np.delete(rand,r)\n",
    "        neuron.l_measure_features()\n",
    "        neuron.motif_features()\n",
    "        neuron.geometrical_features()\n",
    "        train[i] = neuron.getNeuronVector()\n",
    "#         t = int(datetime.datetime.fromtimestamp(time.time()).strftime('%S')) - int(datetime.datetime.fromtimestamp(j).strftime('%S'))\n",
    "#         if t >= 2 or t <= -58 :\n",
    "#             print(t,r)\n",
    "\n",
    "#     print('half')\n",
    "    for i in range (0,size) :\n",
    "#         j = time.time()\n",
    "        r = randint(0,len(rand)-1)\n",
    "        neuron = McNeuron.Neuron(swc[int(rand[r])])\n",
    "        rand = np.delete(rand,r)\n",
    "        neuron.l_measure_features()\n",
    "        neuron.motif_features()\n",
    "        neuron.geometrical_features()\n",
    "        test[i] = neuron.getNeuronVector()\n",
    "#         t = int(datetime.datetime.fromtimestamp(time.time()).strftime('%S')) - int(datetime.datetime.fromtimestamp(j).strftime('%S'))\n",
    "#         if t >= 2 or t <= -58 :\n",
    "#             print(t,r)\n",
    "    \n",
    "#     print('done')\n",
    "    return train,test"
   ]
  },
  {
   "cell_type": "code",
   "execution_count": 24,
   "metadata": {
    "scrolled": true
   },
   "outputs": [
    {
     "name": "stdout",
     "output_type": "stream",
     "text": [
      "done\n",
      "done\n",
      "done\n",
      "done\n",
      "done\n"
     ]
    }
   ],
   "source": [
    "size = 10\n",
    "\n",
    "trainG,testG = getVectors(swcG, size)\n",
    "print('done')\n",
    "trainP,testP = getVectors(swcP, size)\n",
    "print('done')\n",
    "trainS,testS = getVectors(swcS, size)\n",
    "print('done')\n",
    "trainB,testB = getVectors(swcB, size)\n",
    "print('done')\n",
    "trainT,testT = getVectors(swcT, size)\n",
    "print('done')"
   ]
  },
  {
   "cell_type": "code",
   "execution_count": 25,
   "metadata": {
    "collapsed": true
   },
   "outputs": [],
   "source": [
    "from sklearn import svm\n",
    "from sklearn.ensemble import RandomForestClassifier\n",
    "from sklearn.ensemble import ExtraTreesClassifier\n",
    "from sklearn.tree import DecisionTreeClassifier\n",
    "from sklearn.ensemble import GradientBoostingClassifier\n",
    "from sklearn.ensemble import BaggingClassifier\n",
    "from sklearn import neighbors\n",
    "from sklearn.linear_model import SGDClassifier\n",
    "from sklearn.neural_network import MLPClassifier\n",
    "from sklearn.naive_bayes import GaussianNB\n",
    "from sklearn import linear_model"
   ]
  },
  {
   "cell_type": "code",
   "execution_count": 8,
   "metadata": {
    "collapsed": true
   },
   "outputs": [],
   "source": [
    "def subsetData(arr,q):\n",
    "    x = [0] * size\n",
    "    for i in range(0,size) :\n",
    "        x[i] = arr[i][q]\n",
    "    return x"
   ]
  },
  {
   "cell_type": "code",
   "execution_count": 11,
   "metadata": {
    "scrolled": true
   },
   "outputs": [
    {
     "name": "stdout",
     "output_type": "stream",
     "text": [
      "0.42 0\n",
      "0.4 1\n",
      "0.58 2\n",
      "0.6 3\n",
      "0.58 4\n",
      "0.28 5\n",
      "0.3 6\n",
      "0.46 7\n",
      "0.4 8\n",
      "0.44 9\n",
      "0.44 10\n",
      "0.4 11\n",
      "0.68 12\n",
      "0.6 13\n",
      "0.4 14\n",
      "0.36 15\n",
      "0.36 16\n",
      "0.36 17\n",
      "0.58 18\n",
      "0.48 19\n",
      "0.5 20\n",
      "0.42 21\n",
      "0.28 22\n",
      "0.38 23\n",
      "0.52 24\n",
      "0.54 25\n",
      "0.4 26\n",
      "0.3 27\n",
      "0.46 28\n",
      "0.44 29\n",
      "0.54 30\n"
     ]
    }
   ],
   "source": [
    "for q in range(0,31) :\n",
    "    a = subsetData(trainG,q)\n",
    "    b = subsetData(trainP,q)\n",
    "    c = subsetData(trainS,q)\n",
    "    d = subsetData(trainB,q)\n",
    "    e = subsetData(trainT,q)\n",
    "    f = subsetData(testG,q)\n",
    "    g = subsetData(testP,q)\n",
    "    h = subsetData(testS,q)\n",
    "    i = subsetData(testB,q)\n",
    "    j = subsetData(testT,q)\n",
    "    \n",
    "    train = np.expand_dims(np.concatenate((a,b,c,d,e)),axis=1)\n",
    "    test = np.expand_dims(np.concatenate((f,g,h,i,j)),axis=1)\n",
    "    \n",
    "    y = np.concatenate(([0] * size,[1] * size,[2] * size,[3] * size,[4] * size))\n",
    "    clf = ExtraTreesClassifier()\n",
    "    clf.fit(train,y)\n",
    "    z = clf.predict(test)\n",
    "\n",
    "    sum = 0\n",
    "    parts = 5\n",
    "    for i in range (0,parts) :\n",
    "        for j in range (0,size) :\n",
    "            if z[j + size*i] == i :\n",
    "                sum += 1\n",
    "    accuracy = sum / len(z)\n",
    "    print(accuracy , q)"
   ]
  },
  {
   "cell_type": "code",
   "execution_count": 22,
   "metadata": {
    "collapsed": true
   },
   "outputs": [],
   "source": [
    "def getFeatureImportance(length, featureNum) :\n",
    "    \"\"\"\n",
    "    getFeatureImportance uses the subsetData function to generate a matrix with a large number of individual feature accuracies.\n",
    "\n",
    "    Parameters:\n",
    "    -----------\n",
    "    length: int\n",
    "        how many times the function will get new data and test the accuracy of individual features \n",
    "    featureNum: int\n",
    "        the number of features needed to be tested\n",
    "\n",
    "    Return:\n",
    "    -------\n",
    "    getFeatureImportance returns a matrix of shape (featureNum,length) with all values filled with the accuracy of each feature\n",
    "\n",
    "    \"\"\"\n",
    "    \n",
    "    masterFeature = np.zeros([featureNum, length])\n",
    "    for l in range (0,length) :\n",
    "        trainG,testG = getVectors(swcG, size)\n",
    "        trainP,testP = getVectors(swcP, size)\n",
    "        trainS,testS = getVectors(swcS, size)\n",
    "        trainB,testB = getVectors(swcB, size)\n",
    "        trainT,testT = getVectors(swcT, size)\n",
    "        print('done')\n",
    "        \n",
    "        for q in range(0,featureNum) :\n",
    "            a = subsetData(trainG,q)\n",
    "            b = subsetData(trainP,q)\n",
    "            c = subsetData(trainS,q)\n",
    "            d = subsetData(trainB,q)\n",
    "            e = subsetData(trainT,q)\n",
    "            f = subsetData(testG,q)\n",
    "            g = subsetData(testP,q)\n",
    "            h = subsetData(testS,q)\n",
    "            i = subsetData(testB,q)\n",
    "            j = subsetData(testT,q)\n",
    "\n",
    "            train = np.expand_dims(np.concatenate((a,b,c,d,e)),axis=1)\n",
    "            test = np.expand_dims(np.concatenate((f,g,h,i,j)),axis=1)\n",
    "\n",
    "            y = np.concatenate(([0] * size,[1] * size,[2] * size,[3] * size,[4] * size))\n",
    "            clf = ExtraTreesClassifier()\n",
    "            clf.fit(train,y)\n",
    "            z = clf.predict(test)\n",
    "\n",
    "            sum = 0\n",
    "            parts = 5\n",
    "            for i in range (0,parts) :\n",
    "                for j in range (0,size) :\n",
    "                    if z[j + size*i] == i :\n",
    "                        sum += 1\n",
    "            accuracy = sum / len(z)\n",
    "            masterFeature[q, l] = accuracy\n",
    "        print(l)\n",
    "    return masterFeature"
   ]
  },
  {
   "cell_type": "code",
   "execution_count": 23,
   "metadata": {},
   "outputs": [
    {
     "name": "stdout",
     "output_type": "stream",
     "text": [
      "done\n",
      "0\n",
      "done\n",
      "1\n"
     ]
    },
    {
     "ename": "KeyboardInterrupt",
     "evalue": "",
     "output_type": "error",
     "traceback": [
      "\u001b[0;31m---------------------------------------------------------------------------\u001b[0m",
      "\u001b[0;31mKeyboardInterrupt\u001b[0m                         Traceback (most recent call last)",
      "\u001b[0;32m<ipython-input-23-3d2c534241fb>\u001b[0m in \u001b[0;36m<module>\u001b[0;34m()\u001b[0m\n\u001b[1;32m      4\u001b[0m \u001b[0mfeatureNum\u001b[0m \u001b[0;34m=\u001b[0m \u001b[0mlen\u001b[0m\u001b[0;34m(\u001b[0m\u001b[0mfeatureNames\u001b[0m\u001b[0;34m)\u001b[0m\u001b[0;34m\u001b[0m\u001b[0m\n\u001b[1;32m      5\u001b[0m \u001b[0;34m\u001b[0m\u001b[0m\n\u001b[0;32m----> 6\u001b[0;31m \u001b[0mmasterFeature\u001b[0m \u001b[0;34m=\u001b[0m \u001b[0mgetFeatureImportance\u001b[0m\u001b[0;34m(\u001b[0m\u001b[0;36m5\u001b[0m\u001b[0;34m,\u001b[0m \u001b[0mfeatureNum\u001b[0m\u001b[0;34m)\u001b[0m\u001b[0;34m\u001b[0m\u001b[0m\n\u001b[0m",
      "\u001b[0;32m<ipython-input-22-07f868686ed8>\u001b[0m in \u001b[0;36mgetFeatureImportance\u001b[0;34m(length, featureNum)\u001b[0m\n\u001b[1;32m     21\u001b[0m         \u001b[0mtrainP\u001b[0m\u001b[0;34m,\u001b[0m\u001b[0mtestP\u001b[0m \u001b[0;34m=\u001b[0m \u001b[0mgetVectors\u001b[0m\u001b[0;34m(\u001b[0m\u001b[0mswcP\u001b[0m\u001b[0;34m,\u001b[0m \u001b[0msize\u001b[0m\u001b[0;34m)\u001b[0m\u001b[0;34m\u001b[0m\u001b[0m\n\u001b[1;32m     22\u001b[0m         \u001b[0mtrainS\u001b[0m\u001b[0;34m,\u001b[0m\u001b[0mtestS\u001b[0m \u001b[0;34m=\u001b[0m \u001b[0mgetVectors\u001b[0m\u001b[0;34m(\u001b[0m\u001b[0mswcS\u001b[0m\u001b[0;34m,\u001b[0m \u001b[0msize\u001b[0m\u001b[0;34m)\u001b[0m\u001b[0;34m\u001b[0m\u001b[0m\n\u001b[0;32m---> 23\u001b[0;31m         \u001b[0mtrainB\u001b[0m\u001b[0;34m,\u001b[0m\u001b[0mtestB\u001b[0m \u001b[0;34m=\u001b[0m \u001b[0mgetVectors\u001b[0m\u001b[0;34m(\u001b[0m\u001b[0mswcB\u001b[0m\u001b[0;34m,\u001b[0m \u001b[0msize\u001b[0m\u001b[0;34m)\u001b[0m\u001b[0;34m\u001b[0m\u001b[0m\n\u001b[0m\u001b[1;32m     24\u001b[0m         \u001b[0mtrainT\u001b[0m\u001b[0;34m,\u001b[0m\u001b[0mtestT\u001b[0m \u001b[0;34m=\u001b[0m \u001b[0mgetVectors\u001b[0m\u001b[0;34m(\u001b[0m\u001b[0mswcT\u001b[0m\u001b[0;34m,\u001b[0m \u001b[0msize\u001b[0m\u001b[0;34m)\u001b[0m\u001b[0;34m\u001b[0m\u001b[0m\n\u001b[1;32m     25\u001b[0m         \u001b[0mprint\u001b[0m\u001b[0;34m(\u001b[0m\u001b[0;34m'done'\u001b[0m\u001b[0;34m)\u001b[0m\u001b[0;34m\u001b[0m\u001b[0m\n",
      "\u001b[0;32m<ipython-input-5-fb07875f970f>\u001b[0m in \u001b[0;36mgetVectors\u001b[0;34m(swc, size)\u001b[0m\n\u001b[1;32m     11\u001b[0m         \u001b[0mneuron\u001b[0m\u001b[0;34m.\u001b[0m\u001b[0ml_measure_features\u001b[0m\u001b[0;34m(\u001b[0m\u001b[0;34m)\u001b[0m\u001b[0;34m\u001b[0m\u001b[0m\n\u001b[1;32m     12\u001b[0m         \u001b[0mneuron\u001b[0m\u001b[0;34m.\u001b[0m\u001b[0mmotif_features\u001b[0m\u001b[0;34m(\u001b[0m\u001b[0;34m)\u001b[0m\u001b[0;34m\u001b[0m\u001b[0m\n\u001b[0;32m---> 13\u001b[0;31m         \u001b[0mneuron\u001b[0m\u001b[0;34m.\u001b[0m\u001b[0mgeometrical_features\u001b[0m\u001b[0;34m(\u001b[0m\u001b[0;34m)\u001b[0m\u001b[0;34m\u001b[0m\u001b[0m\n\u001b[0m\u001b[1;32m     14\u001b[0m         \u001b[0mtrain\u001b[0m\u001b[0;34m[\u001b[0m\u001b[0mi\u001b[0m\u001b[0;34m]\u001b[0m \u001b[0;34m=\u001b[0m \u001b[0mneuron\u001b[0m\u001b[0;34m.\u001b[0m\u001b[0mgetNeuronVector\u001b[0m\u001b[0;34m(\u001b[0m\u001b[0;34m)\u001b[0m\u001b[0;34m\u001b[0m\u001b[0m\n\u001b[1;32m     15\u001b[0m \u001b[0;31m#         t = int(datetime.datetime.fromtimestamp(time.time()).strftime('%S')) - int(datetime.datetime.fromtimestamp(j).strftime('%S'))\u001b[0m\u001b[0;34m\u001b[0m\u001b[0;34m\u001b[0m\u001b[0m\n",
      "\u001b[0;32m~/Documents/UPenn/McNeuron/McNeuron/Neuron.py\u001b[0m in \u001b[0;36mgeometrical_features\u001b[0;34m(self)\u001b[0m\n\u001b[1;32m   1297\u001b[0m         \u001b[0mmean_distance_from_parent\u001b[0m \u001b[0;34m=\u001b[0m \u001b[0mdistance_from_parent\u001b[0m\u001b[0;34m.\u001b[0m\u001b[0mmean\u001b[0m\u001b[0;34m(\u001b[0m\u001b[0;34m)\u001b[0m\u001b[0;34m\u001b[0m\u001b[0m\n\u001b[1;32m   1298\u001b[0m         \u001b[0mdistance_from_root\u001b[0m \u001b[0;34m=\u001b[0m \u001b[0mself\u001b[0m\u001b[0;34m.\u001b[0m\u001b[0mdistance_from_root\u001b[0m\u001b[0;34m(\u001b[0m\u001b[0;34m)\u001b[0m\u001b[0;34m\u001b[0m\u001b[0m\n\u001b[0;32m-> 1299\u001b[0;31m         \u001b[0mpath_length\u001b[0m \u001b[0;34m=\u001b[0m \u001b[0mself\u001b[0m\u001b[0;34m.\u001b[0m\u001b[0mneural_distance_from_root\u001b[0m\u001b[0;34m(\u001b[0m\u001b[0mdistance_from_parent\u001b[0m\u001b[0;34m)\u001b[0m\u001b[0;34m\u001b[0m\u001b[0m\n\u001b[0m\u001b[1;32m   1300\u001b[0m         \u001b[0mlocal_angle\u001b[0m \u001b[0;34m=\u001b[0m \u001b[0mself\u001b[0m\u001b[0;34m.\u001b[0m\u001b[0mlocal_angle\u001b[0m\u001b[0;34m(\u001b[0m\u001b[0mbranch_order\u001b[0m\u001b[0;34m)\u001b[0m\u001b[0;34m\u001b[0m\u001b[0m\n\u001b[1;32m   1301\u001b[0m         \u001b[0mglobal_angle\u001b[0m \u001b[0;34m=\u001b[0m \u001b[0mself\u001b[0m\u001b[0;34m.\u001b[0m\u001b[0mglobal_angle\u001b[0m\u001b[0;34m(\u001b[0m\u001b[0;34m)\u001b[0m\u001b[0;34m\u001b[0m\u001b[0m\n",
      "\u001b[0;32m~/Documents/UPenn/McNeuron/McNeuron/Neuron.py\u001b[0m in \u001b[0;36mneural_distance_from_root\u001b[0;34m(self, distance_from_parent)\u001b[0m\n\u001b[1;32m   1338\u001b[0m         \u001b[0ma\u001b[0m \u001b[0;34m=\u001b[0m \u001b[0mnp\u001b[0m\u001b[0;34m.\u001b[0m\u001b[0marange\u001b[0m\u001b[0;34m(\u001b[0m\u001b[0mself\u001b[0m\u001b[0;34m.\u001b[0m\u001b[0mn_node\u001b[0m\u001b[0;34m)\u001b[0m\u001b[0;34m\u001b[0m\u001b[0m\n\u001b[1;32m   1339\u001b[0m         \u001b[0mdis\u001b[0m \u001b[0;34m=\u001b[0m \u001b[0mnp\u001b[0m\u001b[0;34m.\u001b[0m\u001b[0mzeros\u001b[0m\u001b[0;34m(\u001b[0m\u001b[0mself\u001b[0m\u001b[0;34m.\u001b[0m\u001b[0mn_node\u001b[0m\u001b[0;34m)\u001b[0m\u001b[0;34m\u001b[0m\u001b[0m\n\u001b[0;32m-> 1340\u001b[0;31m         \u001b[0;32mwhile\u001b[0m\u001b[0;34m(\u001b[0m\u001b[0msum\u001b[0m\u001b[0;34m(\u001b[0m\u001b[0ma\u001b[0m\u001b[0;34m)\u001b[0m \u001b[0;34m!=\u001b[0m \u001b[0;36m0\u001b[0m\u001b[0;34m)\u001b[0m\u001b[0;34m:\u001b[0m\u001b[0;34m\u001b[0m\u001b[0m\n\u001b[0m\u001b[1;32m   1341\u001b[0m             \u001b[0mdis\u001b[0m \u001b[0;34m+=\u001b[0m \u001b[0mdistance_from_parent\u001b[0m\u001b[0;34m[\u001b[0m\u001b[0ma\u001b[0m\u001b[0;34m]\u001b[0m\u001b[0;34m\u001b[0m\u001b[0m\n\u001b[1;32m   1342\u001b[0m             \u001b[0ma\u001b[0m \u001b[0;34m=\u001b[0m \u001b[0mself\u001b[0m\u001b[0;34m.\u001b[0m\u001b[0mparent_index\u001b[0m\u001b[0;34m[\u001b[0m\u001b[0ma\u001b[0m\u001b[0;34m]\u001b[0m\u001b[0;34m\u001b[0m\u001b[0m\n",
      "\u001b[0;31mKeyboardInterrupt\u001b[0m: "
     ]
    }
   ],
   "source": [
    "size = 10\n",
    "\n",
    "featureNames = ['Width X', 'Height Y', 'Soma Radii', 'Soma Surface Area', \\\n",
    "                'Soma Volume', 'Skewness X', 'Skewness Y', 'Skewness Z', \\\n",
    "                'Euclidian Skewness', 'Length', 'Surface Area', \\\n",
    "                'Section Area', 'Volume', 'Average Radius', 'Tips', \\\n",
    "                'Stems', 'Branch Pt', 'Segments', 'branch branch', \\\n",
    "                'branch die', 'die die', 'global angle', 'local angle', \\\n",
    "                'distance from root', 'path_length/euclidean', \\\n",
    "                'mean Contraction', 'branch angle', 'side branch angle', \\\n",
    "                'mean segmental neural length', 'mean segmental euclidean length', \\\n",
    "                'segmental branch angle']\n",
    "featureNum = len(featureNames)\n",
    "\n",
    "masterFeature = getFeatureImportance(5, featureNum)"
   ]
  },
  {
   "cell_type": "code",
   "execution_count": null,
   "metadata": {},
   "outputs": [],
   "source": [
    "\"\"\"\n",
    "This cell uses the getFeatureImportance funtion to get a large amount of data and graph the\n",
    "results on a bar graph\n",
    "\"\"\"\n",
    "values = np.zeros([3,featureNum])\n",
    "for i in range(0,featureNum) :\n",
    "    values[0,i] = masterFeature[i,:].mean()\n",
    "    values[1,i] = masterFeature[i,:].std()\n",
    "featureNames = np.vstack(featureNames)\n",
    "index = np.argsort(values[0,:])\n",
    "values[2] = index\n",
    "featureRange = np.linspace(0,featureNum-1,featureNum)\n",
    "plt.bar(featureRange,values[0,index], yerr = values[1,index])\n",
    "plt.xticks(featureRange,featureNames[index,0], rotation='vertical')\n",
    "plt.subplots_adjust(bottom=0.15)\n",
    "\n",
    "plt.savefig('/Users/anirudhnatarajan/Documents/UPenn/Images/featureImportanceNeuron.eps', dpi=300, bbox_inches = 'tight')\n",
    "plt.savefig('/Users/anirudhnatarajan/Documents/UPenn/Images/featureImportanceNeuron.png', dpi=300, bbox_inches = 'tight')"
   ]
  },
  {
   "cell_type": "code",
   "execution_count": 15,
   "metadata": {
    "collapsed": true
   },
   "outputs": [],
   "source": [
    "#clf = svm.SVC()\n",
    "#clf = RandomForestClassifier()\n",
    "clf = ExtraTreesClassifier()\n",
    "#clf = DecisionTreeClassifier()\n",
    "#clf = GradientBoostingClassifier()\n",
    "#clf = BaggingClassifier()\n",
    "#clf = BaggingClassifier(DecisionTreeClassifier())\n",
    "#clf = neighbors.KNeighborsClassifier()\n",
    "#clf = SGDClassifier()\n",
    "#clf = MLPClassifier()\n",
    "#clf = GaussianNB()\n",
    "#clf = linear_model.LinearRegression()"
   ]
  },
  {
   "cell_type": "code",
   "execution_count": 26,
   "metadata": {
    "collapsed": true
   },
   "outputs": [],
   "source": [
    "size = 10\n",
    "train = np.concatenate((trainG,trainP,trainS,trainB,trainT))\n",
    "test = np.concatenate((testG,testP,testS,testB,testT))\n",
    "y = np.concatenate(([0] * size,[1] * size,[2] * size,[3] * size,[4] * size))"
   ]
  },
  {
   "cell_type": "code",
   "execution_count": 27,
   "metadata": {
    "scrolled": true
   },
   "outputs": [
    {
     "name": "stdout",
     "output_type": "stream",
     "text": [
      "41 0.82\n",
      "38 0.76\n",
      "41 0.82\n",
      "42 0.84\n",
      "43 0.86\n",
      "42 0.84\n",
      "40 0.8\n",
      "40 0.8\n",
      "41 0.82\n",
      "40 0.8\n",
      "39 0.78\n",
      "41 0.82\n",
      "42 0.84\n",
      "39 0.78\n",
      "41 0.82\n",
      "39 0.78\n",
      "41 0.82\n",
      "38 0.76\n",
      "41 0.82\n",
      "39 0.78\n",
      "38 0.76\n",
      "39 0.78\n",
      "40 0.8\n",
      "40 0.8\n",
      "41 0.82\n",
      "40 0.8\n",
      "37 0.74\n",
      "40 0.8\n",
      "39 0.78\n",
      "41 0.82\n",
      "38 0.76\n",
      "40 0.8\n",
      "40 0.8\n",
      "40 0.8\n",
      "41 0.82\n",
      "40 0.8\n",
      "38 0.76\n",
      "39 0.78\n",
      "40 0.8\n",
      "44 0.88\n"
     ]
    }
   ],
   "source": [
    "mas = []\n",
    "accuracy=0\n",
    "while accuracy<0.88:\n",
    "    clf.fit(train,y)\n",
    "    z = clf.predict(test)\n",
    "    sum = 0\n",
    "    parts = 5\n",
    "    for i in range (0,parts) :\n",
    "        for j in range (0,size) :\n",
    "            if z[j + size*i] == i :\n",
    "                sum += 1\n",
    "    accuracy = sum / len(z)\n",
    "    mas.append(accuracy)\n",
    "    print(sum,accuracy)"
   ]
  },
  {
   "cell_type": "code",
   "execution_count": 28,
   "metadata": {},
   "outputs": [
    {
     "name": "stdout",
     "output_type": "stream",
     "text": [
      "0.8015000000000001\n"
     ]
    }
   ],
   "source": [
    "print(np.sum(mas)/len(mas))"
   ]
  },
  {
   "cell_type": "code",
   "execution_count": 35,
   "metadata": {},
   "outputs": [
    {
     "name": "stdout",
     "output_type": "stream",
     "text": [
      "Feature ranking:\n",
      "1. feature 30 (0.135601)\n",
      "2. feature 29 (0.109862)\n",
      "3. feature 2 (0.070896)\n",
      "4. feature 21 (0.060807)\n",
      "5. feature 10 (0.039984)\n",
      "6. feature 16 (0.039827)\n",
      "7. feature 4 (0.039704)\n",
      "8. feature 27 (0.038476)\n",
      "9. feature 3 (0.037044)\n",
      "10. feature 24 (0.032671)\n",
      "11. feature 25 (0.032035)\n",
      "12. feature 18 (0.031677)\n",
      "13. feature 7 (0.031558)\n",
      "14. feature 13 (0.030612)\n",
      "15. feature 26 (0.027556)\n",
      "16. feature 0 (0.026988)\n",
      "17. feature 28 (0.024388)\n",
      "18. feature 15 (0.022378)\n",
      "19. feature 8 (0.022303)\n",
      "20. feature 17 (0.019554)\n",
      "21. feature 6 (0.019013)\n",
      "22. feature 23 (0.016167)\n",
      "23. feature 12 (0.015947)\n",
      "24. feature 9 (0.013068)\n",
      "25. feature 1 (0.012516)\n",
      "26. feature 19 (0.011028)\n",
      "27. feature 20 (0.009882)\n",
      "28. feature 11 (0.009097)\n",
      "29. feature 14 (0.008667)\n",
      "30. feature 22 (0.006944)\n",
      "31. feature 5 (0.003750)\n"
     ]
    },
    {
     "data": {
      "image/png": "[encoded data removed]",
      "text/plain": [
       "<matplotlib.figure.Figure at 0x196afe470>"
      ]
     },
     "metadata": {},
     "output_type": "display_data"
    }
   ],
   "source": [
    "featureNames = ['Width X', 'Height Y', 'Soma Radii', 'Soma Surface Area', \\\n",
    "                'Soma Volume', 'Skewness X', 'Skewness Y', 'Skewness Z', \\\n",
    "                'Euclidian Skewness', 'Length', 'Surface Area', \\\n",
    "                'Section Area', 'Volume', 'Average Radius', 'Tips', \\\n",
    "                'Stems', 'Branch Pt', 'Segments', 'branch branch', \\\n",
    "                'branch die', 'die die', 'global angle', 'local angle', \\\n",
    "                'distance from root', 'path_length/euclidean', \\\n",
    "                'mean Contraction', 'branch angle', 'side branch angle', \\\n",
    "                'mean segmental neural length', 'mean segmental euclidean length', \\\n",
    "                'segmental branch angle']\n",
    "featureNames = np.array(featureNames)\n",
    "\n",
    "importances = clf.feature_importances_\n",
    "std = np.std([tree.feature_importances_ for tree in clf.estimators_],\n",
    "             axis=0)\n",
    "indices = np.argsort(importances)[::-1]\n",
    "\n",
    "# Print the feature ranking\n",
    "print(\"Feature ranking:\")\n",
    "\n",
    "for f in range(train.shape[1]):\n",
    "    print(\"%d. feature %d (%f)\" % (f + 1, indices[f], importances[indices[f]]))\n",
    "\n",
    "# Plot the feature importances of the forest\n",
    "plt.figure()\n",
    "plt.title(\"Feature importances\")\n",
    "plt.bar(range(train.shape[1]), importances[indices],\n",
    "       color=\"r\", yerr=std[indices], align=\"center\")\n",
    "plt.xticks(range(train.shape[1]), featureNames[indices], rotation='vertical')\n",
    "\n",
    "plt.xlim([-1, train.shape[1]])\n",
    "plt.axis([-1,32,0,1])\n",
    "# plt.savefig('/Users/anirudhnatarajan/Documents/UPenn/Images/featureImportanceNeuronNew.eps', dpi=300, bbox_inches = 'tight')\n",
    "# plt.savefig('/Users/anirudhnatarajan/Documents/UPenn/Images/featureImportanceNeuronNew.png', dpi=300, bbox_inches = 'tight')"
   ]
  },
  {
   "cell_type": "code",
   "execution_count": 30,
   "metadata": {},
   "outputs": [
    {
     "data": {
      "image/png": "[encoded data removed]",
      "text/plain": [
       "<matplotlib.figure.Figure at 0x1814c6ef0>"
      ]
     },
     "metadata": {},
     "output_type": "display_data"
    },
    {
     "name": "stdout",
     "output_type": "stream",
     "text": [
      "13\n",
      "11\n",
      "11\n",
      "8\n",
      "7\n"
     ]
    }
   ],
   "source": [
    "plt.hist(z)\n",
    "plt.show()\n",
    "print(len(np.where(z == 0)[0]))\n",
    "print(len(np.where(z == 1)[0]))\n",
    "print(len(np.where(z == 2)[0]))\n",
    "print(len(np.where(z == 3)[0]))\n",
    "print(len(np.where(z == 4)[0]))"
   ]
  },
  {
   "cell_type": "code",
   "execution_count": null,
   "metadata": {
    "scrolled": true
   },
   "outputs": [],
   "source": [
    "from sklearn.manifold import TSNE\n",
    "X_embedded = TSNE(n_components=2, verbose=2).fit_transform(train)"
   ]
  },
  {
   "cell_type": "code",
   "execution_count": null,
   "metadata": {
    "scrolled": false
   },
   "outputs": [],
   "source": [
    "fig,ax = plt.subplots(1)\n",
    "ax.scatter(X_embedded[:,0],X_embedded[:,1], c = y, s=50)\n",
    "ax.set_yticks([])\n",
    "ax.set_yticklabels([])\n",
    "ax.set_xticks([])\n",
    "ax.set_xticklabels([])\n",
    "fig.dpi=300\n",
    "#fig.savefig('/Users/anirudhnatarajan/Documents/UPenn/Images/neuronClassificationTSNE.eps')"
   ]
  },
  {
   "cell_type": "code",
   "execution_count": null,
   "metadata": {},
   "outputs": [],
   "source": [
    "from sklearn.decomposition import PCA\n",
    "pca = PCA(n_components=2)\n",
    "pca.fit(train,y)\n",
    "X_embedded = pca.fit_transform(train,y)\n",
    "\n",
    "fig,ax = plt.subplots(1)\n",
    "ax.scatter(X_embedded[:,0], X_embedded[:,1], c=y, s=10)\n",
    "ax.set_yticks([])\n",
    "ax.set_yticklabels([])\n",
    "ax.set_xticks([])\n",
    "ax.set_xticklabels([])\n",
    "ax.axis([-400000,1050000,-500000,600000])\n",
    "fig.dpi=300\n",
    "# fig.savefig('/Users/anirudhnatarajan/Documents/UPenn/Images/neuronClassificationPCA.eps')\n",
    "# fig.savefig('/Users/anirudhnatarajan/Documents/UPenn/Images/neuronClassificationPCA.png')"
   ]
  },
  {
   "cell_type": "code",
   "execution_count": null,
   "metadata": {
    "collapsed": true
   },
   "outputs": [],
   "source": []
  },
  {
   "cell_type": "code",
   "execution_count": null,
   "metadata": {
    "collapsed": true
   },
   "outputs": [],
   "source": [
    "def splitBranches(tree) :\n",
    "    branches = np.where(tree.features['branch order']>=2)[0]\n",
    "    numOfBranch = len(branches)\n",
    "    subsets = [0] * numOfBranch\n",
    "    for i in range(0,numOfBranch) :\n",
    "        rest_swc = tree.get_rest_of_neuron_after_node(branches[i])\n",
    "        n = McNeuron.Neuron(rest_swc)\n",
    "        n.l_measure_features()\n",
    "        n.motif_features()\n",
    "        n.geometrical_features()\n",
    "        n.l_measure_features()\n",
    "        subsets[i] = n.getNeuronVector()\n",
    "    return subsets"
   ]
  },
  {
   "cell_type": "code",
   "execution_count": null,
   "metadata": {
    "collapsed": true
   },
   "outputs": [],
   "source": [
    "def getNeurons(swc, size) :\n",
    "    rand = np.linspace(0,len(swc)-1,len(swc))\n",
    "    n = [0] * size\n",
    "    for i in range (0,size) :\n",
    "        r = randint(0,len(rand)-1)\n",
    "        n[i] = McNeuron.Neuron(swc[int(rand[r])])\n",
    "        rand = np.delete(rand,r)\n",
    "#         if i%10==0 :\n",
    "#             print(i)\n",
    "#     print('done')\n",
    "    return np.array(n)"
   ]
  },
  {
   "cell_type": "code",
   "execution_count": null,
   "metadata": {},
   "outputs": [],
   "source": [
    "size = 20\n",
    "\n",
    "neuronG = getNeurons(swcG, size)\n",
    "neuronP = getNeurons(swcP, size)\n",
    "neuronS = getNeurons(swcS, size)\n",
    "neuronB = getNeurons(swcB, size)\n",
    "neuronT = getNeurons(swcT, size)"
   ]
  },
  {
   "cell_type": "code",
   "execution_count": null,
   "metadata": {
    "collapsed": true
   },
   "outputs": [],
   "source": [
    "def getNeuronBranchMaster(arr):\n",
    "    neuronBranchMaster = [0] * len(arr)\n",
    "    for i in range (0,len(arr)) :\n",
    "        n = arr[i]\n",
    "        n.basic_features()\n",
    "        neuronBranchMaster[i] = splitBranches(n)\n",
    "#         if i%10==0 :\n",
    "#             print(i)\n",
    "#     print('done')\n",
    "    return neuronBranchMaster"
   ]
  },
  {
   "cell_type": "code",
   "execution_count": null,
   "metadata": {
    "scrolled": false
   },
   "outputs": [],
   "source": [
    "neuronBranchMasterG = getNeuronBranchMaster(neuronG)\n",
    "neuronBranchMasterP = getNeuronBranchMaster(neuronP)\n",
    "neuronBranchMasterS = getNeuronBranchMaster(neuronS)\n",
    "neuronBranchMasterB = getNeuronBranchMaster(neuronB)\n",
    "neuronBranchMasterT = getNeuronBranchMaster(neuronT)"
   ]
  },
  {
   "cell_type": "code",
   "execution_count": null,
   "metadata": {
    "collapsed": true
   },
   "outputs": [],
   "source": [
    "def removeBranchNaN(arr) :\n",
    "    for i in range(0,len(arr)) :\n",
    "        counter = 0\n",
    "        for j in range(0,len(arr[i])) :\n",
    "            if np.isnan(arr[i][j-counter]).any() :\n",
    "                arr[i] = np.delete(arr[i],j-counter, axis=0)\n",
    "                counter += 1\n",
    "#                 print('good')\n",
    "    return arr\n",
    "\n",
    "def removeEmpty(array) :\n",
    "    counter = 0\n",
    "    for i in range(0,len(array)) :\n",
    "        if array[i-counter]==[] :\n",
    "            array = np.delete(array,i-counter)\n",
    "            counter += 1\n",
    "#             print('ha')\n",
    "    return array\n",
    "\n",
    "neuronBranchMasterG = removeBranchNaN(neuronBranchMasterG)\n",
    "neuronBranchMasterG = removeEmpty(neuronBranchMasterG)\n",
    "neuronBranchMasterP = removeBranchNaN(neuronBranchMasterP)\n",
    "neuronBranchMasterP = removeEmpty(neuronBranchMasterP)\n",
    "neuronBranchMasterS = removeBranchNaN(neuronBranchMasterS)\n",
    "neuronBranchMasterS = removeEmpty(neuronBranchMasterS)\n",
    "neuronBranchMasterB = removeBranchNaN(neuronBranchMasterB)\n",
    "neuronBranchMasterB = removeEmpty(neuronBranchMasterB)\n",
    "neuronBranchMasterT = removeBranchNaN(neuronBranchMasterT)\n",
    "neuronBranchMasterT = removeEmpty(neuronBranchMasterT)"
   ]
  },
  {
   "cell_type": "code",
   "execution_count": null,
   "metadata": {
    "collapsed": true
   },
   "outputs": [],
   "source": [
    "#clf = svm.SVC()\n",
    "#clf = RandomForestClassifier()\n",
    "#clf = ExtraTreesClassifier()\n",
    "#clf = DecisionTreeClassifier()\n",
    "#clf = GradientBoostingClassifier()\n",
    "#clf = BaggingClassifier()\n",
    "clf = BaggingClassifier(ExtraTreesClassifier())\n",
    "#clf = neighbors.KNeighborsClassifier()\n",
    "#clf = SGDClassifier()\n",
    "#clf = MLPClassifier()\n",
    "#clf = GaussianNB()\n",
    "#clf = linear_model.LinearRegression()"
   ]
  },
  {
   "cell_type": "code",
   "execution_count": null,
   "metadata": {
    "collapsed": true
   },
   "outputs": [],
   "source": [
    "def appendtrees(arr) :\n",
    "    branchMaster = arr[0]\n",
    "    for i in range(1, len(arr)):\n",
    "        branchMaster = np.append(branchMaster, arr[i],axis=0)\n",
    "    return branchMaster"
   ]
  },
  {
   "cell_type": "code",
   "execution_count": null,
   "metadata": {
    "collapsed": true
   },
   "outputs": [],
   "source": [
    "branchG = appendtrees(neuronBranchMasterG)\n",
    "branchP = appendtrees(neuronBranchMasterP)\n",
    "branchS = appendtrees(neuronBranchMasterS)\n",
    "branchB = appendtrees(neuronBranchMasterB)\n",
    "branchT = appendtrees(neuronBranchMasterT)"
   ]
  },
  {
   "cell_type": "code",
   "execution_count": null,
   "metadata": {
    "collapsed": true
   },
   "outputs": [],
   "source": [
    "X = np.concatenate((branchG, branchP, branchS, branchB, branchT))\n",
    "y = np.concatenate(([0] * len(branchG),[1] * len(branchP),[2] * len(branchS),[3] * len(branchB),[4] * len(branchT)))"
   ]
  },
  {
   "cell_type": "code",
   "execution_count": null,
   "metadata": {
    "collapsed": true
   },
   "outputs": [],
   "source": [
    "from sklearn.model_selection import train_test_split\n",
    "X_train, X_test, y_train, y_test = train_test_split(X, y, test_size=0.5, random_state=42)"
   ]
  },
  {
   "cell_type": "code",
   "execution_count": null,
   "metadata": {},
   "outputs": [],
   "source": [
    "clf.fit(X_train,y_train)\n",
    "z = clf.predict(X_test)\n",
    "from sklearn.metrics import accuracy_score\n",
    "accuracy_score(z, y_test)"
   ]
  },
  {
   "cell_type": "code",
   "execution_count": null,
   "metadata": {},
   "outputs": [],
   "source": [
    "from sklearn.decomposition import PCA\n",
    "pca = PCA(n_components=2)\n",
    "pca.fit(X_train,y_train)\n",
    "PCAArr = pca.fit_transform(X_train,y_train)\n",
    "\n",
    "fig,ax = plt.subplots(1)\n",
    "ax.scatter(PCAArr[:,0], PCAArr[:,1], c=y_train, s=.3, marker='x')\n",
    "ax.set_yticks([])\n",
    "ax.set_yticklabels([])\n",
    "ax.set_xticks([])\n",
    "ax.set_xticklabels([])\n",
    "ax.axis([-10000,100000,-20000,150000])\n",
    "# fig.savefig('/Users/anirudhnatarajan/Documents/UPenn/Images/neuronBranchClassificationPCA.eps', dpi = 300)\n",
    "# fig.savefig('/Users/anirudhnatarajan/Documents/UPenn/Images/neuronBranchClassificationPCA.png', dpi = 300)"
   ]
  },
  {
   "cell_type": "code",
   "execution_count": null,
   "metadata": {
    "scrolled": true
   },
   "outputs": [],
   "source": [
    "from sklearn.manifold import TSNE\n",
    "X_embedded = TSNE(n_components=2, verbose=2).fit_transform(X_train)"
   ]
  },
  {
   "cell_type": "code",
   "execution_count": null,
   "metadata": {},
   "outputs": [],
   "source": [
    "plt.scatter(X_embedded[:,0],X_embedded[:,1], c = y_train, s=0.1)\n",
    "# plt.savefig('/Users/anirudhnatarajan/Documents/UPenn/Images/neuronBranchClassificationTSNE.eps', dpi = 300)\n",
    "# plt.savefig('/Users/anirudhnatarajan/Documents/UPenn/Images/neuronBranchClassificationTSNE.png', dpi = 300)"
   ]
  },
  {
   "cell_type": "code",
   "execution_count": null,
   "metadata": {
    "collapsed": true
   },
   "outputs": [],
   "source": [
    "def getBranchFeatureImportance(length, featureNum) :\n",
    "    \"\"\"\n",
    "    getFeatureImportance uses the subsetData function to generate a matrix with a large number of individual feature accuracies.\n",
    "\n",
    "    Parameters:\n",
    "    -----------\n",
    "    length: int\n",
    "        how many times the function will get new data and test the accuracy of individual features \n",
    "    featureNum: int\n",
    "        the number of features needed to be tested\n",
    "\n",
    "    Return:\n",
    "    -------\n",
    "    getFeatureImportance returns a matrix of shape (featureNum,length) with all values filled with the accuracy of each feature\n",
    "\n",
    "    \"\"\"\n",
    "    \n",
    "    masterFeature = np.zeros([featureNum, length])\n",
    "    for l in range (0,length) :\n",
    "        neuronG = getNeurons(swcG, size)\n",
    "        neuronP = getNeurons(swcP, size)\n",
    "        neuronS = getNeurons(swcS, size)\n",
    "        neuronB = getNeurons(swcB, size)\n",
    "        neuronT = getNeurons(swcT, size)\n",
    "        \n",
    "        neuronBranchMasterG = getNeuronBranchMaster(neuronG)\n",
    "        neuronBranchMasterP = getNeuronBranchMaster(neuronP)\n",
    "        neuronBranchMasterS = getNeuronBranchMaster(neuronS)\n",
    "        neuronBranchMasterB = getNeuronBranchMaster(neuronB)\n",
    "        neuronBranchMasterT = getNeuronBranchMaster(neuronT)\n",
    "        print('done')\n",
    "        \n",
    "        neuronBranchMasterG = removeBranchNaN(neuronBranchMasterG)\n",
    "        neuronBranchMasterG = removeEmpty(neuronBranchMasterG)\n",
    "        neuronBranchMasterP = removeBranchNaN(neuronBranchMasterP)\n",
    "        neuronBranchMasterP = removeEmpty(neuronBranchMasterP)\n",
    "        neuronBranchMasterS = removeBranchNaN(neuronBranchMasterS)\n",
    "        neuronBranchMasterS = removeEmpty(neuronBranchMasterS)\n",
    "        neuronBranchMasterB = removeBranchNaN(neuronBranchMasterB)\n",
    "        neuronBranchMasterB = removeEmpty(neuronBranchMasterB)\n",
    "        neuronBranchMasterT = removeBranchNaN(neuronBranchMasterT)\n",
    "        neuronBranchMasterT = removeEmpty(neuronBranchMasterT)\n",
    "        print('done')\n",
    "        \n",
    "        branchG = appendtrees(neuronBranchMasterG)\n",
    "        branchP = appendtrees(neuronBranchMasterP)\n",
    "        branchS = appendtrees(neuronBranchMasterS)\n",
    "        branchB = appendtrees(neuronBranchMasterB)\n",
    "        branchT = appendtrees(neuronBranchMasterT)\n",
    "        \n",
    "        X = np.concatenate((branchG, branchP, branchS, branchB, branchT))\n",
    "        y = np.concatenate(([0] * len(branchG),[1] * len(branchP),[2] * len(branchS),[3] * len(branchB),[4] * len(branchT)))\n",
    "        for q in range(0,featureNum) :\n",
    "            \n",
    "            X_train, X_test, y_train, y_test = train_test_split(X[:,q], y, test_size=0.5, random_state=42)\n",
    "            X_train = np.expand_dims(X_train,axis=1)\n",
    "            X_test = np.expand_dims(X_test,axis=1)\n",
    "\n",
    "            clf = ExtraTreesClassifier()\n",
    "            clf.fit(X_train,y_train)\n",
    "            z = clf.predict(X_test)\n",
    "            masterFeature[q, l] = accuracy_score(z, y_test)\n",
    "        print(l)\n",
    "    return masterFeature"
   ]
  },
  {
   "cell_type": "code",
   "execution_count": null,
   "metadata": {},
   "outputs": [],
   "source": [
    "featureNames = ['Width X', 'Height Y', 'Soma Radii', 'Soma Surface Area', \\\n",
    "                'Soma Volume', 'Skewness X', 'Skewness Y', 'Skewness Z', \\\n",
    "                'Euclidian Skewness', 'Length', 'Surface Area', \\\n",
    "                'Section Area', 'Volume', 'Average Radius', 'Tips', \\\n",
    "                'Stems', 'Branch Pt', 'Segments', 'branch branch', \\\n",
    "                'branch die', 'die die', 'global angle', 'local angle', \\\n",
    "                'distance from root', 'path_length/euclidean', \\\n",
    "                'mean Contraction', 'branch angle', 'side branch angle', \\\n",
    "                'mean segmental neural length', 'mean segmental euclidean length', \\\n",
    "                'segmental branch angle']\n",
    "featureNum = len(featureNames)\n",
    "masterFeatureBranch = getBranchFeatureImportance(3, featureNum)"
   ]
  },
  {
   "cell_type": "code",
   "execution_count": null,
   "metadata": {},
   "outputs": [],
   "source": [
    "\"\"\"\n",
    "This cell uses the getFeatureImportance funtion to get a large amount of data and graph the\n",
    "results on a bar graph\n",
    "\"\"\"\n",
    "values = np.zeros([2,featureNum])\n",
    "for i in range(0,featureNum) :\n",
    "    values[0,i] = masterFeatureBranch[i,:].mean()\n",
    "    values[1,i] = masterFeatureBranch[i,:].std()\n",
    "featureNames = np.vstack(featureNames)\n",
    "index = np.argsort(values[0,:])\n",
    "featureRange = np.linspace(0,featureNum-1,featureNum)\n",
    "plt.bar(featureRange,values[0,index], yerr = values[1,index])\n",
    "plt.xticks(featureRange,featureNames[index,0], rotation='vertical')\n",
    "plt.subplots_adjust(bottom=0.15)\n",
    "\n",
    "# plt.savefig('/Users/anirudhnatarajan/Documents/UPenn/Images/featureImportanceNeuronBranch.eps', dpi=300, bbox_inches = 'tight')\n",
    "# plt.savefig('/Users/anirudhnatarajan/Documents/UPenn/Images/featureImportanceNeuronBranch.png', dpi=300, bbox_inches = 'tight')"
   ]
  },
  {
   "cell_type": "code",
   "execution_count": null,
   "metadata": {
    "collapsed": true
   },
   "outputs": [],
   "source": []
  },
  {
   "cell_type": "code",
   "execution_count": null,
   "metadata": {
    "collapsed": true
   },
   "outputs": [],
   "source": []
  }
 ],
 "metadata": {
  "kernelspec": {
   "display_name": "Python 3",
   "language": "python",
   "name": "python3"
  },
  "language_info": {
   "codemirror_mode": {
    "name": "ipython",
    "version": 3
   },
   "file_extension": ".py",
   "mimetype": "text/x-python",
   "name": "python",
   "nbconvert_exporter": "python",
   "pygments_lexer": "ipython3",
   "version": "3.6.2"
  }
 },
 "nbformat": 4,
 "nbformat_minor": 1
}
