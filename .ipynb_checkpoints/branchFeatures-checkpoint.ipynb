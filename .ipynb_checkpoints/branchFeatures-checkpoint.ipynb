{
 "cells": [
  {
   "cell_type": "code",
   "execution_count": 1,
   "metadata": {
    "collapsed": true
   },
   "outputs": [],
   "source": [
    "import sys\n",
    "sys.path.append(\"/Users/anirudhnatarajan/Documents/UPenn/McNeuron\")\n",
    "import McNeuron\n",
    "import pickle\n",
    "from random import randint\n",
    "import numpy as np\n",
    "import matplotlib.pyplot as plt\n",
    "import statistics as s\n",
    "from scipy import stats\n",
    "import plotly\n",
    "plotly.tools.set_credentials_file(username='anirudhn',\n",
    "                                 api_key='uaV7Q410noAGBd4zvNTS')\n",
    "%matplotlib inline  "
   ]
  },
  {
   "cell_type": "code",
   "execution_count": 2,
   "metadata": {
    "collapsed": true
   },
   "outputs": [],
   "source": [
    "tree_data = pickle.load(open('.././trees/tree_data.csv', 'rb'))"
   ]
  },
  {
   "cell_type": "code",
   "execution_count": 3,
   "metadata": {
    "collapsed": true
   },
   "outputs": [],
   "source": [
    "trees = tree_data.sort_values(['location'])\n",
    "trees = trees.reset_index(drop=True)"
   ]
  },
  {
   "cell_type": "code",
   "execution_count": 4,
   "metadata": {
    "collapsed": true
   },
   "outputs": [],
   "source": [
    "index = 6\n",
    "swc = trees['swc'][index]\n",
    "tree = McNeuron.Neuron(swc)\n",
    "tree.basic_features()\n",
    "#McNeuron.visualize.plot_2D(tree, axis=(1,0,0), rotation=30)"
   ]
  },
  {
   "cell_type": "code",
   "execution_count": 5,
   "metadata": {
    "collapsed": true
   },
   "outputs": [],
   "source": [
    "#McNeuron.visualize.plot_3D(tree)"
   ]
  },
  {
   "cell_type": "code",
   "execution_count": 6,
   "metadata": {
    "collapsed": true
   },
   "outputs": [],
   "source": [
    "def splitBranches(tree) :\n",
    "    branches = np.where(tree.features['branch order']>=2)[0]\n",
    "    numOfBranch = len(branches)\n",
    "    subsets = [0] * numOfBranch\n",
    "    for i in range(0,numOfBranch) :\n",
    "        rest_swc = tree.get_rest_of_neuron_after_node(branches[i])\n",
    "        n = McNeuron.Neuron(rest_swc)\n",
    "        n.l_measure_features()\n",
    "        n.motif_features()\n",
    "        n.geometrical_features()\n",
    "        n.l_measure_features()\n",
    "        subsets[i] = n.getNeuronVector()\n",
    "    return subsets"
   ]
  },
  {
   "cell_type": "code",
   "execution_count": 7,
   "metadata": {
    "collapsed": true,
    "scrolled": true
   },
   "outputs": [],
   "source": [
    "def getTreeBranchMaster(location):\n",
    "    ind = np.where(trees['location']==location)[0]\n",
    "    treeBranchMaster = [0] * len(ind)\n",
    "    for i in range (0,len(ind)) :\n",
    "        tree = McNeuron.Neuron(trees['swc'][ind[i]])\n",
    "        tree.basic_features()\n",
    "        treeBranchMaster[i] = splitBranches(tree)\n",
    "        print(ind[i])\n",
    "    return treeBranchMaster"
   ]
  },
  {
   "cell_type": "code",
   "execution_count": 8,
   "metadata": {
    "scrolled": true
   },
   "outputs": [
    {
     "name": "stderr",
     "output_type": "stream",
     "text": [
      "/Users/anirudhnatarajan/Documents/UPenn/McNeuron/McNeuron/Neuron.py:998: RuntimeWarning:\n",
      "\n",
      "Mean of empty slice.\n",
      "\n",
      "/Users/anirudhnatarajan/anaconda/lib/python3.6/site-packages/numpy/core/_methods.py:80: RuntimeWarning:\n",
      "\n",
      "invalid value encountered in double_scalars\n",
      "\n",
      "/Users/anirudhnatarajan/Documents/UPenn/McNeuron/McNeuron/Neuron.py:990: RuntimeWarning:\n",
      "\n",
      "Mean of empty slice.\n",
      "\n"
     ]
    },
    {
     "name": "stdout",
     "output_type": "stream",
     "text": [
      "0\n",
      "1\n",
      "2\n",
      "3\n",
      "4\n",
      "5\n",
      "6\n",
      "7\n",
      "8\n",
      "9\n",
      "10\n",
      "11\n",
      "12\n",
      "13\n",
      "14\n",
      "15\n",
      "16\n",
      "17\n",
      "18\n",
      "19\n",
      "done\n",
      "20\n",
      "21\n",
      "22\n",
      "23\n",
      "24\n",
      "25\n",
      "26\n",
      "27\n",
      "28\n",
      "29\n",
      "30\n",
      "31\n",
      "32\n",
      "33\n",
      "34\n",
      "35\n",
      "36\n",
      "37\n",
      "38\n",
      "39\n",
      "done\n",
      "done\n",
      "60\n",
      "61\n",
      "62\n",
      "63\n",
      "64\n",
      "65\n",
      "66\n",
      "67\n",
      "68\n",
      "69\n",
      "70\n",
      "71\n",
      "72\n",
      "73\n",
      "74\n",
      "75\n",
      "76\n",
      "77\n",
      "78\n",
      "79\n",
      "done\n"
     ]
    }
   ],
   "source": [
    "treeBranchMasterG = getTreeBranchMaster('Gabon')\n",
    "print('done')\n",
    "treeBranchMasterH = getTreeBranchMaster('Ghana')\n",
    "print('done')\n",
    "# treeBranchMasterU = getTreeBranchMaster('UK')\n",
    "print('done')\n",
    "treeBranchMasterW = getTreeBranchMaster('Wytham Meteoc (UK)')\n",
    "print('done')"
   ]
  },
  {
   "cell_type": "code",
   "execution_count": 9,
   "metadata": {
    "collapsed": true
   },
   "outputs": [],
   "source": [
    "def getFeature(feature, arr) :\n",
    "    featureArray = [0] * len(arr)\n",
    "    counter = 0\n",
    "    for i in range(0, len(arr)) :\n",
    "        x = [0] * len(arr[i])\n",
    "        for j in range(0,len(arr[i])) :\n",
    "            x[j] = arr[i][j][feature]\n",
    "        featureArray[i-counter] = x\n",
    "        if(len(x)==0) :\n",
    "            featureArray = np.delete(featureArray,i)\n",
    "            counter += 1\n",
    "    return featureArray"
   ]
  },
  {
   "cell_type": "code",
   "execution_count": 85,
   "metadata": {
    "collapsed": true,
    "scrolled": true
   },
   "outputs": [],
   "source": [
    "def getFeatureAnalysisMatrixTree(feature, ran) :\n",
    "    featureG = getFeature(feature,treeBranchMasterG)\n",
    "    featureH = getFeature(feature,treeBranchMasterH)\n",
    "    featureW = getFeature(feature,treeBranchMasterW)\n",
    "    matrix = np.zeros((3,3))\n",
    "    ref = [featureG,featureH,featureW]\n",
    "    ind = [[0,0],[0,1],[0,2],[1,1],[1,0],[1,2],[2,2],[2,1],[2,0]]\n",
    "    for v in range(0,9) :\n",
    "        total = 0\n",
    "        a = ref[ind[v][0]]\n",
    "        b = ref[ind[v][1]]\n",
    "        for i in range(0,20) :\n",
    "            start = 0\n",
    "            if v%3==0 :\n",
    "                start = i\n",
    "            for j in range(start,20) :\n",
    "                pdf0 = np.histogram(a[i],normed=True, bins=20, range=ran)[0]\n",
    "                pdf1 = np.histogram(b[j],normed=True, bins=20, range=ran)[0]\n",
    "                pdf0 = pdf0/sum(pdf0)\n",
    "                pdf1 = pdf1/sum(pdf1)\n",
    "                if (stats.ks_2samp(pdf0,pdf1)[1] < 0.05) :\n",
    "                    total += 1\n",
    "        matrix[ind[v][0]][ind[v][1]] = total\n",
    "        print(v)\n",
    "    return matrix"
   ]
  },
  {
   "cell_type": "code",
   "execution_count": 84,
   "metadata": {},
   "outputs": [
    {
     "name": "stdout",
     "output_type": "stream",
     "text": [
      "0\n",
      "1\n",
      "2\n",
      "3\n",
      "4\n",
      "5\n",
      "6\n",
      "7\n",
      "8\n"
     ]
    },
    {
     "data": {
      "text/plain": [
       "array([[  0.,   0., 170.],\n",
       "       [  0.,   0., 201.],\n",
       "       [170., 201.,  19.]])"
      ]
     },
     "execution_count": 84,
     "metadata": {},
     "output_type": "execute_result"
    }
   ],
   "source": [
    "getFeatureAnalysisMatrixTree(27, (1.1,1.5))"
   ]
  },
  {
   "cell_type": "code",
   "execution_count": 88,
   "metadata": {},
   "outputs": [
    {
     "data": {
      "text/plain": [
       "(array([ 0.        ,  2.77777778,  0.        ,  0.        ,  0.        ,\n",
       "         0.        ,  0.        ,  0.        ,  2.77777778,  0.        ,\n",
       "         0.        ,  0.        ,  2.77777778,  2.77777778,  5.55555556,\n",
       "         5.55555556,  5.55555556, 11.11111111,  5.55555556,  5.55555556]),\n",
       " array([1.1 , 1.12, 1.14, 1.16, 1.18, 1.2 , 1.22, 1.24, 1.26, 1.28, 1.3 ,\n",
       "        1.32, 1.34, 1.36, 1.38, 1.4 , 1.42, 1.44, 1.46, 1.48, 1.5 ]),\n",
       " <a list of 20 Patch objects>)"
      ]
     },
     "execution_count": 88,
     "metadata": {},
     "output_type": "execute_result"
    },
    {
     "data": {
      "image/png": "[encoded data removed]",
      "text/plain": [
       "<matplotlib.figure.Figure at 0x17a05ca58>"
      ]
     },
     "metadata": {},
     "output_type": "display_data"
    }
   ],
   "source": [
    "feature = 27\n",
    "featureG = getFeature(feature,treeBranchMasterG)\n",
    "featureH = getFeature(feature,treeBranchMasterH)\n",
    "featureW = getFeature(feature,treeBranchMasterW)\n",
    "meanG = [0] * len(featureG)\n",
    "meanH = [0] * len(featureH)\n",
    "meanW = [0] * len(featureW)\n",
    "for i in range(0,20):\n",
    "    meanG[i] = s.mean(featureG[i])\n",
    "    meanH[i] = s.mean(featureH[i])\n",
    "    meanW[i] = s.mean(featureW[i])\n",
    "plt.hist(meanG,normed=True,bins=20,alpha=0.25,range=(1.1,1.5), color='r')\n",
    "# plt.show()\n",
    "plt.hist(meanH,normed=True,bins=20,alpha=0.25,range=(1.1,1.5), color='b')\n",
    "# plt.show()\n",
    "plt.hist(meanW,normed=True,bins=20,alpha=0.25,range=(1.1,1.5), color='g')\n"
   ]
  },
  {
   "cell_type": "code",
   "execution_count": 15,
   "metadata": {
    "collapsed": true
   },
   "outputs": [],
   "source": [
    "import pandas as pd\n",
    "neurons = pd.read_pickle(\"/Users/anirudhnatarajan/Documents/UPenn/neuronData/neurons.csv\")"
   ]
  },
  {
   "cell_type": "code",
   "execution_count": 16,
   "metadata": {
    "collapsed": true
   },
   "outputs": [],
   "source": [
    "indC = np.where(neurons['Experimental Condition']=='Control')[0]\n",
    "indD = np.where(neurons['Species Name']=='drosophila melanogaster')[0]\n",
    "indO = np.where(neurons['Primary Brain Region']=='optic Lobe')[0]\n",
    "indP = np.where(neurons['Primary Brain Region']=='protocerebrum')[0]\n",
    "swcO = [0] * 7099\n",
    "swcP = [0] * 8890\n",
    "\n",
    "counter = 0\n",
    "for i in range(0,len(indD)) :\n",
    "    if np.any(indC[:] == indD[i]) & np.any(indO[:] == indD[i]) :\n",
    "        swcO[counter] = neurons['swc'][indD[i]]\n",
    "        counter += 1\n",
    "\n",
    "counter = 0\n",
    "for i in range(0,len(indD)) :\n",
    "    if np.any(indC[:] == indD[i]) & np.any(indP[:] == indD[i]) :\n",
    "        swcP[counter] = neurons['swc'][indD[i]]\n",
    "        counter += 1"
   ]
  },
  {
   "cell_type": "code",
   "execution_count": 198,
   "metadata": {},
   "outputs": [],
   "source": [
    "#McNeuron.visualize.plot_2D(swcO[2346])"
   ]
  },
  {
   "cell_type": "code",
   "execution_count": 17,
   "metadata": {
    "collapsed": true
   },
   "outputs": [],
   "source": [
    "def getNeurons(swc, size, rand) :\n",
    "    n = [0] * size\n",
    "    for i in range (0,size) :\n",
    "        r = randint(0,len(rand)-1)\n",
    "        n[i] = McNeuron.Neuron(swc[int(rand[r])])\n",
    "        rand = np.delete(rand,r)\n",
    "        if i%100==0 :\n",
    "            print(i)\n",
    "    print('done')\n",
    "    return n,rand"
   ]
  },
  {
   "cell_type": "code",
   "execution_count": 18,
   "metadata": {},
   "outputs": [
    {
     "name": "stdout",
     "output_type": "stream",
     "text": [
      "0\n",
      "done\n",
      "0\n",
      "done\n"
     ]
    }
   ],
   "source": [
    "size = 80\n",
    "randO = np.linspace(0,len(swcO)-1,len(swcO))\n",
    "randP = np.linspace(0,len(swcP)-1,len(swcP))\n",
    "neuronO,randO = getNeurons(swcO, size, randO)\n",
    "neuronP,randP = getNeurons(swcP, size, randP)\n",
    "neuronO = np.vstack(neuronO)\n",
    "neuronP = np.vstack(neuronP)"
   ]
  },
  {
   "cell_type": "code",
   "execution_count": 19,
   "metadata": {
    "collapsed": true,
    "scrolled": true
   },
   "outputs": [],
   "source": [
    "def getNeuronBranchMaster(arr):\n",
    "    neuronBranchMaster = [0] * len(arr)\n",
    "    for i in range (0,len(arr)) :\n",
    "        n = arr[i,0]\n",
    "        n.basic_features()\n",
    "        neuronBranchMaster[i] = splitBranches(n)\n",
    "        if i%10==0 :\n",
    "            print(i)\n",
    "    print('done')\n",
    "    return neuronBranchMaster"
   ]
  },
  {
   "cell_type": "code",
   "execution_count": 20,
   "metadata": {
    "scrolled": true
   },
   "outputs": [
    {
     "name": "stdout",
     "output_type": "stream",
     "text": [
      "0\n"
     ]
    },
    {
     "name": "stderr",
     "output_type": "stream",
     "text": [
      "/Users/anirudhnatarajan/Documents/UPenn/McNeuron/McNeuron/Neuron.py:998: RuntimeWarning:\n",
      "\n",
      "Mean of empty slice.\n",
      "\n",
      "/Users/anirudhnatarajan/anaconda/lib/python3.6/site-packages/numpy/core/_methods.py:80: RuntimeWarning:\n",
      "\n",
      "invalid value encountered in double_scalars\n",
      "\n",
      "/Users/anirudhnatarajan/Documents/UPenn/McNeuron/McNeuron/Neuron.py:990: RuntimeWarning:\n",
      "\n",
      "Mean of empty slice.\n",
      "\n"
     ]
    },
    {
     "name": "stdout",
     "output_type": "stream",
     "text": [
      "10\n",
      "20\n",
      "30\n",
      "40\n",
      "50\n",
      "60\n",
      "70\n",
      "done\n",
      "0\n",
      "10\n",
      "20\n",
      "30\n",
      "40\n",
      "50\n",
      "60\n",
      "70\n",
      "done\n"
     ]
    }
   ],
   "source": [
    "neuronBranchMasterO = getNeuronBranchMaster(neuronO)\n",
    "neuronBranchMasterP = getNeuronBranchMaster(neuronP)"
   ]
  },
  {
   "cell_type": "code",
   "execution_count": 67,
   "metadata": {
    "collapsed": true
   },
   "outputs": [],
   "source": [
    "def getFeatureAnalysisMatrixNeuron(feature,ran) :\n",
    "    featureO = getFeature(feature,neuronBranchMasterO)\n",
    "    featureP = getFeature(feature,neuronBranchMasterP)\n",
    "    matrix = np.zeros((2,2))\n",
    "    ref = [featureO,featureP]\n",
    "    ind = [[0,0],[0,1],[1,1],[1,0]]\n",
    "    for v in range(0,4) :\n",
    "        total = 0\n",
    "        a = ref[ind[v][0]]\n",
    "        b = ref[ind[v][1]]\n",
    "        for i in range(0,len(featureO)) :\n",
    "            start = 0\n",
    "            if v%2==0 :\n",
    "                start = i\n",
    "            for j in range(start,len(featureO)) :\n",
    "                pdf0 = np.histogram(a[i],normed=True, bins=20, range=ran)[0]\n",
    "                pdf1 = np.histogram(b[j],normed=True, bins=20, range=ran)[0]\n",
    "                pdf0 = pdf0/sum(pdf0)\n",
    "                pdf1 = pdf1/sum(pdf1)\n",
    "                if (stats.ks_2samp(pdf0,pdf1)[1] < 0.05) :\n",
    "                    total += 1\n",
    "        matrix[ind[v][0]][ind[v][1]] = total\n",
    "        print(v)\n",
    "    return matrix"
   ]
  },
  {
   "cell_type": "code",
   "execution_count": 89,
   "metadata": {},
   "outputs": [
    {
     "name": "stdout",
     "output_type": "stream",
     "text": [
      "0\n",
      "1\n",
      "2\n",
      "3\n"
     ]
    },
    {
     "data": {
      "text/plain": [
       "array([[ 767., 1683.],\n",
       "       [1683.,  781.]])"
      ]
     },
     "execution_count": 89,
     "metadata": {},
     "output_type": "execute_result"
    }
   ],
   "source": [
    "getFeatureAnalysisMatrixNeuron(14, (2,20))"
   ]
  },
  {
   "cell_type": "code",
   "execution_count": 72,
   "metadata": {
    "scrolled": false
   },
   "outputs": [
    {
     "data": {
      "text/plain": [
       "(array([0.00921589, 0.        , 0.00921589, 0.        , 0.10137475,\n",
       "        0.10137475, 0.09215886, 0.07372709, 0.0645112 , 0.07372709,\n",
       "        0.04607943, 0.05529532, 0.07372709, 0.01843177, 0.00921589,\n",
       "        0.        , 0.        , 0.        , 0.        , 0.00921589]),\n",
       " array([ 0.        ,  1.35635359,  2.71270718,  4.06906077,  5.42541436,\n",
       "         6.78176796,  8.13812155,  9.49447514, 10.85082873, 12.20718232,\n",
       "        13.56353591, 14.9198895 , 16.27624309, 17.63259669, 18.98895028,\n",
       "        20.34530387, 21.70165746, 23.05801105, 24.41436464, 25.77071823,\n",
       "        27.12707182]),\n",
       " <a list of 20 Patch objects>)"
      ]
     },
     "execution_count": 72,
     "metadata": {},
     "output_type": "execute_result"
    },
    {
     "data": {
      "image/png": "[encoded data removed]",
      "text/plain": [
       "<matplotlib.figure.Figure at 0x18244ef28>"
      ]
     },
     "metadata": {},
     "output_type": "display_data"
    }
   ],
   "source": [
    "feature = 14\n",
    "featureO = getFeature(feature,neuronBranchMasterO)\n",
    "featureP = getFeature(feature,neuronBranchMasterP)\n",
    "meanO = [0] * len(featureO)\n",
    "meanP = [0] * len(featureP)\n",
    "for i in range(0,len(featureO)):\n",
    "    meanO[i] = s.mean(featureO[i])\n",
    "    meanP[i] = s.mean(featureP[i])\n",
    "plt.hist(meanO,normed=True,bins=20,alpha=0.25, color='r')\n",
    "# plt.show()\n",
    "plt.hist(meanP,normed=True,bins=20,alpha=0.25, color='b')\n",
    "# plt.show()"
   ]
  },
  {
   "cell_type": "code",
   "execution_count": null,
   "metadata": {
    "collapsed": true
   },
   "outputs": [],
   "source": []
  }
 ],
 "metadata": {
  "kernelspec": {
   "display_name": "Python 3",
   "language": "python",
   "name": "python3"
  },
  "language_info": {
   "codemirror_mode": {
    "name": "ipython",
    "version": 3
   },
   "file_extension": ".py",
   "mimetype": "text/x-python",
   "name": "python",
   "nbconvert_exporter": "python",
   "pygments_lexer": "ipython3",
   "version": "3.6.2"
  }
 },
 "nbformat": 4,
 "nbformat_minor": 2
}
