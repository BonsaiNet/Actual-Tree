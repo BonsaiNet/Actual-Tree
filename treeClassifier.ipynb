{
 "cells": [
  {
   "cell_type": "code",
   "execution_count": 2,
   "metadata": {},
   "outputs": [],
   "source": [
    "import sys\n",
    "sys.path.append(\"/Users/anirudhnatarajan/Documents/UPenn/McNeuron\")\n",
    "sys.path.append(\"/Users/anirudhnatarajan/Documents/UPenn/Actual Trees\")\n",
    "import McNeuron\n",
    "import pickle\n",
    "from random import randint\n",
    "import numpy as np\n",
    "import matplotlib.pyplot as plt\n",
    "import Atree\n",
    "%matplotlib inline"
   ]
  },
  {
   "cell_type": "code",
   "execution_count": 3,
   "metadata": {
    "collapsed": true,
    "scrolled": true
   },
   "outputs": [],
   "source": [
    "# tree_data = Atree.data_util.pandas_non_missing()\n",
    "# pickle.dump(tree_data, open('.././trees/tree_data.csv', 'wb'))"
   ]
  },
  {
   "cell_type": "code",
   "execution_count": 5,
   "metadata": {},
   "outputs": [],
   "source": [
    "tree_data = pickle.load(open('.././trees/tree_data.csv', 'rb'))"
   ]
  },
  {
   "cell_type": "code",
   "execution_count": 6,
   "metadata": {
    "collapsed": true
   },
   "outputs": [],
   "source": [
    "trees = tree_data.sort_values(['location'])\n",
    "trees = trees.reset_index(drop=True)"
   ]
  },
  {
   "cell_type": "code",
   "execution_count": 7,
   "metadata": {
    "collapsed": true
   },
   "outputs": [],
   "source": [
    "index = 10\n",
    "tree = McNeuron.Neuron(trees['swc'][index])\n",
    "#McNeuron.visualize.plot_2D(tree)\n",
    "tree.l_measure_features()"
   ]
  },
  {
   "cell_type": "code",
   "execution_count": 8,
   "metadata": {
    "collapsed": true
   },
   "outputs": [],
   "source": [
    "def splitTrees(location) :\n",
    "    ind = np.where(trees['location']==location)[0]\n",
    "    train = [0] * size\n",
    "    test = [0] * size\n",
    "    rand = np.linspace(0,totalTrees-1,totalTrees)\n",
    "    \n",
    "    for i in range (0,size) :\n",
    "        r = randint(0,len(rand)-1)\n",
    "        print(i, ind[int(rand[r])])\n",
    "        neuron = McNeuron.Neuron(trees['swc'][ind[int(rand[r])]])\n",
    "        rand = np.delete(rand,r)\n",
    "        neuron.l_measure_features()\n",
    "        train[i] = neuron.getNeuronVector()\n",
    "    \n",
    "    print('half')\n",
    "    for i in range (0,size) :\n",
    "        r = randint(0,len(rand)-1)\n",
    "        print(i, ind[int(rand[r])])\n",
    "        neuron = McNeuron.Neuron(trees['swc'][ind[int(rand[r])]])\n",
    "        rand = np.delete(rand,r)\n",
    "        neuron.l_measure_features()\n",
    "        test[i] = neuron.getNeuronVector()\n",
    "        \n",
    "    print('done')\n",
    "    return train,test"
   ]
  },
  {
   "cell_type": "code",
   "execution_count": null,
   "metadata": {
    "scrolled": true
   },
   "outputs": [
    {
     "name": "stdout",
     "output_type": "stream",
     "text": [
      "0 3\n",
      "1 2\n",
      "2 5\n",
      "3 0\n",
      "4 10\n",
      "5 4\n",
      "6 15\n",
      "7 6\n",
      "8 11\n",
      "9 12\n",
      "half\n",
      "0 18\n",
      "1 17\n",
      "2 14\n",
      "3 16\n",
      "4 9\n",
      "5 19\n",
      "6 7\n",
      "7 8\n",
      "8 1\n",
      "9 13\n",
      "done\n",
      "0 22\n",
      "1 20\n",
      "2 27\n",
      "3 35\n",
      "4 34\n",
      "5 33\n",
      "6 25\n",
      "7 36\n",
      "8 26\n",
      "9 39\n",
      "half\n",
      "0 23\n",
      "1 21\n",
      "2 30\n",
      "3 38\n",
      "4 28\n",
      "5 32\n",
      "6 37\n",
      "7 29\n",
      "8 31\n",
      "9 24\n",
      "done\n",
      "0 59\n",
      "1 41\n",
      "2 51\n",
      "3 43\n",
      "4 55\n",
      "5 50\n",
      "6 48\n",
      "7 56\n",
      "8 58\n",
      "9 52\n"
     ]
    }
   ],
   "source": [
    "totalTrees = 20\n",
    "size = int(totalTrees/2)\n",
    "\n",
    "trainG, testG = splitTrees('Gabon')\n",
    "trainH, testH = splitTrees('Ghana')\n",
    "trainU, testU = splitTrees('UK')\n",
    "trainW, testW = splitTrees('Wytham Meteoc (UK)')"
   ]
  },
  {
   "cell_type": "code",
   "execution_count": null,
   "metadata": {
    "collapsed": true
   },
   "outputs": [],
   "source": [
    "trainG = np.vstack(trainG)\n",
    "trainH = np.vstack(trainH)\n",
    "trainU = np.vstack(trainU)\n",
    "trainW = np.vstack(trainW)\n",
    "testG = np.vstack(testG)\n",
    "testH = np.vstack(testH)\n",
    "testU = np.vstack(testU)\n",
    "testW = np.vstack(testW)\n",
    "\n",
    "\n",
    "train = np.concatenate((trainG,trainH,trainU,trainW))\n",
    "test = np.concatenate((testG,testH,testU,testW))\n",
    "y = np.concatenate(([0] * size,[1] * size,[2] * size,[3] * size))"
   ]
  },
  {
   "cell_type": "code",
   "execution_count": 19,
   "metadata": {
    "collapsed": true
   },
   "outputs": [],
   "source": [
    "def subsetData(arr):\n",
    "    x = [0] * size\n",
    "    for i in range(0,size) :\n",
    "        x[i] = arr[i][:22]\n",
    "    return x"
   ]
  },
  {
   "cell_type": "code",
   "execution_count": 20,
   "metadata": {
    "collapsed": true
   },
   "outputs": [],
   "source": [
    "a = subsetData(trainG)\n",
    "b = subsetData(trainH)\n",
    "c = subsetData(trainU)\n",
    "d = subsetData(trainW)\n",
    "e = subsetData(testG)\n",
    "f = subsetData(testH)\n",
    "g = subsetData(testU)\n",
    "h = subsetData(testW)\n",
    "\n",
    "\n",
    "a = np.vstack(a)\n",
    "b = np.vstack(b)\n",
    "c = np.vstack(c)\n",
    "d = np.vstack(d)\n",
    "e = np.vstack(e)\n",
    "f = np.vstack(f)\n",
    "g = np.vstack(g)\n",
    "h = np.vstack(h)\n",
    "\n",
    "train = np.concatenate((a,b,c,d))\n",
    "test = np.concatenate((e,f,g,h))\n",
    "y = np.concatenate(([0] * size,[1] * size,[2] * size,[3] * size))"
   ]
  },
  {
   "cell_type": "code",
   "execution_count": 18,
   "metadata": {},
   "outputs": [
    {
     "name": "stdout",
     "output_type": "stream",
     "text": [
      "0.45 0\n",
      "0.55 1\n",
      "0.6 2\n",
      "0.25 3\n",
      "0.25 4\n",
      "0.25 5\n",
      "0.425 6\n",
      "0.25 7\n",
      "0.25 8\n",
      "0.125 9\n",
      "0.25 10\n",
      "0.525 11\n",
      "0.65 12\n",
      "0.55 13\n",
      "0.525 14\n",
      "0.625 15\n",
      "0.675 16\n",
      "0.575 17\n",
      "0.3 18\n",
      "0.6 19\n",
      "0.55 20\n",
      "0.55 21\n"
     ]
    }
   ],
   "source": [
    "for q in range(0,22) :\n",
    "    a = subsetData(trainG,q)\n",
    "    b = subsetData(trainH,q)\n",
    "    c = subsetData(trainU,q)\n",
    "    d = subsetData(trainW,q)\n",
    "    e = subsetData(testG,q)\n",
    "    f = subsetData(testH,q)\n",
    "    g = subsetData(testU,q)\n",
    "    h = subsetData(testW,q)\n",
    "    \n",
    "    train = np.expand_dims(np.concatenate((a,b,c,d)),axis=1)\n",
    "    test = np.expand_dims(np.concatenate((e,f,g,h)),axis=1)\n",
    "    \n",
    "    y = np.concatenate(([0] * size,[1] * size,[2] * size,[3] * size))\n",
    "    clf = BaggingClassifier()\n",
    "    clf.fit(train,y)\n",
    "    z = clf.predict(test)\n",
    "\n",
    "    sum = 0\n",
    "    parts = 4\n",
    "    for i in range (0,parts) :\n",
    "        for j in range (0,size) :\n",
    "            if z[j + size*i] == i :\n",
    "                sum += 1\n",
    "    accuracy = sum / len(z)\n",
    "    print(accuracy , q)"
   ]
  },
  {
   "cell_type": "code",
   "execution_count": null,
   "metadata": {
    "collapsed": true
   },
   "outputs": [],
   "source": [
    "from sklearn import svm\n",
    "from sklearn.ensemble import RandomForestClassifier\n",
    "from sklearn.ensemble import ExtraTreesClassifier\n",
    "from sklearn.tree import DecisionTreeClassifier\n",
    "from sklearn.ensemble import GradientBoostingClassifier\n",
    "from sklearn.ensemble import BaggingClassifier\n",
    "from sklearn import neighbors\n",
    "from sklearn.linear_model import SGDClassifier\n",
    "from sklearn.neural_network import MLPClassifier\n",
    "from sklearn.naive_bayes import GaussianNB\n",
    "from sklearn import linear_model"
   ]
  },
  {
   "cell_type": "code",
   "execution_count": null,
   "metadata": {
    "collapsed": true
   },
   "outputs": [],
   "source": [
    "#clf = svm.SVC()\n",
    "#clf = RandomForestClassifier()\n",
    "#clf = ExtraTreesClassifier()\n",
    "#clf = DecisionTreeClassifier()\n",
    "#clf = GradientBoostingClassifier()\n",
    "clf = BaggingClassifier()\n",
    "#clf = BaggingClassifier(RandomForestClassifier())\n",
    "#clf = neighbors.KNeighborsClassifier()\n",
    "#clf = SGDClassifier()\n",
    "#clf = MLPClassifier()\n",
    "#clf = GaussianNB()\n",
    "#clf = linear_model.LinearRegression()"
   ]
  },
  {
   "cell_type": "code",
   "execution_count": null,
   "metadata": {},
   "outputs": [],
   "source": [
    "clf.fit(train,y)\n",
    "z = clf.predict(test)\n",
    "\n",
    "sum = 0\n",
    "parts = 4\n",
    "for i in range (0,parts) :\n",
    "    for j in range (0,size) :\n",
    "        if z[j + size*i] == i :\n",
    "            sum += 1\n",
    "        #else :\n",
    "            #print(j + size*i)\n",
    "accuracy = sum / len(z)\n",
    "print(sum, accuracy)"
   ]
  },
  {
   "cell_type": "code",
   "execution_count": null,
   "metadata": {},
   "outputs": [],
   "source": [
    "plt.hist(z)\n",
    "print(len(np.where(z == 0)[0]))\n",
    "print(len(np.where(z == 1)[0]))\n",
    "print(len(np.where(z == 2)[0]))\n",
    "print(len(np.where(z == 3)[0]))"
   ]
  },
  {
   "cell_type": "code",
   "execution_count": null,
   "metadata": {
    "scrolled": true
   },
   "outputs": [],
   "source": [
    "from sklearn.manifold import TSNE\n",
    "X_embedded = TSNE(n_components=2, verbose=2).fit_transform(train)"
   ]
  },
  {
   "cell_type": "code",
   "execution_count": null,
   "metadata": {},
   "outputs": [],
   "source": [
    "plt.scatter(X_embedded[:,0], X_embedded[:,1], c=y, marker='x')"
   ]
  },
  {
   "cell_type": "code",
   "execution_count": null,
   "metadata": {},
   "outputs": [],
   "source": [
    "plt.hist(X_embedded[:,0], normed=True, alpha = 0.25)\n",
    "plt.hist(X_embedded[:,1], normed=True, alpha = 0.25)"
   ]
  },
  {
   "cell_type": "code",
   "execution_count": null,
   "metadata": {},
   "outputs": [],
   "source": [
    "from sklearn.decomposition import PCA\n",
    "pca = PCA(n_components=2)\n",
    "pca.fit(train,y)\n",
    "X_embedded = pca.fit_transform(train,y)\n",
    "\n",
    "plt.scatter(X_embedded[:,0], X_embedded[:,1], c=y, marker='x')"
   ]
  },
  {
   "cell_type": "code",
   "execution_count": null,
   "metadata": {
    "collapsed": true
   },
   "outputs": [],
   "source": []
  },
  {
   "cell_type": "code",
   "execution_count": null,
   "metadata": {
    "collapsed": true
   },
   "outputs": [],
   "source": []
  },
  {
   "cell_type": "code",
   "execution_count": null,
   "metadata": {
    "collapsed": true
   },
   "outputs": [],
   "source": []
  }
 ],
 "metadata": {
  "kernelspec": {
   "display_name": "Python 3",
   "language": "python",
   "name": "python3"
  },
  "language_info": {
   "codemirror_mode": {
    "name": "ipython",
    "version": 3
   },
   "file_extension": ".py",
   "mimetype": "text/x-python",
   "name": "python",
   "nbconvert_exporter": "python",
   "pygments_lexer": "ipython3",
   "version": "3.6.2"
  }
 },
 "nbformat": 4,
 "nbformat_minor": 1
}
