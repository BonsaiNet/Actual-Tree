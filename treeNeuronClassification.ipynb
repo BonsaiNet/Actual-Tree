{
 "cells": [
  {
   "cell_type": "code",
   "execution_count": 1,
   "metadata": {
    "collapsed": true
   },
   "outputs": [],
   "source": [
    "import sys\n",
    "#change these paths to where they are located on your computer\n",
    "sys.path.append(\"/Users/anirudhnatarajan/Documents/UPenn/McNeuron\")\n",
    "import McNeuron\n",
    "import pickle\n",
    "from random import randint\n",
    "import numpy as np\n",
    "import matplotlib.pyplot as plt\n",
    "import math\n",
    "%matplotlib inline"
   ]
  },
  {
   "cell_type": "code",
   "execution_count": 2,
   "metadata": {
    "collapsed": true
   },
   "outputs": [],
   "source": [
    "tree_data = pickle.load(open('.././trees/tree_data.csv', 'rb'))"
   ]
  },
  {
   "cell_type": "code",
   "execution_count": 3,
   "metadata": {
    "collapsed": true
   },
   "outputs": [],
   "source": [
    "trees = tree_data.sort_values(['location'])\n",
    "trees = trees.reset_index(drop=True)"
   ]
  },
  {
   "cell_type": "code",
   "execution_count": 4,
   "metadata": {
    "collapsed": true
   },
   "outputs": [],
   "source": [
    "def splitTrees(location) :\n",
    "    \"\"\"\n",
    "    splitTrees is used to quickly and efficiently split the data into usable chunks\n",
    "\n",
    "    Parameters:\n",
    "    -----------\n",
    "    location: string\n",
    "        the name of the location where the tree is from, matches exactly with the trees dataset, and is a string\n",
    "\n",
    "    Return:\n",
    "    -------\n",
    "    splitTrees returns 2 lists of equal size that contain proper training and testing data\n",
    "\n",
    "    \"\"\"\n",
    "    \n",
    "    ind = np.where(trees['location']==location)[0]\n",
    "    \n",
    "    train = [0] * size\n",
    "    test = [0] * size\n",
    "    rand = np.linspace(0,totalTrees-1,totalTrees)\n",
    "    \n",
    "    for i in range (0,size) :\n",
    "        r = randint(0,len(rand)-1)\n",
    "        neuron = McNeuron.Neuron(trees['swc'][ind[int(rand[r])]])\n",
    "        rand = np.delete(rand,r)\n",
    "        neuron.setNormalizedFeatures()\n",
    "        neuron.geometrical_features()\n",
    "        neuron.motif_features()\n",
    "        train[i] = neuron.getNeuronVector()\n",
    "    \n",
    "#     print('half')\n",
    "    for i in range (0,size) :\n",
    "        r = randint(0,len(rand)-1)\n",
    "        neuron = McNeuron.Neuron(trees['swc'][ind[int(rand[r])]])\n",
    "        rand = np.delete(rand,r)\n",
    "        neuron.setNormalizedFeatures()\n",
    "        neuron.geometrical_features()\n",
    "        neuron.motif_features()\n",
    "        test[i] = neuron.getNeuronVector()\n",
    "        \n",
    "    return train,test"
   ]
  },
  {
   "cell_type": "code",
   "execution_count": 5,
   "metadata": {
    "collapsed": true
   },
   "outputs": [],
   "source": [
    "import pandas as pd\n",
    "neurons = pd.read_pickle(\"/Users/anirudhnatarajan/Documents/UPenn/neuronData/neurons.csv\")"
   ]
  },
  {
   "cell_type": "code",
   "execution_count": 6,
   "metadata": {
    "collapsed": true
   },
   "outputs": [],
   "source": [
    "help1 = np.where(neurons['Secondary Brain Region']=='CA1')[0]\n",
    "help2 = np.where(neurons['Species Name']=='mouse')[0]\n",
    "index_to_see = np.intersect1d(help1,help2)\n",
    "\n",
    "indA = np.where(neurons.iloc[index_to_see]['Secondary Cell Class']=='GABAergic')[0]\n",
    "indP = np.where(neurons.iloc[index_to_see]['Secondary Cell Class']=='pyramidal')[0]\n",
    "indS = np.where(neurons.iloc[index_to_see]['Secondary Cell Class']=='Somatostatin (SOM)-positive')[0]\n",
    "indB = np.where(neurons.iloc[index_to_see]['Secondary Cell Class']=='basket')[0]\n",
    "indT = np.where(neurons.iloc[index_to_see]['Secondary Cell Class']=='perisomatic targeting')[0]\n",
    "\n",
    "\n",
    "def getSWC(ind) :\n",
    "    length = len(ind)\n",
    "    swc = [0] * length\n",
    "    for i in range(0,length) :\n",
    "        swc[i] = neurons['swc'][index_to_see[ind]][index_to_see[ind][i]]\n",
    "    return swc\n",
    "\n",
    "swcA = getSWC(indA)\n",
    "swcP = getSWC(indP)\n",
    "swcS = getSWC(indS)\n",
    "swcB = getSWC(indB)\n",
    "swcT = getSWC(indT)"
   ]
  },
  {
   "cell_type": "code",
   "execution_count": 7,
   "metadata": {
    "collapsed": true
   },
   "outputs": [],
   "source": [
    "def getVectors(swc, size) :\n",
    "    train = [0] * size\n",
    "    test = [0] * size\n",
    "    rand = np.linspace(0,len(swc)-1,len(swc))\n",
    "    \n",
    "    for i in range (0,size) :\n",
    "        r = randint(0,len(rand)-1)\n",
    "        neuron = McNeuron.Neuron(swc[int(rand[r])])\n",
    "        rand = np.delete(rand,r)\n",
    "        neuron.l_measure_features()\n",
    "        neuron.motif_features()\n",
    "        neuron.geometrical_features()\n",
    "        train[i] = neuron.getNeuronVector()\n",
    "\n",
    "#     print('half')\n",
    "    for i in range (0,size) :\n",
    "        r = randint(0,len(rand)-1)\n",
    "        neuron = McNeuron.Neuron(swc[int(rand[r])])\n",
    "        rand = np.delete(rand,r)\n",
    "        neuron.l_measure_features()\n",
    "        neuron.motif_features()\n",
    "        neuron.geometrical_features()\n",
    "        test[i] = neuron.getNeuronVector()\n",
    "    \n",
    "#     print('done')\n",
    "    return train,test"
   ]
  },
  {
   "cell_type": "code",
   "execution_count": 8,
   "metadata": {},
   "outputs": [
    {
     "name": "stdout",
     "output_type": "stream",
     "text": [
      "done\n",
      "done\n",
      "done\n",
      "done\n",
      "done\n",
      "done\n",
      "done\n",
      "done\n",
      "done\n"
     ]
    }
   ],
   "source": [
    "totalTrees = 20\n",
    "size = int(totalTrees/2)\n",
    "\n",
    "trainG, testG = splitTrees('Gabon')\n",
    "print('done')\n",
    "trainH, testH = splitTrees('Ghana')\n",
    "print('done')\n",
    "trainU, testU = splitTrees('UK')\n",
    "print('done')\n",
    "trainW, testW = splitTrees('Wytham Meteoc (UK)')\n",
    "print('done')\n",
    "\n",
    "trainA,testA = getVectors(swcA, size)\n",
    "print('done')\n",
    "trainP,testP = getVectors(swcP, size)\n",
    "print('done')\n",
    "trainS,testS = getVectors(swcS, size)\n",
    "print('done')\n",
    "trainB,testB = getVectors(swcB, size)\n",
    "print('done')\n",
    "trainT,testT = getVectors(swcT, size)\n",
    "print('done')"
   ]
  },
  {
   "cell_type": "code",
   "execution_count": 8,
   "metadata": {
    "collapsed": true
   },
   "outputs": [],
   "source": [
    "from sklearn import svm\n",
    "from sklearn.ensemble import RandomForestClassifier\n",
    "from sklearn.ensemble import ExtraTreesClassifier\n",
    "from sklearn.tree import DecisionTreeClassifier\n",
    "from sklearn.ensemble import GradientBoostingClassifier\n",
    "from sklearn.ensemble import BaggingClassifier\n",
    "from sklearn import neighbors\n",
    "from sklearn.linear_model import SGDClassifier\n",
    "from sklearn.neural_network import MLPClassifier\n",
    "from sklearn.naive_bayes import GaussianNB\n",
    "from sklearn import linear_model"
   ]
  },
  {
   "cell_type": "code",
   "execution_count": 9,
   "metadata": {
    "collapsed": true
   },
   "outputs": [],
   "source": [
    "def subsetData(arr,q):\n",
    "    \"\"\"\n",
    "    subsetData is used to split the data into lists with only 1 classifying feature in order to test how important each feature is individually for classification\n",
    "\n",
    "    Parameters:\n",
    "    -----------\n",
    "    arr: array or list\n",
    "        the master array that contains all the features\n",
    "    q: int\n",
    "        the index of the desired feature\n",
    "\n",
    "    Return:\n",
    "    -------\n",
    "    subsetData returns an array with only 1 classifying feature\n",
    "\n",
    "    \"\"\"\n",
    "    \n",
    "    x = [0] * len(arr)\n",
    "    for i in range(0,len(arr)) :\n",
    "        x[i] = arr[i][q]\n",
    "    return x"
   ]
  },
  {
   "cell_type": "code",
   "execution_count": 11,
   "metadata": {
    "scrolled": false
   },
   "outputs": [
    {
     "name": "stdout",
     "output_type": "stream",
     "text": [
      "1.0 0\n",
      "1.0 1\n",
      "1.0 2\n",
      "0.8888888888888888 3\n",
      "0.8888888888888888 4\n",
      "0.9777777777777777 5\n",
      "0.9333333333333333 6\n",
      "0.8333333333333334 7\n",
      "1.0 8\n",
      "0.9555555555555556 9\n",
      "0.9888888888888889 10\n",
      "1.0 11\n",
      "1.0 12\n",
      "1.0 13\n",
      "0.8222222222222222 14\n",
      "0.8444444444444444 15\n",
      "0.7777777777777778 16\n",
      "0.8111111111111111 17\n",
      "0.8111111111111111 18\n",
      "0.8222222222222222 19\n",
      "0.8555555555555555 20\n",
      "0.7888888888888889 21\n",
      "0.8666666666666667 22\n",
      "0.8777777777777778 23\n",
      "0.6 24\n",
      "0.6777777777777778 25\n",
      "0.6888888888888889 26\n",
      "0.7222222222222222 27\n",
      "0.7333333333333333 28\n",
      "0.9333333333333333 29\n",
      "0.9555555555555556 30\n"
     ]
    }
   ],
   "source": [
    "for q in range(0,31) :\n",
    "    a = subsetData(trainA,q)\n",
    "    b = subsetData(trainP,q)\n",
    "    c = subsetData(trainS,q)\n",
    "    d = subsetData(trainB,q)\n",
    "    e = subsetData(trainT,q)\n",
    "    f = subsetData(trainG,q)\n",
    "    g = subsetData(trainH,q)\n",
    "    h = subsetData(trainU,q)\n",
    "    i = subsetData(trainW,q)\n",
    "    j = subsetData(testA,q)\n",
    "    k = subsetData(testP,q)\n",
    "    l = subsetData(testS,q)\n",
    "    m = subsetData(testB,q)\n",
    "    n = subsetData(testT,q)\n",
    "    o = subsetData(testG,q)\n",
    "    p = subsetData(testH,q)\n",
    "    r = subsetData(testU,q)\n",
    "    s = subsetData(testW,q)\n",
    "\n",
    "    train = np.expand_dims(np.concatenate((a,b,c,d,e,f,g,h,i)),axis=1)\n",
    "    test = np.expand_dims(np.concatenate((j,k,l,m,n,o,p,r,s)),axis=1)\n",
    "\n",
    "    y = np.concatenate(([0] * size*5,[1] * size*4))\n",
    "    clf = ExtraTreesClassifier()\n",
    "    clf.fit(train,y)\n",
    "    z = clf.predict(test)\n",
    "\n",
    "    sum = 0\n",
    "    parts = 2\n",
    "    length = 0\n",
    "    for i in range (0,parts) :\n",
    "        for j in range (0,len(np.where(y==i)[0])) :\n",
    "            if z[j + length] == i :\n",
    "                sum += 1\n",
    "        length += len(np.where(y==i)[0])\n",
    "    accuracy = sum / len(z)\n",
    "    print(accuracy, q)"
   ]
  },
  {
   "cell_type": "code",
   "execution_count": 10,
   "metadata": {
    "collapsed": true
   },
   "outputs": [],
   "source": [
    "def getFeatureImportance(length, featureNum) :\n",
    "    \"\"\"\n",
    "    getFeatureImportance uses the subsetData function to generate a matrix with a large number of individual feature accuracies.\n",
    "\n",
    "    Parameters:\n",
    "    -----------\n",
    "    length: int\n",
    "        how many times the function will get new data and test the accuracy of individual features \n",
    "    featureNum: int\n",
    "        the number of features needed to be tested\n",
    "\n",
    "    Return:\n",
    "    -------\n",
    "    getFeatureImportance returns a matrix of shape (featureNum,length) with all values filled with the accuracy of each feature\n",
    "\n",
    "    \"\"\"\n",
    "    \n",
    "    masterFeature = np.zeros([featureNum, length])\n",
    "    for t in range (0,length) :\n",
    "        \n",
    "        trainG, testG = splitTrees('Gabon')\n",
    "        trainH, testH = splitTrees('Ghana')\n",
    "        trainU, testU = splitTrees('UK')\n",
    "        trainW, testW = splitTrees('Wytham Meteoc (UK)')\n",
    "        print('done')\n",
    "\n",
    "        trainA,testA = getVectors(swcA, size)\n",
    "        trainP,testP = getVectors(swcP, size)\n",
    "        trainS,testS = getVectors(swcS, size)\n",
    "        trainB,testB = getVectors(swcB, size)\n",
    "        trainT,testT = getVectors(swcT, size)\n",
    "        print('done')\n",
    "        \n",
    "        for q in range(0,featureNum) :\n",
    "            a = subsetData(trainA,q)\n",
    "            b = subsetData(trainP,q)\n",
    "            c = subsetData(trainS,q)\n",
    "            d = subsetData(trainB,q)\n",
    "            e = subsetData(trainT,q)\n",
    "            f = subsetData(trainG,q)\n",
    "            g = subsetData(trainH,q)\n",
    "            h = subsetData(trainU,q)\n",
    "            i = subsetData(trainW,q)\n",
    "            j = subsetData(testA,q)\n",
    "            k = subsetData(testP,q)\n",
    "            l = subsetData(testS,q)\n",
    "            m = subsetData(testB,q)\n",
    "            n = subsetData(testT,q)\n",
    "            o = subsetData(testG,q)\n",
    "            p = subsetData(testH,q)\n",
    "            r = subsetData(testU,q)\n",
    "            s = subsetData(testW,q)\n",
    "\n",
    "            train = np.expand_dims(np.concatenate((a,b,c,d,e,f,g,h,i)),axis=1)\n",
    "            test = np.expand_dims(np.concatenate((j,k,l,m,n,o,p,r,s)),axis=1)\n",
    "\n",
    "            y = np.concatenate(([0] * size*5,[1] * size*4))\n",
    "            clf = ExtraTreesClassifier()\n",
    "            clf.fit(train,y)\n",
    "            z = clf.predict(test)\n",
    "\n",
    "            sum = 0\n",
    "            parts = 2\n",
    "            length = 0\n",
    "            for i in range (0,parts) :\n",
    "                for j in range (0,len(np.where(y==i)[0])) :\n",
    "                    if z[j + length] == i :\n",
    "                        sum += 1\n",
    "                length += len(np.where(y==i)[0])\n",
    "            accuracy = sum / len(z)\n",
    "            masterFeature[q][t] = accuracy\n",
    "        print(t)\n",
    "    return masterFeature"
   ]
  },
  {
   "cell_type": "code",
   "execution_count": 14,
   "metadata": {},
   "outputs": [
    {
     "name": "stdout",
     "output_type": "stream",
     "text": [
      "done\n",
      "done\n",
      "0\n",
      "done\n",
      "done\n",
      "1\n",
      "done\n",
      "done\n",
      "2\n"
     ]
    }
   ],
   "source": [
    "totalTrees = 20\n",
    "size = int(totalTrees/2)\n",
    "\n",
    "featureNames = ['Width X', 'Height Y', 'Soma Radii', 'Soma Surface Area', \\\n",
    "                'Soma Volume', 'Skewness X', 'Skewness Y', 'Skewness Z', \\\n",
    "                'Euclidian Skewness', 'Length', 'Surface Area', \\\n",
    "                'Section Area', 'Volume', 'Average Radius', 'Tips', \\\n",
    "                'Stems', 'Branch Pt', 'Segments', 'branch branch', \\\n",
    "                'branch die', 'die die', 'global angle', 'local angle', \\\n",
    "                'distance from root', 'path_length/euclidean', \\\n",
    "                'mean Contraction', 'branch angle', 'side branch angle', \\\n",
    "                'mean segmental neural length', 'mean segmental euclidean length', \\\n",
    "                'segmental branch angle']\n",
    "featureNum = len(featureNames)\n",
    "\n",
    "masterFeature = getFeatureImportance(3, featureNum)"
   ]
  },
  {
   "cell_type": "code",
   "execution_count": 19,
   "metadata": {},
   "outputs": [
    {
     "data": {
      "image/png": "[encoded data removed]",
      "text/plain": [
       "<matplotlib.figure.Figure at 0x1883885c0>"
      ]
     },
     "metadata": {},
     "output_type": "display_data"
    }
   ],
   "source": [
    "\"\"\"\n",
    "This cell uses the getFeatureImportance funtion to get a large amount of data and graph the\n",
    "results on a bar graph\n",
    "\"\"\"\n",
    "\n",
    "values = np.zeros([3,featureNum])\n",
    "for i in range(0,featureNum) :\n",
    "    values[0,i] = masterFeature[i,:].mean()\n",
    "    values[1,i] = masterFeature[i,:].std()\n",
    "featureNames = np.vstack(featureNames)\n",
    "index = np.argsort(values[0,:])\n",
    "values[2] = index\n",
    "featureRange = np.linspace(0,featureNum-1,featureNum)\n",
    "plt.bar(featureRange,values[0,index], yerr = values[1,index])\n",
    "plt.xticks(featureRange,featureNames[index,0], rotation='vertical')\n",
    "plt.subplots_adjust(bottom=0.15)\n",
    "\n",
    "plt.savefig('/Users/anirudhnatarajan/Documents/UPenn/Images/featureImportanceTreeVsNeuron.eps', dpi=300, bbox_inches = 'tight')\n",
    "plt.savefig('/Users/anirudhnatarajan/Documents/UPenn/Images/featureImportanceTreeVsNeuron.png', dpi=300, bbox_inches = 'tight')"
   ]
  },
  {
   "cell_type": "code",
   "execution_count": 12,
   "metadata": {
    "collapsed": true
   },
   "outputs": [],
   "source": [
    "\"\"\"\n",
    "Try out any of the following classifiers by uncommenting a line!\n",
    "\"\"\"\n",
    "\n",
    "#clf = svm.SVC()\n",
    "#clf = RandomForestClassifier()\n",
    "clf = ExtraTreesClassifier()\n",
    "#clf = DecisionTreeClassifier()\n",
    "#clf = GradientBoostingClassifier()\n",
    "#clf = BaggingClassifier()\n",
    "#clf = BaggingClassifier(ExtraTreesClassifier())\n",
    "#clf = neighbors.KNeighborsClassifier()\n",
    "#clf = SGDClassifier()\n",
    "#clf = MLPClassifier()\n",
    "#clf = GaussianNB()\n",
    "#clf = linear_model.LinearRegression()"
   ]
  },
  {
   "cell_type": "code",
   "execution_count": 14,
   "metadata": {},
   "outputs": [
    {
     "name": "stdout",
     "output_type": "stream",
     "text": [
      "1.0 90\n"
     ]
    }
   ],
   "source": [
    "\"\"\"\n",
    "Train the classifier and print the accuracy\n",
    "\"\"\"\n",
    "\n",
    "train = np.concatenate((trainA,trainP,trainS,trainB,trainT,trainG,trainH,trainU,trainW))\n",
    "test = np.concatenate((testA,testP,testS,testB,testT,testG,testH,testU,testW))\n",
    "\n",
    "accuracy = 0\n",
    "y = np.concatenate(([0] * size*5,[1] * size*4))\n",
    "clf.fit(train,y)\n",
    "z = clf.predict(test)\n",
    "\n",
    "sum = 0\n",
    "parts = 2\n",
    "length = 0\n",
    "for i in range (0,parts) :\n",
    "    for j in range (0,len(np.where(y==i)[0])) :\n",
    "        if z[j + length] == i :\n",
    "            sum += 1\n",
    "    length += len(np.where(y==i)[0])\n",
    "accuracy = sum / len(z)\n",
    "print(accuracy, sum)"
   ]
  },
  {
   "cell_type": "code",
   "execution_count": 15,
   "metadata": {},
   "outputs": [
    {
     "name": "stdout",
     "output_type": "stream",
     "text": [
      "50\n",
      "40\n"
     ]
    },
    {
     "data": {
      "image/png": "[encoded data removed]",
      "text/plain": [
       "<matplotlib.figure.Figure at 0x189a929e8>"
      ]
     },
     "metadata": {},
     "output_type": "display_data"
    }
   ],
   "source": [
    "\"\"\"\n",
    "This histogram gives you the breakdown of what the classifier predicted on the test values\n",
    "\"\"\"\n",
    "\n",
    "plt.hist(z)\n",
    "print(len(np.where(z == 0)[0]))\n",
    "print(len(np.where(z == 1)[0]))"
   ]
  },
  {
   "cell_type": "code",
   "execution_count": 16,
   "metadata": {
    "scrolled": true
   },
   "outputs": [
    {
     "name": "stdout",
     "output_type": "stream",
     "text": [
      "[t-SNE] Computing 89 nearest neighbors...\n",
      "[t-SNE] Indexed 90 samples in 0.001s...\n",
      "[t-SNE] Computed neighbors for 90 samples in 0.002s...\n",
      "[t-SNE] Computed conditional probabilities for sample 90 / 90\n",
      "[t-SNE] Mean sigma: 2867.520009\n",
      "[t-SNE] Computed conditional probabilities in 0.009s\n",
      "[t-SNE] Iteration 50: error = 52.8120499, gradient norm = 0.4694596 (50 iterations in 0.093s)\n",
      "[t-SNE] Iteration 100: error = 53.1758919, gradient norm = 0.4552033 (50 iterations in 0.077s)\n",
      "[t-SNE] Iteration 150: error = 52.1666565, gradient norm = 0.5951982 (50 iterations in 0.079s)\n",
      "[t-SNE] Iteration 200: error = 50.3052711, gradient norm = 0.6011702 (50 iterations in 0.076s)\n",
      "[t-SNE] Iteration 250: error = 50.1212692, gradient norm = 0.5911282 (50 iterations in 0.074s)\n",
      "[t-SNE] KL divergence after 250 iterations with early exaggeration: 50.121269\n",
      "[t-SNE] Iteration 300: error = 0.6909859, gradient norm = 0.0066492 (50 iterations in 0.075s)\n",
      "[t-SNE] Iteration 350: error = 0.3649688, gradient norm = 0.0054645 (50 iterations in 0.087s)\n",
      "[t-SNE] Iteration 400: error = 0.3001738, gradient norm = 0.0032904 (50 iterations in 0.086s)\n",
      "[t-SNE] Iteration 450: error = 0.2683951, gradient norm = 0.0018546 (50 iterations in 0.087s)\n",
      "[t-SNE] Iteration 500: error = 0.2872050, gradient norm = 0.0031095 (50 iterations in 0.082s)\n",
      "[t-SNE] Iteration 550: error = 0.2380704, gradient norm = 0.0103516 (50 iterations in 0.076s)\n",
      "[t-SNE] Iteration 600: error = 0.1971984, gradient norm = 0.0024246 (50 iterations in 0.079s)\n",
      "[t-SNE] Iteration 650: error = 0.1892874, gradient norm = 0.0002165 (50 iterations in 0.074s)\n",
      "[t-SNE] Iteration 700: error = 0.1877926, gradient norm = 0.0004560 (50 iterations in 0.072s)\n",
      "[t-SNE] Iteration 750: error = 0.1855802, gradient norm = 0.0002008 (50 iterations in 0.073s)\n",
      "[t-SNE] Iteration 800: error = 0.1829886, gradient norm = 0.0003976 (50 iterations in 0.085s)\n",
      "[t-SNE] Iteration 850: error = 0.1772452, gradient norm = 0.0006456 (50 iterations in 0.074s)\n",
      "[t-SNE] Iteration 900: error = 0.1609845, gradient norm = 0.0024982 (50 iterations in 0.072s)\n",
      "[t-SNE] Iteration 950: error = 0.0675316, gradient norm = 0.0108222 (50 iterations in 0.070s)\n",
      "[t-SNE] Iteration 1000: error = 0.0444506, gradient norm = 0.0016927 (50 iterations in 0.081s)\n",
      "[t-SNE] Error after 1000 iterations: 0.044451\n"
     ]
    },
    {
     "data": {
      "text/plain": [
       "<matplotlib.collections.PathCollection at 0x189219ba8>"
      ]
     },
     "execution_count": 16,
     "metadata": {},
     "output_type": "execute_result"
    },
    {
     "data": {
      "image/png": "[encoded data removed]",
      "text/plain": [
       "<matplotlib.figure.Figure at 0x18c0e9f98>"
      ]
     },
     "metadata": {},
     "output_type": "display_data"
    }
   ],
   "source": [
    "from sklearn.manifold import TSNE\n",
    "X_embedded = TSNE(n_components=2, verbose=2).fit_transform(train)\n",
    "plt.scatter(X_embedded[:,0], X_embedded[:,1], c=y, marker='x')\n",
    "#plt.savefig('/Users/anirudhnatarajan/Documents/UPenn/Misc/treeNeuronClassificationTSNE.eps')"
   ]
  },
  {
   "cell_type": "code",
   "execution_count": 20,
   "metadata": {},
   "outputs": [
    {
     "data": {
      "image/png": "[encoded data removed]",
      "text/plain": [
       "<matplotlib.figure.Figure at 0x18c0e9eb8>"
      ]
     },
     "metadata": {},
     "output_type": "display_data"
    }
   ],
   "source": [
    "from sklearn.decomposition import PCA\n",
    "pca = PCA(n_components=2)\n",
    "pca.fit(train,y)\n",
    "X_embedded = pca.fit_transform(train,y)\n",
    "\n",
    "fig,ax = plt.subplots(1)\n",
    "ax.scatter(X_embedded[:,0], X_embedded[:,1], c=y, s=1)\n",
    "ax.set_yticks([])\n",
    "ax.set_yticklabels([])\n",
    "ax.set_xticks([])\n",
    "ax.set_xticklabels([])\n",
    "fig.dpi=300\n",
    "\n",
    "# fig.savefig('/Users/anirudhnatarajan/Documents/UPenn/Images/treeNeuronClassificationPCA.eps')\n",
    "# fig.savefig('/Users/anirudhnatarajan/Documents/UPenn/Images/treeNeuronClassificationPCA.png')"
   ]
  },
  {
   "cell_type": "code",
   "execution_count": null,
   "metadata": {
    "collapsed": true
   },
   "outputs": [],
   "source": []
  }
 ],
 "metadata": {
  "kernelspec": {
   "display_name": "Python 3",
   "language": "python",
   "name": "python3"
  },
  "language_info": {
   "codemirror_mode": {
    "name": "ipython",
    "version": 3
   },
   "file_extension": ".py",
   "mimetype": "text/x-python",
   "name": "python",
   "nbconvert_exporter": "python",
   "pygments_lexer": "ipython3",
   "version": "3.6.2"
  }
 },
 "nbformat": 4,
 "nbformat_minor": 2
}
