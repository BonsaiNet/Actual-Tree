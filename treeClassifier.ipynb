{
 "cells": [
  {
   "cell_type": "markdown",
   "metadata": {},
   "source": [
    "# Tree Classifier\n",
    "Welcome to the tree classifier notebook!"
   ]
  },
  {
   "cell_type": "code",
   "execution_count": 1,
   "metadata": {
    "collapsed": true
   },
   "outputs": [],
   "source": [
    "#These are the needed modules\n",
    "\n",
    "import sys\n",
    "#change these paths to where they are located on your computer\n",
    "sys.path.append(\"/Users/anirudhnatarajan/Documents/UPenn/McNeuron\")\n",
    "sys.path.append(\"/Users/anirudhnatarajan/Documents/UPenn/Actual Trees\")\n",
    "import McNeuron\n",
    "import pickle\n",
    "from random import randint\n",
    "import numpy as np\n",
    "import matplotlib.pyplot as plt\n",
    "import Atree\n",
    "import math\n",
    "%matplotlib inline"
   ]
  },
  {
   "cell_type": "markdown",
   "metadata": {},
   "source": [
    "## Getting the data\n",
    "Get the data and reformat it for easier use."
   ]
  },
  {
   "cell_type": "code",
   "execution_count": 2,
   "metadata": {
    "collapsed": true,
    "scrolled": true
   },
   "outputs": [],
   "source": [
    "# IF THIS IS YOUR FIRST TIME RUNNING TREE CLASSIFIER, UNCOMMENT THESE 2 LINES. ELSE, LEAVE THEM COMMENTED\n",
    "\n",
    "\n",
    "\n",
    "# tree_data = Atree.data_util.pandas_non_missing()\n",
    "# pickle.dump(tree_data, open('.././trees/tree_data.csv', 'wb'))"
   ]
  },
  {
   "cell_type": "code",
   "execution_count": 3,
   "metadata": {
    "collapsed": true
   },
   "outputs": [],
   "source": [
    "tree_data = pickle.load(open('.././trees/tree_data.csv', 'rb'))"
   ]
  },
  {
   "cell_type": "code",
   "execution_count": 4,
   "metadata": {
    "collapsed": true
   },
   "outputs": [],
   "source": [
    "trees = tree_data.sort_values(['location'])\n",
    "trees = trees.reset_index(drop=True)"
   ]
  },
  {
   "cell_type": "markdown",
   "metadata": {},
   "source": [
    "## Convert the data into a usable format\n",
    "Organize the data into the format needed to preform classification"
   ]
  },
  {
   "cell_type": "code",
   "execution_count": 291,
   "metadata": {
    "collapsed": true
   },
   "outputs": [],
   "source": [
    "\"\"\"\n",
    "\n",
    "FUNCTION\n",
    "--------\n",
    "splitTrees is used to quickly and efficiently split the data into usable chunks\n",
    "\n",
    "\n",
    "PARAMETERS\n",
    "----------\n",
    "location - the name of the location where the tree is from, matches exactly with the trees dataset, and is a string\n",
    "\n",
    "\n",
    "RETURNS\n",
    "-------\n",
    "splitTrees returns 2 lists of equal size that contain proper training and testing data\n",
    "\n",
    "\"\"\"\n",
    "\n",
    "def splitTrees(location) :\n",
    "    ind = np.where(trees['location']==location)[0]\n",
    "    \n",
    "    train = [0] * size\n",
    "    test = [0] * size\n",
    "    rand = np.linspace(0,totalTrees-1,totalTrees)\n",
    "    \n",
    "    for i in range (0,size) :\n",
    "        r = randint(0,len(rand)-1)\n",
    "        neuron = McNeuron.Neuron(trees['swc'][ind[int(rand[r])]])\n",
    "        rand = np.delete(rand,r)\n",
    "        neuron.l_measure_features()\n",
    "        train[i] = neuron.getNeuronVector()\n",
    "    \n",
    "#     print('half')\n",
    "    for i in range (0,size) :\n",
    "        r = randint(0,len(rand)-1)\n",
    "        neuron = McNeuron.Neuron(trees['swc'][ind[int(rand[r])]])\n",
    "        rand = np.delete(rand,r)\n",
    "        neuron.l_measure_features()\n",
    "        test[i] = neuron.getNeuronVector()\n",
    "        \n",
    "#     print('done')\n",
    "    return train,test"
   ]
  },
  {
   "cell_type": "code",
   "execution_count": 294,
   "metadata": {
    "scrolled": true
   },
   "outputs": [],
   "source": [
    "totalTrees = 20\n",
    "size = int(totalTrees/2)\n",
    "\n",
    "trainG, testG = splitTrees('Gabon')\n",
    "trainH, testH = splitTrees('Ghana')\n",
    "trainU, testU = splitTrees('UK')\n",
    "trainW, testW = splitTrees('Wytham Meteoc (UK)')"
   ]
  },
  {
   "cell_type": "markdown",
   "metadata": {},
   "source": [
    "## Classification\n",
    "Use the data to train a classifier, and then test its accuracy"
   ]
  },
  {
   "cell_type": "code",
   "execution_count": 7,
   "metadata": {
    "collapsed": true
   },
   "outputs": [],
   "source": [
    "from sklearn import svm\n",
    "from sklearn.ensemble import RandomForestClassifier\n",
    "from sklearn.ensemble import ExtraTreesClassifier\n",
    "from sklearn.tree import DecisionTreeClassifier\n",
    "from sklearn.ensemble import GradientBoostingClassifier\n",
    "from sklearn.ensemble import BaggingClassifier\n",
    "from sklearn import neighbors\n",
    "from sklearn.linear_model import SGDClassifier\n",
    "from sklearn.neural_network import MLPClassifier\n",
    "from sklearn.naive_bayes import GaussianNB\n",
    "from sklearn import linear_model"
   ]
  },
  {
   "cell_type": "code",
   "execution_count": 8,
   "metadata": {
    "collapsed": true
   },
   "outputs": [],
   "source": [
    "\"\"\"\n",
    "\n",
    "FUNCTION\n",
    "--------\n",
    "subsetData is used to split the data into lists with only 1 classifying feature in order to\n",
    "test how important each feature is individually for classification\n",
    "\n",
    "\n",
    "PARAMETERS\n",
    "----------\n",
    "arr - the master array that contains all the feautres\n",
    "q - the index of the desired feature\n",
    "\n",
    "\n",
    "RETURNS\n",
    "-------\n",
    "subsetData returns an array with only 1 classifying feature\n",
    "\n",
    "\"\"\"\n",
    "\n",
    "def subsetData(arr,q):\n",
    "    x = [0] * size\n",
    "    for i in range(0,size) :\n",
    "        x[i] = arr[i][q]\n",
    "    return x"
   ]
  },
  {
   "cell_type": "code",
   "execution_count": 368,
   "metadata": {
    "scrolled": true
   },
   "outputs": [
    {
     "name": "stdout",
     "output_type": "stream",
     "text": [
      "0.35 0\n",
      "0.6 1\n",
      "0.65 2\n",
      "0.25 3\n",
      "0.25 4\n",
      "0.25 5\n",
      "0.475 6\n",
      "0.25 7\n",
      "0.25 8\n",
      "0.175 9\n",
      "0.3 10\n",
      "0.475 11\n",
      "0.475 12\n",
      "0.575 13\n",
      "0.575 14\n",
      "0.425 15\n",
      "0.55 16\n",
      "0.7 17\n",
      "0.45 18\n",
      "0.35 19\n",
      "0.5 20\n",
      "0.525 21\n"
     ]
    }
   ],
   "source": [
    "\"\"\"\n",
    "This for loop iterates through all of the feaures and prints the accuracy\n",
    "\"\"\"\n",
    "for q in range(0,22) :\n",
    "    a = subsetData(trainG,q)\n",
    "    b = subsetData(trainH,q)\n",
    "    c = subsetData(trainU,q)\n",
    "    d = subsetData(trainW,q)\n",
    "    e = subsetData(testG,q)\n",
    "    f = subsetData(testH,q)\n",
    "    g = subsetData(testU,q)\n",
    "    h = subsetData(testW,q)\n",
    "    train = np.expand_dims(np.concatenate((a,b,c,d)),axis=1)\n",
    "    test = np.expand_dims(np.concatenate((e,f,g,h)),axis=1)\n",
    "\n",
    "    y = np.concatenate(([0] * size,[1] * size,[2] * size,[3] * size))\n",
    "    clf = BaggingClassifier()\n",
    "    clf.fit(train,y)\n",
    "    z = clf.predict(test)\n",
    "    sum = 0\n",
    "    parts = 4\n",
    "    for i in range (0,parts) :\n",
    "        for j in range (0,size) :\n",
    "            if z[j + size*i] == i :\n",
    "                sum += 1\n",
    "    accuracy = sum / len(z)\n",
    "    print(accuracy,q)"
   ]
  },
  {
   "cell_type": "code",
   "execution_count": 373,
   "metadata": {
    "collapsed": true
   },
   "outputs": [],
   "source": [
    "\"\"\"\n",
    "\n",
    "FUNCTION\n",
    "--------\n",
    "getFeatureImportance uses the subsetData function to generate a matrix with a large number of\n",
    "individual feature accuracies.\n",
    "\n",
    "\n",
    "PARAMETERS\n",
    "----------\n",
    "length - how many times the function will get new data and test the accuracy of individual\n",
    "features\n",
    "featureNum - the number of features needed to be tested\n",
    "\n",
    "\n",
    "RETURNS\n",
    "-------\n",
    "getFeatureImportance returns a matrix of shape (featureNum,length) with all values filled with\n",
    "the accuracy of each feature\n",
    "\n",
    "\"\"\"\n",
    "\n",
    "def getFeatureImportance(length, featureNum) :\n",
    "    masterFeature = np.zeros([featureNum, length])\n",
    "    for l in range (0,length) :\n",
    "        trainG, testG = splitTrees('Gabon')\n",
    "        trainH, testH = splitTrees('Ghana')\n",
    "        trainU, testU = splitTrees('UK')\n",
    "        trainW, testW = splitTrees('Wytham Meteoc (UK)')\n",
    "\n",
    "        for q in range(0,featureNum) :\n",
    "            a = subsetData(trainG,q)\n",
    "            b = subsetData(trainH,q)\n",
    "            c = subsetData(trainU,q)\n",
    "            d = subsetData(trainW,q)\n",
    "            e = subsetData(testG,q)\n",
    "            f = subsetData(testH,q)\n",
    "            g = subsetData(testU,q)\n",
    "            h = subsetData(testW,q)\n",
    "            train = np.expand_dims(np.concatenate((a,b,c,d)),axis=1)\n",
    "            test = np.expand_dims(np.concatenate((e,f,g,h)),axis=1)\n",
    "\n",
    "            y = np.concatenate(([0] * size,[1] * size,[2] * size,[3] * size))\n",
    "            clf = BaggingClassifier()\n",
    "            clf.fit(train,y)\n",
    "            z = clf.predict(test)\n",
    "            sum = 0\n",
    "            parts = 4\n",
    "            for i in range (0,parts) :\n",
    "                for j in range (0,size) :\n",
    "                    if z[j + size*i] == i :\n",
    "                        sum += 1\n",
    "            accuracy = sum / len(z)\n",
    "            masterFeature[q, l] = accuracy\n",
    "        print(l)\n",
    "    return masterFeature"
   ]
  },
  {
   "cell_type": "code",
   "execution_count": 370,
   "metadata": {},
   "outputs": [
    {
     "name": "stdout",
     "output_type": "stream",
     "text": [
      "0\n",
      "1\n",
      "2\n",
      "3\n",
      "4\n",
      "5\n",
      "6\n",
      "7\n",
      "8\n",
      "9\n",
      "10\n",
      "11\n",
      "12\n",
      "13\n",
      "14\n",
      "15\n",
      "16\n",
      "17\n",
      "18\n",
      "19\n",
      "20\n",
      "21\n",
      "22\n",
      "23\n",
      "24\n",
      "25\n",
      "26\n",
      "27\n",
      "28\n",
      "29\n",
      "30\n",
      "31\n",
      "32\n",
      "33\n",
      "34\n",
      "35\n",
      "36\n",
      "37\n",
      "38\n",
      "39\n",
      "40\n",
      "41\n",
      "42\n",
      "43\n",
      "44\n",
      "45\n",
      "46\n",
      "47\n",
      "48\n",
      "49\n",
      "50\n",
      "51\n",
      "52\n",
      "53\n",
      "54\n",
      "55\n",
      "56\n",
      "57\n",
      "58\n",
      "59\n",
      "60\n",
      "61\n",
      "62\n",
      "63\n",
      "64\n",
      "65\n",
      "66\n",
      "67\n",
      "68\n",
      "69\n",
      "70\n",
      "71\n",
      "72\n",
      "73\n",
      "74\n",
      "75\n",
      "76\n",
      "77\n",
      "78\n",
      "79\n",
      "80\n",
      "81\n",
      "82\n",
      "83\n",
      "84\n",
      "85\n",
      "86\n",
      "87\n",
      "88\n",
      "89\n",
      "90\n",
      "91\n",
      "92\n",
      "93\n",
      "94\n",
      "95\n",
      "96\n",
      "97\n",
      "98\n",
      "99\n"
     ]
    },
    {
     "data": {
      "image/png": "[encoded data removed]",
      "text/plain": [
       "<matplotlib.figure.Figure at 0x1228fc4e0>"
      ]
     },
     "metadata": {},
     "output_type": "display_data"
    }
   ],
   "source": [
    "\"\"\"\n",
    "This cell uses the getFeatureImportance funtion to get a large amount of data and graph the\n",
    "results on a bar graph\n",
    "\"\"\"\n",
    "featureNames = ['Width X', 'Height Y', 'Depth Z', 'Soma X Position', \\\n",
    "                'Soma Y Position', 'Soma Z Position', 'Soma Radii', \\\n",
    "                'Soma Surface Area', 'Soma Volume', 'Skewness X', \\\n",
    "                'Skewness Y', 'Skewness Z', 'Euclidian Skewness', \\\n",
    "                'Length', 'Surface Area', 'Section Area', 'Volume', \\\n",
    "                'Average Radius', 'Tips', 'Stems', 'Branch Pt', 'Segments']           \n",
    "featureNum = len(featureNames)\n",
    "\n",
    "masterFeature = getFeatureImportance(100, featureNum)\n",
    "values = np.zeros([2,featureNum])\n",
    "for i in range(0,featureNum) :\n",
    "    values[0,i] = masterFeature[i,:].mean()\n",
    "    values[1,i] = masterFeature[i,:].std()\n",
    "featureNames = np.vstack(featureNames)\n",
    "index = np.argsort(values[0,:])\n",
    "featureRange = np.linspace(0,featureNum-1,featureNum)\n",
    "plt.bar(featureRange,values[0,index], yerr = values[1,index])\n",
    "plt.xticks(featureRange,featureNames[index,0], rotation='vertical')\n",
    "plt.subplots_adjust(bottom=0.15)\n",
    "\n",
    "plt.savefig('/Users/anirudhnatarajan/Documents/UPenn/Misc/feature_importance.eps')"
   ]
  },
  {
   "cell_type": "code",
   "execution_count": 24,
   "metadata": {
    "collapsed": true
   },
   "outputs": [],
   "source": [
    "\"\"\"\n",
    "Convert the lists into numpy arrays and concatenate them to create 1 big test and train array\n",
    "\"\"\"\n",
    "\n",
    "trainG = np.vstack(trainG)\n",
    "trainH = np.vstack(trainH)\n",
    "trainU = np.vstack(trainU)\n",
    "trainW = np.vstack(trainW)\n",
    "testG = np.vstack(testG)\n",
    "testH = np.vstack(testH)\n",
    "testU = np.vstack(testU)\n",
    "testW = np.vstack(testW)\n",
    "\n",
    "\n",
    "train = np.concatenate((trainG,trainH,trainU,trainW))\n",
    "test = np.concatenate((testG,testH,testU,testW))\n",
    "y = np.concatenate(([0] * size,[1] * size,[2] * size,[3] * size))"
   ]
  },
  {
   "cell_type": "code",
   "execution_count": 11,
   "metadata": {
    "collapsed": true
   },
   "outputs": [],
   "source": [
    "\"\"\"\n",
    "Try out any of the following classifiers by uncommenting a line!\n",
    "\"\"\"\n",
    "\n",
    "#clf = svm.SVC()\n",
    "#clf = RandomForestClassifier()\n",
    "#clf = ExtraTreesClassifier()\n",
    "#clf = DecisionTreeClassifier()\n",
    "#clf = GradientBoostingClassifier()\n",
    "#clf = BaggingClassifier()\n",
    "clf = BaggingClassifier(DecisionTreeClassifier())\n",
    "#clf = neighbors.KNeighborsClassifier()\n",
    "#clf = SGDClassifier()\n",
    "#clf = MLPClassifier()\n",
    "#clf = GaussianNB()\n",
    "#clf = linear_model.LinearRegression()"
   ]
  },
  {
   "cell_type": "code",
   "execution_count": 12,
   "metadata": {},
   "outputs": [
    {
     "name": "stdout",
     "output_type": "stream",
     "text": [
      "38 0.95\n"
     ]
    }
   ],
   "source": [
    "\"\"\"\n",
    "Train the classifier and print the accuracy\n",
    "\"\"\"\n",
    "\n",
    "clf.fit(train,y)\n",
    "z = clf.predict(test)\n",
    "\n",
    "sum = 0\n",
    "parts = 4\n",
    "for i in range (0,parts) :\n",
    "    for j in range (0,size) :\n",
    "        if z[j + size*i] == i :\n",
    "            sum += 1\n",
    "        #else :\n",
    "            #print(j + size*i)\n",
    "accuracy = sum / len(z)\n",
    "print(sum, accuracy)"
   ]
  },
  {
   "cell_type": "markdown",
   "metadata": {},
   "source": [
    "## Data Visualization\n",
    "Plot the results and the data to get a better understanding of the classification"
   ]
  },
  {
   "cell_type": "code",
   "execution_count": 13,
   "metadata": {},
   "outputs": [
    {
     "name": "stdout",
     "output_type": "stream",
     "text": [
      "10\n",
      "10\n",
      "10\n",
      "10\n"
     ]
    },
    {
     "data": {
      "image/png": "[encoded data removed]",
      "text/plain": [
       "<matplotlib.figure.Figure at 0x11b47b7f0>"
      ]
     },
     "metadata": {},
     "output_type": "display_data"
    }
   ],
   "source": [
    "\"\"\"\n",
    "This histogram gives you the breakdown of what the classifier predicted on the test values\n",
    "\"\"\"\n",
    "\n",
    "plt.hist(z)\n",
    "print(len(np.where(z == 0)[0]))\n",
    "print(len(np.where(z == 1)[0]))\n",
    "print(len(np.where(z == 2)[0]))\n",
    "print(len(np.where(z == 3)[0]))"
   ]
  },
  {
   "cell_type": "markdown",
   "metadata": {},
   "source": [
    "### TSNE\n",
    "Visualize the training data using TSNE"
   ]
  },
  {
   "cell_type": "code",
   "execution_count": 25,
   "metadata": {
    "scrolled": true
   },
   "outputs": [
    {
     "name": "stdout",
     "output_type": "stream",
     "text": [
      "[t-SNE] Computing 39 nearest neighbors...\n",
      "[t-SNE] Indexed 40 samples in 0.000s...\n",
      "[t-SNE] Computed neighbors for 40 samples in 0.001s...\n",
      "[t-SNE] Computed conditional probabilities for sample 40 / 40\n",
      "[t-SNE] Mean sigma: 4620.888226\n",
      "[t-SNE] Computed conditional probabilities in 0.004s\n",
      "[t-SNE] Iteration 50: error = 45.9064789, gradient norm = 0.4995142 (50 iterations in 0.040s)\n",
      "[t-SNE] Iteration 100: error = 44.5691338, gradient norm = 0.4825353 (50 iterations in 0.030s)\n",
      "[t-SNE] Iteration 150: error = 44.3120537, gradient norm = 0.5036303 (50 iterations in 0.025s)\n",
      "[t-SNE] Iteration 200: error = 46.7795296, gradient norm = 0.4320504 (50 iterations in 0.027s)\n",
      "[t-SNE] Iteration 250: error = 43.2390404, gradient norm = 0.5599756 (50 iterations in 0.026s)\n",
      "[t-SNE] KL divergence after 250 iterations with early exaggeration: 43.239040\n",
      "[t-SNE] Iteration 300: error = 0.7761282, gradient norm = 0.0012118 (50 iterations in 0.024s)\n",
      "[t-SNE] Iteration 350: error = 0.6375360, gradient norm = 0.0006212 (50 iterations in 0.027s)\n",
      "[t-SNE] Iteration 400: error = 0.5952570, gradient norm = 0.0001925 (50 iterations in 0.023s)\n",
      "[t-SNE] Iteration 450: error = 0.5753645, gradient norm = 0.0002064 (50 iterations in 0.024s)\n",
      "[t-SNE] Iteration 500: error = 0.5327216, gradient norm = 0.0002869 (50 iterations in 0.024s)\n",
      "[t-SNE] Iteration 550: error = 0.4668709, gradient norm = 0.0003359 (50 iterations in 0.023s)\n",
      "[t-SNE] Iteration 600: error = 0.4405762, gradient norm = 0.0003559 (50 iterations in 0.024s)\n",
      "[t-SNE] Iteration 650: error = 0.4191992, gradient norm = 0.0001976 (50 iterations in 0.023s)\n",
      "[t-SNE] Iteration 700: error = 0.4096215, gradient norm = 0.0001367 (50 iterations in 0.023s)\n",
      "[t-SNE] Iteration 750: error = 0.3892848, gradient norm = 0.0001828 (50 iterations in 0.027s)\n",
      "[t-SNE] Iteration 800: error = 0.3761803, gradient norm = 0.0001478 (50 iterations in 0.025s)\n",
      "[t-SNE] Iteration 850: error = 0.3660175, gradient norm = 0.0001679 (50 iterations in 0.023s)\n",
      "[t-SNE] Iteration 900: error = 0.3609443, gradient norm = 0.0000867 (50 iterations in 0.024s)\n",
      "[t-SNE] Iteration 950: error = 0.3562976, gradient norm = 0.0000757 (50 iterations in 0.023s)\n",
      "[t-SNE] Iteration 1000: error = 0.3531612, gradient norm = 0.0000566 (50 iterations in 0.022s)\n",
      "[t-SNE] Error after 1000 iterations: 0.353161\n"
     ]
    },
    {
     "data": {
      "text/plain": [
       "<matplotlib.collections.PathCollection at 0x11e93ee48>"
      ]
     },
     "execution_count": 25,
     "metadata": {},
     "output_type": "execute_result"
    },
    {
     "data": {
      "image/png": "[encoded data removed]",
      "text/plain": [
       "<matplotlib.figure.Figure at 0x11ea62f28>"
      ]
     },
     "metadata": {},
     "output_type": "display_data"
    }
   ],
   "source": [
    "from sklearn.manifold import TSNE\n",
    "X_embedded = TSNE(n_components=2, verbose=2).fit_transform(train)\n",
    "plt.scatter(X_embedded[:,0], X_embedded[:,1], c=y, marker='x')"
   ]
  },
  {
   "cell_type": "markdown",
   "metadata": {},
   "source": [
    "### PCA\n",
    "Visualize the training data using PCA"
   ]
  },
  {
   "cell_type": "code",
   "execution_count": 16,
   "metadata": {},
   "outputs": [
    {
     "data": {
      "text/plain": [
       "<matplotlib.collections.PathCollection at 0x11e900e80>"
      ]
     },
     "execution_count": 16,
     "metadata": {},
     "output_type": "execute_result"
    },
    {
     "data": {
      "image/png": "[encoded data removed]",
      "text/plain": [
       "<matplotlib.figure.Figure at 0x11e7feb70>"
      ]
     },
     "metadata": {},
     "output_type": "display_data"
    }
   ],
   "source": [
    "from sklearn.decomposition import PCA\n",
    "pca = PCA(n_components=2)\n",
    "pca.fit(train,y)\n",
    "X_embedded = pca.fit_transform(train,y)\n",
    "\n",
    "plt.scatter(X_embedded[:,0], X_embedded[:,1], c=y, marker='x')"
   ]
  },
  {
   "cell_type": "code",
   "execution_count": null,
   "metadata": {
    "collapsed": true
   },
   "outputs": [],
   "source": []
  },
  {
   "cell_type": "code",
   "execution_count": null,
   "metadata": {
    "collapsed": true
   },
   "outputs": [],
   "source": []
  },
  {
   "cell_type": "code",
   "execution_count": null,
   "metadata": {
    "collapsed": true
   },
   "outputs": [],
   "source": []
  }
 ],
 "metadata": {
  "kernelspec": {
   "display_name": "Python 3",
   "language": "python",
   "name": "python3"
  },
  "language_info": {
   "codemirror_mode": {
    "name": "ipython",
    "version": 3
   },
   "file_extension": ".py",
   "mimetype": "text/x-python",
   "name": "python",
   "nbconvert_exporter": "python",
   "pygments_lexer": "ipython3",
   "version": "3.6.2"
  }
 },
 "nbformat": 4,
 "nbformat_minor": 1
}
